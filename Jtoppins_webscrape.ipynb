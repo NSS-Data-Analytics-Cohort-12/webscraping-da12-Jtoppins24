{
 "cells": [
  {
   "cell_type": "markdown",
   "id": "abe1bfc2-57c0-478e-a6b3-e6c5f16dc945",
   "metadata": {},
   "source": [
    "## Webscraping\n",
    "\n",
    "In this exercise, you'll practice using BeautifulSoup to parse the content of a web page. The page that you'll be scraping, https://realpython.github.io/fake-jobs/, contains job listings. Your job is to extract the data on each job and convert into a pandas DataFrame."
   ]
  },
  {
   "cell_type": "code",
   "execution_count": 1,
   "id": "fc2c1abc-18a9-4c16-ae22-d84dc0679788",
   "metadata": {},
   "outputs": [],
   "source": [
    "import requests"
   ]
  },
  {
   "cell_type": "markdown",
   "id": "c1489a4e-ddb0-46ba-b6f9-c7cc4c2356a4",
   "metadata": {},
   "source": [
    "1. Start by performing a GET request on the url above and convert the response into a BeautifulSoup object.  "
   ]
  },
  {
   "cell_type": "code",
   "execution_count": 4,
   "id": "2fecfb37-9153-4b13-b3d2-36f18b39c7c5",
   "metadata": {},
   "outputs": [],
   "source": [
    "url = 'https://realpython.github.io/fake-jobs/'\n",
    "\n",
    "response = requests.get(url)"
   ]
  },
  {
   "cell_type": "code",
   "execution_count": 6,
   "id": "725472fe-d5c6-4b88-a7ca-db71049a73bb",
   "metadata": {},
   "outputs": [
    {
     "data": {
      "text/plain": [
       "requests.models.Response"
      ]
     },
     "execution_count": 6,
     "metadata": {},
     "output_type": "execute_result"
    }
   ],
   "source": [
    "type(response)"
   ]
  },
  {
   "cell_type": "code",
   "execution_count": 8,
   "id": "59f2ac6a-78ed-40ed-b099-9b8914220b29",
   "metadata": {},
   "outputs": [
    {
     "data": {
      "text/plain": [
       "'<!DOCTYPE html>\\n<html>\\n  <head>\\n    <meta charset=\"utf-8\">\\n    <meta name=\"viewport\" content=\"width=device-width, initial-scale=1\">\\n    <title>Fake Python</title>\\n    <link rel=\"stylesheet\" href=\"https://cdn.jsdelivr.net/npm/bulma@0.9.2/css/bulma.min.css\">\\n  </head>\\n  <body>\\n  <section class=\"section\">\\n    <div class=\"container mb-5\">\\n      <h1 class=\"title is-1\">\\n        Fake Python\\n      </h1>\\n      <p class=\"subtitle is-3\">\\n        Fake Jobs for Your Web Scraping Journey\\n      </p>\\n    </div>\\n    <div class=\"container\">\\n    <div id=\"ResultsContainer\" class=\"columns is-multiline\">\\n    <div class=\"column is-half\">\\n<div class=\"card\">\\n  <div class=\"card-content\">\\n    <div class=\"media\">\\n      <div class=\"media-left\">\\n        <figure class=\"image is-48x48\">\\n          <img src=\"https://files.realpython.com/media/real-python-logo-thumbnail.7f0db70c2ed2.jpg?__no_cf_polish=1\" alt=\"Real Python Logo\">\\n        </figure>\\n      </div>\\n      <div class=\"media-content\">\\n        <h2 class=\"title is-5\">Senior Python Developer</h2>\\n        <h3 class=\"subtitle is-6 company\">Payne, Roberts and Davis</h3>\\n      </div>\\n    </div>\\n\\n    <div class=\"content\">\\n      <p class=\"location\">\\n        Stewartbury, AA\\n      </p>\\n      <p class=\"is-small has-text-grey\">\\n        <time datetime=\"2021-04-08\">2021-04-08</time>\\n      </p>\\n    </div>\\n    <footer class=\"card-footer\">\\n        <a href=\"https://www.realpython.com\" target=\"_blank\" class=\"card-footer-item\">Learn</a>\\n        <a href=\"https://realpython.github.io/fake-jobs/jobs/senior-python-developer-0.html\" target=\"_blank\" class=\"card-footer-item\">Apply</a>\\n    </footer>\\n  </div>\\n</div>\\n</div>\\n<div class=\"column is-half\">\\n<div class=\"card\">\\n  <div class=\"card-content\">\\n    <div class=\"media\">\\n      <div class=\"media-left\">\\n        <figure class=\"image is-48x48\">\\n          <img src=\"https://files.realpython.com/media/real-python-logo-thumbnail.7f0db70c2ed2.jpg?__no_cf_polish=1\" alt=\"Real Python Logo\">\\n        </figure>\\n      </div>\\n      <div class=\"media-content\">\\n        <h2 class=\"title is-5\">Energy engineer</h2>\\n        <h3 class=\"subtitle is-6 company\">Vasquez-Davidson</h3>\\n      </div>\\n    </div>\\n\\n    <div class=\"content\">\\n      <p class=\"location\">\\n        Christopherville, AA\\n      </p>\\n      <p class=\"is-small has-text-grey\">\\n        <time datetime=\"2021-04-08\">2021-04-08</time>\\n      </p>\\n    </div>\\n    <footer class=\"card-footer\">\\n        <a href=\"https://www.realpython.com\" target=\"_blank\" class=\"card-footer-item\">Learn</a>\\n        <a href=\"https://realpython.github.io/fake-jobs/jobs/energy-engineer-1.html\" target=\"_blank\" class=\"card-footer-item\">Apply</a>\\n    </footer>\\n  </div>\\n</div>\\n</div>\\n<div class=\"column is-half\">\\n<div class=\"card\">\\n  <div class=\"card-content\">\\n    <div class=\"media\">\\n      <div class=\"media-left\">\\n        <figure class=\"image is-48x48\">\\n          <img src=\"https://files.realpython.com/media/real-python-logo-thumbnail.7f0db70c2ed2.jpg?__no_cf_polish=1\" alt=\"Real Python Logo\">\\n        </figure>\\n      </div>\\n      <div class=\"media-content\">\\n        <h2 class=\"title is-5\">Legal executive</h2>\\n        <h3 class=\"subtitle is-6 company\">Jackson, Chambers and Levy</h3>\\n      </div>\\n    </div>\\n\\n    <div class=\"content\">\\n      <p class=\"location\">\\n        Port Ericaburgh, AA\\n      </p>\\n      <p class=\"is-small has-text-grey\">\\n        <time datetime=\"2021-04-08\">2021-04-08</time>\\n      </p>\\n    </div>\\n    <footer class=\"card-footer\">\\n        <a href=\"https://www.realpython.com\" target=\"_blank\" class=\"card-footer-item\">Learn</a>\\n        <a href=\"https://realpython.github.io/fake-jobs/jobs/legal-executive-2.html\" target=\"_blank\" class=\"card-footer-item\">Apply</a>\\n    </footer>\\n  </div>\\n</div>\\n</div>\\n<div class=\"column is-half\">\\n<div class=\"card\">\\n  <div class=\"card-content\">\\n    <div class=\"media\">\\n      <div class=\"media-left\">\\n        <figure class=\"image is-48x48\">\\n          <img src=\"https://files.realpython.com/media/real-python-logo-thumbnail.7f0db70c2ed2.jpg?__no_cf_polish=1\" alt=\"Real Python Logo\">\\n        </figure>\\n      </div>\\n      <div class=\"media-content\">\\n        <h2 class=\"title is-5\">Fitness centre manager</h2>\\n        <h3 class=\"subtitle is-6 company\">Savage-Bradley</h3>\\n      </div>\\n    </div>\\n\\n    <div class=\"content\">\\n      <p class=\"location\">\\n        East Seanview, AP\\n      </p>\\n      <p class=\"is-small has-text-grey\">\\n        <time datetime=\"2021-04-08\">2021-04-08</time>\\n      </p>\\n    </div>\\n    <footer class=\"card-footer\">\\n        <a href=\"https://www.realpython.com\" target=\"_blank\" class=\"card-footer-item\">Learn</a>\\n        <a href=\"https://realpython.github.io/fake-jobs/jobs/fitness-centre-manager-3.html\" target=\"_blank\" class=\"card-footer-item\">Apply</a>\\n    </footer>\\n  </div>\\n</div>\\n</div>\\n<div class=\"column is-half\">\\n<div class=\"card\">\\n  <div class=\"card-content\">\\n    <div class=\"media\">\\n      <div class=\"media-left\">\\n        <figure class=\"image is-48x48\">\\n          <img src=\"https://files.realpython.com/media/real-python-logo-thumbnail.7f0db70c2ed2.jpg?__no_cf_polish=1\" alt=\"Real Python Logo\">\\n        </figure>\\n      </div>\\n      <div class=\"media-content\">\\n        <h2 class=\"title is-5\">Product manager</h2>\\n        <h3 class=\"subtitle is-6 company\">Ramirez Inc</h3>\\n      </div>\\n    </div>\\n\\n    <div class=\"content\">\\n      <p class=\"location\">\\n        North Jamieview, AP\\n      </p>\\n      <p class=\"is-small has-text-grey\">\\n        <time datetime=\"2021-04-08\">2021-04-08</time>\\n      </p>\\n    </div>\\n    <footer class=\"card-footer\">\\n        <a href=\"https://www.realpython.com\" target=\"_blank\" class=\"card-footer-item\">Learn</a>\\n        <a href=\"https://realpython.github.io/fake-jobs/jobs/product-manager-4.html\" target=\"_blank\" class=\"card-footer-item\">Apply</a>\\n    </footer>\\n  </div>\\n</div>\\n</div>\\n<div class=\"column is-half\">\\n<div class=\"card\">\\n  <div class=\"card-content\">\\n    <div class=\"media\">\\n      <div class=\"media-left\">\\n        <figure class=\"image is-48x48\">\\n          <img src=\"https://files.realpython.com/media/real-python-logo-thumbnail.7f0db70c2ed2.jpg?__no_cf_polish=1\" alt=\"Real Python Logo\">\\n        </figure>\\n      </div>\\n      <div class=\"media-content\">\\n        <h2 class=\"title is-5\">Medical technical officer</h2>\\n        <h3 class=\"subtitle is-6 company\">Rogers-Yates</h3>\\n      </div>\\n    </div>\\n\\n    <div class=\"content\">\\n      <p class=\"location\">\\n        Davidville, AP\\n      </p>\\n      <p class=\"is-small has-text-grey\">\\n        <time datetime=\"2021-04-08\">2021-04-08</time>\\n      </p>\\n    </div>\\n    <footer class=\"card-footer\">\\n        <a href=\"https://www.realpython.com\" target=\"_blank\" class=\"card-footer-item\">Learn</a>\\n        <a href=\"https://realpython.github.io/fake-jobs/jobs/medical-technical-officer-5.html\" target=\"_blank\" class=\"card-footer-item\">Apply</a>\\n    </footer>\\n  </div>\\n</div>\\n</div>\\n<div class=\"column is-half\">\\n<div class=\"card\">\\n  <div class=\"card-content\">\\n    <div class=\"media\">\\n      <div class=\"media-left\">\\n        <figure class=\"image is-48x48\">\\n          <img src=\"https://files.realpython.com/media/real-python-logo-thumbnail.7f0db70c2ed2.jpg?__no_cf_polish=1\" alt=\"Real Python Logo\">\\n        </figure>\\n      </div>\\n      <div class=\"media-content\">\\n        <h2 class=\"title is-5\">Physiological scientist</h2>\\n        <h3 class=\"subtitle is-6 company\">Kramer-Klein</h3>\\n      </div>\\n    </div>\\n\\n    <div class=\"content\">\\n      <p class=\"location\">\\n        South Christopher, AE\\n      </p>\\n      <p class=\"is-small has-text-grey\">\\n        <time datetime=\"2021-04-08\">2021-04-08</time>\\n      </p>\\n    </div>\\n    <footer class=\"card-footer\">\\n        <a href=\"https://www.realpython.com\" target=\"_blank\" class=\"card-footer-item\">Learn</a>\\n        <a href=\"https://realpython.github.io/fake-jobs/jobs/physiological-scientist-6.html\" target=\"_blank\" class=\"card-footer-item\">Apply</a>\\n    </footer>\\n  </div>\\n</div>\\n</div>\\n<div class=\"column is-half\">\\n<div class=\"card\">\\n  <div class=\"card-content\">\\n    <div class=\"media\">\\n      <div class=\"media-left\">\\n        <figure class=\"image is-48x48\">\\n          <img src=\"https://files.realpython.com/media/real-python-logo-thumbnail.7f0db70c2ed2.jpg?__no_cf_polish=1\" alt=\"Real Python Logo\">\\n        </figure>\\n      </div>\\n      <div class=\"media-content\">\\n        <h2 class=\"title is-5\">Textile designer</h2>\\n        <h3 class=\"subtitle is-6 company\">Meyers-Johnson</h3>\\n      </div>\\n    </div>\\n\\n    <div class=\"content\">\\n      <p class=\"location\">\\n        Port Jonathan, AE\\n      </p>\\n      <p class=\"is-small has-text-grey\">\\n        <time datetime=\"2021-04-08\">2021-04-08</time>\\n      </p>\\n    </div>\\n    <footer class=\"card-footer\">\\n        <a href=\"https://www.realpython.com\" target=\"_blank\" class=\"card-footer-item\">Learn</a>\\n        <a href=\"https://realpython.github.io/fake-jobs/jobs/textile-designer-7.html\" target=\"_blank\" class=\"card-footer-item\">Apply</a>\\n    </footer>\\n  </div>\\n</div>\\n</div>\\n<div class=\"column is-half\">\\n<div class=\"card\">\\n  <div class=\"card-content\">\\n    <div class=\"media\">\\n      <div class=\"media-left\">\\n        <figure class=\"image is-48x48\">\\n          <img src=\"https://files.realpython.com/media/real-python-logo-thumbnail.7f0db70c2ed2.jpg?__no_cf_polish=1\" alt=\"Real Python Logo\">\\n        </figure>\\n      </div>\\n      <div class=\"media-content\">\\n        <h2 class=\"title is-5\">Television floor manager</h2>\\n        <h3 class=\"subtitle is-6 company\">Hughes-Williams</h3>\\n      </div>\\n    </div>\\n\\n    <div class=\"content\">\\n      <p class=\"location\">\\n        Osbornetown, AE\\n      </p>\\n      <p class=\"is-small has-text-grey\">\\n        <time datetime=\"2021-04-08\">2021-04-08</time>\\n      </p>\\n    </div>\\n    <footer class=\"card-footer\">\\n        <a href=\"https://www.realpython.com\" target=\"_blank\" class=\"card-footer-item\">Learn</a>\\n        <a href=\"https://realpython.github.io/fake-jobs/jobs/television-floor-manager-8.html\" target=\"_blank\" class=\"card-footer-item\">Apply</a>\\n    </footer>\\n  </div>\\n</div>\\n</div>\\n<div class=\"column is-half\">\\n<div class=\"card\">\\n  <div class=\"card-content\">\\n    <div class=\"media\">\\n      <div class=\"media-left\">\\n        <figure class=\"image is-48x48\">\\n          <img src=\"https://files.realpython.com/media/real-python-logo-thumbnail.7f0db70c2ed2.jpg?__no_cf_polish=1\" alt=\"Real Python Logo\">\\n        </figure>\\n      </div>\\n      <div class=\"media-content\">\\n        <h2 class=\"title is-5\">Waste management officer</h2>\\n        <h3 class=\"subtitle is-6 company\">Jones, Williams and Villa</h3>\\n      </div>\\n    </div>\\n\\n    <div class=\"content\">\\n      <p class=\"location\">\\n        Scotttown, AP\\n      </p>\\n      <p class=\"is-small has-text-grey\">\\n        <time datetime=\"2021-04-08\">2021-04-08</time>\\n      </p>\\n    </div>\\n    <footer class=\"card-footer\">\\n        <a href=\"https://www.realpython.com\" target=\"_blank\" class=\"card-footer-item\">Learn</a>\\n        <a href=\"https://realpython.github.io/fake-jobs/jobs/waste-management-officer-9.html\" target=\"_blank\" class=\"card-footer-item\">Apply</a>\\n    </footer>\\n  </div>\\n</div>\\n</div>\\n<div class=\"column is-half\">\\n<div class=\"card\">\\n  <div class=\"card-content\">\\n    <div class=\"media\">\\n      <div class=\"media-left\">\\n        <figure class=\"image is-48x48\">\\n          <img src=\"https://files.realpython.com/media/real-python-logo-thumbnail.7f0db70c2ed2.jpg?__no_cf_polish=1\" alt=\"Real Python Logo\">\\n        </figure>\\n      </div>\\n      <div class=\"media-content\">\\n        <h2 class=\"title is-5\">Software Engineer (Python)</h2>\\n        <h3 class=\"subtitle is-6 company\">Garcia PLC</h3>\\n      </div>\\n    </div>\\n\\n    <div class=\"content\">\\n      <p class=\"location\">\\n        Ericberg, AE\\n      </p>\\n      <p class=\"is-small has-text-grey\">\\n        <time datetime=\"2021-04-08\">2021-04-08</time>\\n      </p>\\n    </div>\\n    <footer class=\"card-footer\">\\n        <a href=\"https://www.realpython.com\" target=\"_blank\" class=\"card-footer-item\">Learn</a>\\n        <a href=\"https://realpython.github.io/fake-jobs/jobs/software-engineer-python-10.html\" target=\"_blank\" class=\"card-footer-item\">Apply</a>\\n    </footer>\\n  </div>\\n</div>\\n</div>\\n<div class=\"column is-half\">\\n<div class=\"card\">\\n  <div class=\"card-content\">\\n    <div class=\"media\">\\n      <div class=\"media-left\">\\n        <figure class=\"image is-48x48\">\\n          <img src=\"https://files.realpython.com/media/real-python-logo-thumbnail.7f0db70c2ed2.jpg?__no_cf_polish=1\" alt=\"Real Python Logo\">\\n        </figure>\\n      </div>\\n      <div class=\"media-content\">\\n        <h2 class=\"title is-5\">Interpreter</h2>\\n        <h3 class=\"subtitle is-6 company\">Gregory and Sons</h3>\\n      </div>\\n    </div>\\n\\n    <div class=\"content\">\\n      <p class=\"location\">\\n        Ramireztown, AE\\n      </p>\\n      <p class=\"is-small has-text-grey\">\\n        <time datetime=\"2021-04-08\">2021-04-08</time>\\n      </p>\\n    </div>\\n    <footer class=\"card-footer\">\\n        <a href=\"https://www.realpython.com\" target=\"_blank\" class=\"card-footer-item\">Learn</a>\\n        <a href=\"https://realpython.github.io/fake-jobs/jobs/interpreter-11.html\" target=\"_blank\" class=\"card-footer-item\">Apply</a>\\n    </footer>\\n  </div>\\n</div>\\n</div>\\n<div class=\"column is-half\">\\n<div class=\"card\">\\n  <div class=\"card-content\">\\n    <div class=\"media\">\\n      <div class=\"media-left\">\\n        <figure class=\"image is-48x48\">\\n          <img src=\"https://files.realpython.com/media/real-python-logo-thumbnail.7f0db70c2ed2.jpg?__no_cf_polish=1\" alt=\"Real Python Logo\">\\n        </figure>\\n      </div>\\n      <div class=\"media-content\">\\n        <h2 class=\"title is-5\">Architect</h2>\\n        <h3 class=\"subtitle is-6 company\">Clark, Garcia and Sosa</h3>\\n      </div>\\n    </div>\\n\\n    <div class=\"content\">\\n      <p class=\"location\">\\n        Figueroaview, AA\\n      </p>\\n      <p class=\"is-small has-text-grey\">\\n        <time datetime=\"2021-04-08\">2021-04-08</time>\\n      </p>\\n    </div>\\n    <footer class=\"card-footer\">\\n        <a href=\"https://www.realpython.com\" target=\"_blank\" class=\"card-footer-item\">Learn</a>\\n        <a href=\"https://realpython.github.io/fake-jobs/jobs/architect-12.html\" target=\"_blank\" class=\"card-footer-item\">Apply</a>\\n    </footer>\\n  </div>\\n</div>\\n</div>\\n<div class=\"column is-half\">\\n<div class=\"card\">\\n  <div class=\"card-content\">\\n    <div class=\"media\">\\n      <div class=\"media-left\">\\n        <figure class=\"image is-48x48\">\\n          <img src=\"https://files.realpython.com/media/real-python-logo-thumbnail.7f0db70c2ed2.jpg?__no_cf_polish=1\" alt=\"Real Python Logo\">\\n        </figure>\\n      </div>\\n      <div class=\"media-content\">\\n        <h2 class=\"title is-5\">Meteorologist</h2>\\n        <h3 class=\"subtitle is-6 company\">Bush PLC</h3>\\n      </div>\\n    </div>\\n\\n    <div class=\"content\">\\n      <p class=\"location\">\\n        Kelseystad, AA\\n      </p>\\n      <p class=\"is-small has-text-grey\">\\n        <time datetime=\"2021-04-08\">2021-04-08</time>\\n      </p>\\n    </div>\\n    <footer class=\"card-footer\">\\n        <a href=\"https://www.realpython.com\" target=\"_blank\" class=\"card-footer-item\">Learn</a>\\n        <a href=\"https://realpython.github.io/fake-jobs/jobs/meteorologist-13.html\" target=\"_blank\" class=\"card-footer-item\">Apply</a>\\n    </footer>\\n  </div>\\n</div>\\n</div>\\n<div class=\"column is-half\">\\n<div class=\"card\">\\n  <div class=\"card-content\">\\n    <div class=\"media\">\\n      <div class=\"media-left\">\\n        <figure class=\"image is-48x48\">\\n          <img src=\"https://files.realpython.com/media/real-python-logo-thumbnail.7f0db70c2ed2.jpg?__no_cf_polish=1\" alt=\"Real Python Logo\">\\n        </figure>\\n      </div>\\n      <div class=\"media-content\">\\n        <h2 class=\"title is-5\">Audiological scientist</h2>\\n        <h3 class=\"subtitle is-6 company\">Salazar-Meyers</h3>\\n      </div>\\n    </div>\\n\\n    <div class=\"content\">\\n      <p class=\"location\">\\n        Williamsburgh, AE\\n      </p>\\n      <p class=\"is-small has-text-grey\">\\n        <time datetime=\"2021-04-08\">2021-04-08</time>\\n      </p>\\n    </div>\\n    <footer class=\"card-footer\">\\n        <a href=\"https://www.realpython.com\" target=\"_blank\" class=\"card-footer-item\">Learn</a>\\n        <a href=\"https://realpython.github.io/fake-jobs/jobs/audiological-scientist-14.html\" target=\"_blank\" class=\"card-footer-item\">Apply</a>\\n    </footer>\\n  </div>\\n</div>\\n</div>\\n<div class=\"column is-half\">\\n<div class=\"card\">\\n  <div class=\"card-content\">\\n    <div class=\"media\">\\n      <div class=\"media-left\">\\n        <figure class=\"image is-48x48\">\\n          <img src=\"https://files.realpython.com/media/real-python-logo-thumbnail.7f0db70c2ed2.jpg?__no_cf_polish=1\" alt=\"Real Python Logo\">\\n        </figure>\\n      </div>\\n      <div class=\"media-content\">\\n        <h2 class=\"title is-5\">English as a second language teacher</h2>\\n        <h3 class=\"subtitle is-6 company\">Parker, Murphy and Brooks</h3>\\n      </div>\\n    </div>\\n\\n    <div class=\"content\">\\n      <p class=\"location\">\\n        Mitchellburgh, AE\\n      </p>\\n      <p class=\"is-small has-text-grey\">\\n        <time datetime=\"2021-04-08\">2021-04-08</time>\\n      </p>\\n    </div>\\n    <footer class=\"card-footer\">\\n        <a href=\"https://www.realpython.com\" target=\"_blank\" class=\"card-footer-item\">Learn</a>\\n        <a href=\"https://realpython.github.io/fake-jobs/jobs/english-as-a-second-language-teacher-15.html\" target=\"_blank\" class=\"card-footer-item\">Apply</a>\\n    </footer>\\n  </div>\\n</div>\\n</div>\\n<div class=\"column is-half\">\\n<div class=\"card\">\\n  <div class=\"card-content\">\\n    <div class=\"media\">\\n      <div class=\"media-left\">\\n        <figure class=\"image is-48x48\">\\n          <img src=\"https://files.realpython.com/media/real-python-logo-thumbnail.7f0db70c2ed2.jpg?__no_cf_polish=1\" alt=\"Real Python Logo\">\\n        </figure>\\n      </div>\\n      <div class=\"media-content\">\\n        <h2 class=\"title is-5\">Surgeon</h2>\\n        <h3 class=\"subtitle is-6 company\">Cruz-Brown</h3>\\n      </div>\\n    </div>\\n\\n    <div class=\"content\">\\n      <p class=\"location\">\\n        West Jessicabury, AA\\n      </p>\\n      <p class=\"is-small has-text-grey\">\\n        <time datetime=\"2021-04-08\">2021-04-08</time>\\n      </p>\\n    </div>\\n    <footer class=\"card-footer\">\\n        <a href=\"https://www.realpython.com\" target=\"_blank\" class=\"card-footer-item\">Learn</a>\\n        <a href=\"https://realpython.github.io/fake-jobs/jobs/surgeon-16.html\" target=\"_blank\" class=\"card-footer-item\">Apply</a>\\n    </footer>\\n  </div>\\n</div>\\n</div>\\n<div class=\"column is-half\">\\n<div class=\"card\">\\n  <div class=\"card-content\">\\n    <div class=\"media\">\\n      <div class=\"media-left\">\\n        <figure class=\"image is-48x48\">\\n          <img src=\"https://files.realpython.com/media/real-python-logo-thumbnail.7f0db70c2ed2.jpg?__no_cf_polish=1\" alt=\"Real Python Logo\">\\n        </figure>\\n      </div>\\n      <div class=\"media-content\">\\n        <h2 class=\"title is-5\">Equities trader</h2>\\n        <h3 class=\"subtitle is-6 company\">Macdonald-Ferguson</h3>\\n      </div>\\n    </div>\\n\\n    <div class=\"content\">\\n      <p class=\"location\">\\n        Maloneshire, AE\\n      </p>\\n      <p class=\"is-small has-text-grey\">\\n        <time datetime=\"2021-04-08\">2021-04-08</time>\\n      </p>\\n    </div>\\n    <footer class=\"card-footer\">\\n        <a href=\"https://www.realpython.com\" target=\"_blank\" class=\"card-footer-item\">Learn</a>\\n        <a href=\"https://realpython.github.io/fake-jobs/jobs/equities-trader-17.html\" target=\"_blank\" class=\"card-footer-item\">Apply</a>\\n    </footer>\\n  </div>\\n</div>\\n</div>\\n<div class=\"column is-half\">\\n<div class=\"card\">\\n  <div class=\"card-content\">\\n    <div class=\"media\">\\n      <div class=\"media-left\">\\n        <figure class=\"image is-48x48\">\\n          <img src=\"https://files.realpython.com/media/real-python-logo-thumbnail.7f0db70c2ed2.jpg?__no_cf_polish=1\" alt=\"Real Python Logo\">\\n        </figure>\\n      </div>\\n      <div class=\"media-content\">\\n        <h2 class=\"title is-5\">Newspaper journalist</h2>\\n        <h3 class=\"subtitle is-6 company\">Williams, Peterson and Rojas</h3>\\n      </div>\\n    </div>\\n\\n    <div class=\"content\">\\n      <p class=\"location\">\\n        Johnsonton, AA\\n      </p>\\n      <p class=\"is-small has-text-grey\">\\n        <time datetime=\"2021-04-08\">2021-04-08</time>\\n      </p>\\n    </div>\\n    <footer class=\"card-footer\">\\n        <a href=\"https://www.realpython.com\" target=\"_blank\" class=\"card-footer-item\">Learn</a>\\n        <a href=\"https://realpython.github.io/fake-jobs/jobs/newspaper-journalist-18.html\" target=\"_blank\" class=\"card-footer-item\">Apply</a>\\n    </footer>\\n  </div>\\n</div>\\n</div>\\n<div class=\"column is-half\">\\n<div class=\"card\">\\n  <div class=\"card-content\">\\n    <div class=\"media\">\\n      <div class=\"media-left\">\\n        <figure class=\"image is-48x48\">\\n          <img src=\"https://files.realpython.com/media/real-python-logo-thumbnail.7f0db70c2ed2.jpg?__no_cf_polish=1\" alt=\"Real Python Logo\">\\n        </figure>\\n      </div>\\n      <div class=\"media-content\">\\n        <h2 class=\"title is-5\">Materials engineer</h2>\\n        <h3 class=\"subtitle is-6 company\">Smith and Sons</h3>\\n      </div>\\n    </div>\\n\\n    <div class=\"content\">\\n      <p class=\"location\">\\n        South Davidtown, AP\\n      </p>\\n      <p class=\"is-small has-text-grey\">\\n        <time datetime=\"2021-04-08\">2021-04-08</time>\\n      </p>\\n    </div>\\n    <footer class=\"card-footer\">\\n        <a href=\"https://www.realpython.com\" target=\"_blank\" class=\"card-footer-item\">Learn</a>\\n        <a href=\"https://realpython.github.io/fake-jobs/jobs/materials-engineer-19.html\" target=\"_blank\" class=\"card-footer-item\">Apply</a>\\n    </footer>\\n  </div>\\n</div>\\n</div>\\n<div class=\"column is-half\">\\n<div class=\"card\">\\n  <div class=\"card-content\">\\n    <div class=\"media\">\\n      <div class=\"media-left\">\\n        <figure class=\"image is-48x48\">\\n          <img src=\"https://files.realpython.com/media/real-python-logo-thumbnail.7f0db70c2ed2.jpg?__no_cf_polish=1\" alt=\"Real Python Logo\">\\n        </figure>\\n      </div>\\n      <div class=\"media-content\">\\n        <h2 class=\"title is-5\">Python Programmer (Entry-Level)</h2>\\n        <h3 class=\"subtitle is-6 company\">Moss, Duncan and Allen</h3>\\n      </div>\\n    </div>\\n\\n    <div class=\"content\">\\n      <p class=\"location\">\\n        Port Sara, AE\\n      </p>\\n      <p class=\"is-small has-text-grey\">\\n        <time datetime=\"2021-04-08\">2021-04-08</time>\\n      </p>\\n    </div>\\n    <footer class=\"card-footer\">\\n        <a href=\"https://www.realpython.com\" target=\"_blank\" class=\"card-footer-item\">Learn</a>\\n        <a href=\"https://realpython.github.io/fake-jobs/jobs/python-programmer-entry-level-20.html\" target=\"_blank\" class=\"card-footer-item\">Apply</a>\\n    </footer>\\n  </div>\\n</div>\\n</div>\\n<div class=\"column is-half\">\\n<div class=\"card\">\\n  <div class=\"card-content\">\\n    <div class=\"media\">\\n      <div class=\"media-left\">\\n        <figure class=\"image is-48x48\">\\n          <img src=\"https://files.realpython.com/media/real-python-logo-thumbnail.7f0db70c2ed2.jpg?__no_cf_polish=1\" alt=\"Real Python Logo\">\\n        </figure>\\n      </div>\\n      <div class=\"media-content\">\\n        <h2 class=\"title is-5\">Product/process development scientist</h2>\\n        <h3 class=\"subtitle is-6 company\">Gomez-Carroll</h3>\\n      </div>\\n    </div>\\n\\n    <div class=\"content\">\\n      <p class=\"location\">\\n        Marktown, AA\\n      </p>\\n      <p class=\"is-small has-text-grey\">\\n        <time datetime=\"2021-04-08\">2021-04-08</time>\\n      </p>\\n    </div>\\n    <footer class=\"card-footer\">\\n        <a href=\"https://www.realpython.com\" target=\"_blank\" class=\"card-footer-item\">Learn</a>\\n        <a href=\"https://realpython.github.io/fake-jobs/jobs/product-process-development-scientist-21.html\" target=\"_blank\" class=\"card-footer-item\">Apply</a>\\n    </footer>\\n  </div>\\n</div>\\n</div>\\n<div class=\"column is-half\">\\n<div class=\"card\">\\n  <div class=\"card-content\">\\n    <div class=\"media\">\\n      <div class=\"media-left\">\\n        <figure class=\"image is-48x48\">\\n          <img src=\"https://files.realpython.com/media/real-python-logo-thumbnail.7f0db70c2ed2.jpg?__no_cf_polish=1\" alt=\"Real Python Logo\">\\n        </figure>\\n      </div>\\n      <div class=\"media-content\">\\n        <h2 class=\"title is-5\">Scientist, research (maths)</h2>\\n        <h3 class=\"subtitle is-6 company\">Manning, Welch and Herring</h3>\\n      </div>\\n    </div>\\n\\n    <div class=\"content\">\\n      <p class=\"location\">\\n        Laurenland, AE\\n      </p>\\n      <p class=\"is-small has-text-grey\">\\n        <time datetime=\"2021-04-08\">2021-04-08</time>\\n      </p>\\n    </div>\\n    <footer class=\"card-footer\">\\n        <a href=\"https://www.realpython.com\" target=\"_blank\" class=\"card-footer-item\">Learn</a>\\n        <a href=\"https://realpython.github.io/fake-jobs/jobs/scientist-research-maths-22.html\" target=\"_blank\" class=\"card-footer-item\">Apply</a>\\n    </footer>\\n  </div>\\n</div>\\n</div>\\n<div class=\"column is-half\">\\n<div class=\"card\">\\n  <div class=\"card-content\">\\n    <div class=\"media\">\\n      <div class=\"media-left\">\\n        <figure class=\"image is-48x48\">\\n          <img src=\"https://files.realpython.com/media/real-python-logo-thumbnail.7f0db70c2ed2.jpg?__no_cf_polish=1\" alt=\"Real Python Logo\">\\n        </figure>\\n      </div>\\n      <div class=\"media-content\">\\n        <h2 class=\"title is-5\">Ecologist</h2>\\n        <h3 class=\"subtitle is-6 company\">Lee, Gutierrez and Brown</h3>\\n      </div>\\n    </div>\\n\\n    <div class=\"content\">\\n      <p class=\"location\">\\n        Lauraton, AP\\n      </p>\\n      <p class=\"is-small has-text-grey\">\\n        <time datetime=\"2021-04-08\">2021-04-08</time>\\n      </p>\\n    </div>\\n    <footer class=\"card-footer\">\\n        <a href=\"https://www.realpython.com\" target=\"_blank\" class=\"card-footer-item\">Learn</a>\\n        <a href=\"https://realpython.github.io/fake-jobs/jobs/ecologist-23.html\" target=\"_blank\" class=\"card-footer-item\">Apply</a>\\n    </footer>\\n  </div>\\n</div>\\n</div>\\n<div class=\"column is-half\">\\n<div class=\"card\">\\n  <div class=\"card-content\">\\n    <div class=\"media\">\\n      <div class=\"media-left\">\\n        <figure class=\"image is-48x48\">\\n          <img src=\"https://files.realpython.com/media/real-python-logo-thumbnail.7f0db70c2ed2.jpg?__no_cf_polish=1\" alt=\"Real Python Logo\">\\n        </figure>\\n      </div>\\n      <div class=\"media-content\">\\n        <h2 class=\"title is-5\">Materials engineer</h2>\\n        <h3 class=\"subtitle is-6 company\">Davis, Serrano and Cook</h3>\\n      </div>\\n    </div>\\n\\n    <div class=\"content\">\\n      <p class=\"location\">\\n        South Tammyberg, AP\\n      </p>\\n      <p class=\"is-small has-text-grey\">\\n        <time datetime=\"2021-04-08\">2021-04-08</time>\\n      </p>\\n    </div>\\n    <footer class=\"card-footer\">\\n        <a href=\"https://www.realpython.com\" target=\"_blank\" class=\"card-footer-item\">Learn</a>\\n        <a href=\"https://realpython.github.io/fake-jobs/jobs/materials-engineer-24.html\" target=\"_blank\" class=\"card-footer-item\">Apply</a>\\n    </footer>\\n  </div>\\n</div>\\n</div>\\n<div class=\"column is-half\">\\n<div class=\"card\">\\n  <div class=\"card-content\">\\n    <div class=\"media\">\\n      <div class=\"media-left\">\\n        <figure class=\"image is-48x48\">\\n          <img src=\"https://files.realpython.com/media/real-python-logo-thumbnail.7f0db70c2ed2.jpg?__no_cf_polish=1\" alt=\"Real Python Logo\">\\n        </figure>\\n      </div>\\n      <div class=\"media-content\">\\n        <h2 class=\"title is-5\">Historic buildings inspector/conservation officer</h2>\\n        <h3 class=\"subtitle is-6 company\">Smith LLC</h3>\\n      </div>\\n    </div>\\n\\n    <div class=\"content\">\\n      <p class=\"location\">\\n        North Brandonville, AP\\n      </p>\\n      <p class=\"is-small has-text-grey\">\\n        <time datetime=\"2021-04-08\">2021-04-08</time>\\n      </p>\\n    </div>\\n    <footer class=\"card-footer\">\\n        <a href=\"https://www.realpython.com\" target=\"_blank\" class=\"card-footer-item\">Learn</a>\\n        <a href=\"https://realpython.github.io/fake-jobs/jobs/historic-buildings-inspector-conservation-officer-25.html\" target=\"_blank\" class=\"card-footer-item\">Apply</a>\\n    </footer>\\n  </div>\\n</div>\\n</div>\\n<div class=\"column is-half\">\\n<div class=\"card\">\\n  <div class=\"card-content\">\\n    <div class=\"media\">\\n      <div class=\"media-left\">\\n        <figure class=\"image is-48x48\">\\n          <img src=\"https://files.realpython.com/media/real-python-logo-thumbnail.7f0db70c2ed2.jpg?__no_cf_polish=1\" alt=\"Real Python Logo\">\\n        </figure>\\n      </div>\\n      <div class=\"media-content\">\\n        <h2 class=\"title is-5\">Data scientist</h2>\\n        <h3 class=\"subtitle is-6 company\">Thomas Group</h3>\\n      </div>\\n    </div>\\n\\n    <div class=\"content\">\\n      <p class=\"location\">\\n        Port Robertfurt, AA\\n      </p>\\n      <p class=\"is-small has-text-grey\">\\n        <time datetime=\"2021-04-08\">2021-04-08</time>\\n      </p>\\n    </div>\\n    <footer class=\"card-footer\">\\n        <a href=\"https://www.realpython.com\" target=\"_blank\" class=\"card-footer-item\">Learn</a>\\n        <a href=\"https://realpython.github.io/fake-jobs/jobs/data-scientist-26.html\" target=\"_blank\" class=\"card-footer-item\">Apply</a>\\n    </footer>\\n  </div>\\n</div>\\n</div>\\n<div class=\"column is-half\">\\n<div class=\"card\">\\n  <div class=\"card-content\">\\n    <div class=\"media\">\\n      <div class=\"media-left\">\\n        <figure class=\"image is-48x48\">\\n          <img src=\"https://files.realpython.com/media/real-python-logo-thumbnail.7f0db70c2ed2.jpg?__no_cf_polish=1\" alt=\"Real Python Logo\">\\n        </figure>\\n      </div>\\n      <div class=\"media-content\">\\n        <h2 class=\"title is-5\">Psychiatrist</h2>\\n        <h3 class=\"subtitle is-6 company\">Silva-King</h3>\\n      </div>\\n    </div>\\n\\n    <div class=\"content\">\\n      <p class=\"location\">\\n        Burnettbury, AE\\n      </p>\\n      <p class=\"is-small has-text-grey\">\\n        <time datetime=\"2021-04-08\">2021-04-08</time>\\n      </p>\\n    </div>\\n    <footer class=\"card-footer\">\\n        <a href=\"https://www.realpython.com\" target=\"_blank\" class=\"card-footer-item\">Learn</a>\\n        <a href=\"https://realpython.github.io/fake-jobs/jobs/psychiatrist-27.html\" target=\"_blank\" class=\"card-footer-item\">Apply</a>\\n    </footer>\\n  </div>\\n</div>\\n</div>\\n<div class=\"column is-half\">\\n<div class=\"card\">\\n  <div class=\"card-content\">\\n    <div class=\"media\">\\n      <div class=\"media-left\">\\n        <figure class=\"image is-48x48\">\\n          <img src=\"https://files.realpython.com/media/real-python-logo-thumbnail.7f0db70c2ed2.jpg?__no_cf_polish=1\" alt=\"Real Python Logo\">\\n        </figure>\\n      </div>\\n      <div class=\"media-content\">\\n        <h2 class=\"title is-5\">Structural engineer</h2>\\n        <h3 class=\"subtitle is-6 company\">Pierce-Long</h3>\\n      </div>\\n    </div>\\n\\n    <div class=\"content\">\\n      <p class=\"location\">\\n        Herbertside, AA\\n      </p>\\n      <p class=\"is-small has-text-grey\">\\n        <time datetime=\"2021-04-08\">2021-04-08</time>\\n      </p>\\n    </div>\\n    <footer class=\"card-footer\">\\n        <a href=\"https://www.realpython.com\" target=\"_blank\" class=\"card-footer-item\">Learn</a>\\n        <a href=\"https://realpython.github.io/fake-jobs/jobs/structural-engineer-28.html\" target=\"_blank\" class=\"card-footer-item\">Apply</a>\\n    </footer>\\n  </div>\\n</div>\\n</div>\\n<div class=\"column is-half\">\\n<div class=\"card\">\\n  <div class=\"card-content\">\\n    <div class=\"media\">\\n      <div class=\"media-left\">\\n        <figure class=\"image is-48x48\">\\n          <img src=\"https://files.realpython.com/media/real-python-logo-thumbnail.7f0db70c2ed2.jpg?__no_cf_polish=1\" alt=\"Real Python Logo\">\\n        </figure>\\n      </div>\\n      <div class=\"media-content\">\\n        <h2 class=\"title is-5\">Immigration officer</h2>\\n        <h3 class=\"subtitle is-6 company\">Walker-Simpson</h3>\\n      </div>\\n    </div>\\n\\n    <div class=\"content\">\\n      <p class=\"location\">\\n        Christopherport, AP\\n      </p>\\n      <p class=\"is-small has-text-grey\">\\n        <time datetime=\"2021-04-08\">2021-04-08</time>\\n      </p>\\n    </div>\\n    <footer class=\"card-footer\">\\n        <a href=\"https://www.realpython.com\" target=\"_blank\" class=\"card-footer-item\">Learn</a>\\n        <a href=\"https://realpython.github.io/fake-jobs/jobs/immigration-officer-29.html\" target=\"_blank\" class=\"card-footer-item\">Apply</a>\\n    </footer>\\n  </div>\\n</div>\\n</div>\\n<div class=\"column is-half\">\\n<div class=\"card\">\\n  <div class=\"card-content\">\\n    <div class=\"media\">\\n      <div class=\"media-left\">\\n        <figure class=\"image is-48x48\">\\n          <img src=\"https://files.realpython.com/media/real-python-logo-thumbnail.7f0db70c2ed2.jpg?__no_cf_polish=1\" alt=\"Real Python Logo\">\\n        </figure>\\n      </div>\\n      <div class=\"media-content\">\\n        <h2 class=\"title is-5\">Python Programmer (Entry-Level)</h2>\\n        <h3 class=\"subtitle is-6 company\">Cooper and Sons</h3>\\n      </div>\\n    </div>\\n\\n    <div class=\"content\">\\n      <p class=\"location\">\\n        West Victor, AE\\n      </p>\\n      <p class=\"is-small has-text-grey\">\\n        <time datetime=\"2021-04-08\">2021-04-08</time>\\n      </p>\\n    </div>\\n    <footer class=\"card-footer\">\\n        <a href=\"https://www.realpython.com\" target=\"_blank\" class=\"card-footer-item\">Learn</a>\\n        <a href=\"https://realpython.github.io/fake-jobs/jobs/python-programmer-entry-level-30.html\" target=\"_blank\" class=\"card-footer-item\">Apply</a>\\n    </footer>\\n  </div>\\n</div>\\n</div>\\n<div class=\"column is-half\">\\n<div class=\"card\">\\n  <div class=\"card-content\">\\n    <div class=\"media\">\\n      <div class=\"media-left\">\\n        <figure class=\"image is-48x48\">\\n          <img src=\"https://files.realpython.com/media/real-python-logo-thumbnail.7f0db70c2ed2.jpg?__no_cf_polish=1\" alt=\"Real Python Logo\">\\n        </figure>\\n      </div>\\n      <div class=\"media-content\">\\n        <h2 class=\"title is-5\">Neurosurgeon</h2>\\n        <h3 class=\"subtitle is-6 company\">Donovan, Gonzalez and Figueroa</h3>\\n      </div>\\n    </div>\\n\\n    <div class=\"content\">\\n      <p class=\"location\">\\n        Port Aaron, AP\\n      </p>\\n      <p class=\"is-small has-text-grey\">\\n        <time datetime=\"2021-04-08\">2021-04-08</time>\\n      </p>\\n    </div>\\n    <footer class=\"card-footer\">\\n        <a href=\"https://www.realpython.com\" target=\"_blank\" class=\"card-footer-item\">Learn</a>\\n        <a href=\"https://realpython.github.io/fake-jobs/jobs/neurosurgeon-31.html\" target=\"_blank\" class=\"card-footer-item\">Apply</a>\\n    </footer>\\n  </div>\\n</div>\\n</div>\\n<div class=\"column is-half\">\\n<div class=\"card\">\\n  <div class=\"card-content\">\\n    <div class=\"media\">\\n      <div class=\"media-left\">\\n        <figure class=\"image is-48x48\">\\n          <img src=\"https://files.realpython.com/media/real-python-logo-thumbnail.7f0db70c2ed2.jpg?__no_cf_polish=1\" alt=\"Real Python Logo\">\\n        </figure>\\n      </div>\\n      <div class=\"media-content\">\\n        <h2 class=\"title is-5\">Broadcast engineer</h2>\\n        <h3 class=\"subtitle is-6 company\">Morgan, Butler and Bennett</h3>\\n      </div>\\n    </div>\\n\\n    <div class=\"content\">\\n      <p class=\"location\">\\n        Loribury, AA\\n      </p>\\n      <p class=\"is-small has-text-grey\">\\n        <time datetime=\"2021-04-08\">2021-04-08</time>\\n      </p>\\n    </div>\\n    <footer class=\"card-footer\">\\n        <a href=\"https://www.realpython.com\" target=\"_blank\" class=\"card-footer-item\">Learn</a>\\n        <a href=\"https://realpython.github.io/fake-jobs/jobs/broadcast-engineer-32.html\" target=\"_blank\" class=\"card-footer-item\">Apply</a>\\n    </footer>\\n  </div>\\n</div>\\n</div>\\n<div class=\"column is-half\">\\n<div class=\"card\">\\n  <div class=\"card-content\">\\n    <div class=\"media\">\\n      <div class=\"media-left\">\\n        <figure class=\"image is-48x48\">\\n          <img src=\"https://files.realpython.com/media/real-python-logo-thumbnail.7f0db70c2ed2.jpg?__no_cf_polish=1\" alt=\"Real Python Logo\">\\n        </figure>\\n      </div>\\n      <div class=\"media-content\">\\n        <h2 class=\"title is-5\">Make</h2>\\n        <h3 class=\"subtitle is-6 company\">Snyder-Lee</h3>\\n      </div>\\n    </div>\\n\\n    <div class=\"content\">\\n      <p class=\"location\">\\n        Angelastad, AP\\n      </p>\\n      <p class=\"is-small has-text-grey\">\\n        <time datetime=\"2021-04-08\">2021-04-08</time>\\n      </p>\\n    </div>\\n    <footer class=\"card-footer\">\\n        <a href=\"https://www.realpython.com\" target=\"_blank\" class=\"card-footer-item\">Learn</a>\\n        <a href=\"https://realpython.github.io/fake-jobs/jobs/make-33.html\" target=\"_blank\" class=\"card-footer-item\">Apply</a>\\n    </footer>\\n  </div>\\n</div>\\n</div>\\n<div class=\"column is-half\">\\n<div class=\"card\">\\n  <div class=\"card-content\">\\n    <div class=\"media\">\\n      <div class=\"media-left\">\\n        <figure class=\"image is-48x48\">\\n          <img src=\"https://files.realpython.com/media/real-python-logo-thumbnail.7f0db70c2ed2.jpg?__no_cf_polish=1\" alt=\"Real Python Logo\">\\n        </figure>\\n      </div>\\n      <div class=\"media-content\">\\n        <h2 class=\"title is-5\">Nurse, adult</h2>\\n        <h3 class=\"subtitle is-6 company\">Harris PLC</h3>\\n      </div>\\n    </div>\\n\\n    <div class=\"content\">\\n      <p class=\"location\">\\n        Larrytown, AE\\n      </p>\\n      <p class=\"is-small has-text-grey\">\\n        <time datetime=\"2021-04-08\">2021-04-08</time>\\n      </p>\\n    </div>\\n    <footer class=\"card-footer\">\\n        <a href=\"https://www.realpython.com\" target=\"_blank\" class=\"card-footer-item\">Learn</a>\\n        <a href=\"https://realpython.github.io/fake-jobs/jobs/nurse-adult-34.html\" target=\"_blank\" class=\"card-footer-item\">Apply</a>\\n    </footer>\\n  </div>\\n</div>\\n</div>\\n<div class=\"column is-half\">\\n<div class=\"card\">\\n  <div class=\"card-content\">\\n    <div class=\"media\">\\n      <div class=\"media-left\">\\n        <figure class=\"image is-48x48\">\\n          <img src=\"https://files.realpython.com/media/real-python-logo-thumbnail.7f0db70c2ed2.jpg?__no_cf_polish=1\" alt=\"Real Python Logo\">\\n        </figure>\\n      </div>\\n      <div class=\"media-content\">\\n        <h2 class=\"title is-5\">Air broker</h2>\\n        <h3 class=\"subtitle is-6 company\">Washington PLC</h3>\\n      </div>\\n    </div>\\n\\n    <div class=\"content\">\\n      <p class=\"location\">\\n        West Colin, AP\\n      </p>\\n      <p class=\"is-small has-text-grey\">\\n        <time datetime=\"2021-04-08\">2021-04-08</time>\\n      </p>\\n    </div>\\n    <footer class=\"card-footer\">\\n        <a href=\"https://www.realpython.com\" target=\"_blank\" class=\"card-footer-item\">Learn</a>\\n        <a href=\"https://realpython.github.io/fake-jobs/jobs/air-broker-35.html\" target=\"_blank\" class=\"card-footer-item\">Apply</a>\\n    </footer>\\n  </div>\\n</div>\\n</div>\\n<div class=\"column is-half\">\\n<div class=\"card\">\\n  <div class=\"card-content\">\\n    <div class=\"media\">\\n      <div class=\"media-left\">\\n        <figure class=\"image is-48x48\">\\n          <img src=\"https://files.realpython.com/media/real-python-logo-thumbnail.7f0db70c2ed2.jpg?__no_cf_polish=1\" alt=\"Real Python Logo\">\\n        </figure>\\n      </div>\\n      <div class=\"media-content\">\\n        <h2 class=\"title is-5\">Editor, film/video</h2>\\n        <h3 class=\"subtitle is-6 company\">Brown, Price and Campbell</h3>\\n      </div>\\n    </div>\\n\\n    <div class=\"content\">\\n      <p class=\"location\">\\n        West Stephanie, AP\\n      </p>\\n      <p class=\"is-small has-text-grey\">\\n        <time datetime=\"2021-04-08\">2021-04-08</time>\\n      </p>\\n    </div>\\n    <footer class=\"card-footer\">\\n        <a href=\"https://www.realpython.com\" target=\"_blank\" class=\"card-footer-item\">Learn</a>\\n        <a href=\"https://realpython.github.io/fake-jobs/jobs/editor-film-video-36.html\" target=\"_blank\" class=\"card-footer-item\">Apply</a>\\n    </footer>\\n  </div>\\n</div>\\n</div>\\n<div class=\"column is-half\">\\n<div class=\"card\">\\n  <div class=\"card-content\">\\n    <div class=\"media\">\\n      <div class=\"media-left\">\\n        <figure class=\"image is-48x48\">\\n          <img src=\"https://files.realpython.com/media/real-python-logo-thumbnail.7f0db70c2ed2.jpg?__no_cf_polish=1\" alt=\"Real Python Logo\">\\n        </figure>\\n      </div>\\n      <div class=\"media-content\">\\n        <h2 class=\"title is-5\">Production assistant, radio</h2>\\n        <h3 class=\"subtitle is-6 company\">Mcgee PLC</h3>\\n      </div>\\n    </div>\\n\\n    <div class=\"content\">\\n      <p class=\"location\">\\n        Laurentown, AP\\n      </p>\\n      <p class=\"is-small has-text-grey\">\\n        <time datetime=\"2021-04-08\">2021-04-08</time>\\n      </p>\\n    </div>\\n    <footer class=\"card-footer\">\\n        <a href=\"https://www.realpython.com\" target=\"_blank\" class=\"card-footer-item\">Learn</a>\\n        <a href=\"https://realpython.github.io/fake-jobs/jobs/production-assistant-radio-37.html\" target=\"_blank\" class=\"card-footer-item\">Apply</a>\\n    </footer>\\n  </div>\\n</div>\\n</div>\\n<div class=\"column is-half\">\\n<div class=\"card\">\\n  <div class=\"card-content\">\\n    <div class=\"media\">\\n      <div class=\"media-left\">\\n        <figure class=\"image is-48x48\">\\n          <img src=\"https://files.realpython.com/media/real-python-logo-thumbnail.7f0db70c2ed2.jpg?__no_cf_polish=1\" alt=\"Real Python Logo\">\\n        </figure>\\n      </div>\\n      <div class=\"media-content\">\\n        <h2 class=\"title is-5\">Engineer, communications</h2>\\n        <h3 class=\"subtitle is-6 company\">Dixon Inc</h3>\\n      </div>\\n    </div>\\n\\n    <div class=\"content\">\\n      <p class=\"location\">\\n        Wrightberg, AP\\n      </p>\\n      <p class=\"is-small has-text-grey\">\\n        <time datetime=\"2021-04-08\">2021-04-08</time>\\n      </p>\\n    </div>\\n    <footer class=\"card-footer\">\\n        <a href=\"https://www.realpython.com\" target=\"_blank\" class=\"card-footer-item\">Learn</a>\\n        <a href=\"https://realpython.github.io/fake-jobs/jobs/engineer-communications-38.html\" target=\"_blank\" class=\"card-footer-item\">Apply</a>\\n    </footer>\\n  </div>\\n</div>\\n</div>\\n<div class=\"column is-half\">\\n<div class=\"card\">\\n  <div class=\"card-content\">\\n    <div class=\"media\">\\n      <div class=\"media-left\">\\n        <figure class=\"image is-48x48\">\\n          <img src=\"https://files.realpython.com/media/real-python-logo-thumbnail.7f0db70c2ed2.jpg?__no_cf_polish=1\" alt=\"Real Python Logo\">\\n        </figure>\\n      </div>\\n      <div class=\"media-content\">\\n        <h2 class=\"title is-5\">Sales executive</h2>\\n        <h3 class=\"subtitle is-6 company\">Thompson, Sheppard and Ward</h3>\\n      </div>\\n    </div>\\n\\n    <div class=\"content\">\\n      <p class=\"location\">\\n        Alberttown, AE\\n      </p>\\n      <p class=\"is-small has-text-grey\">\\n        <time datetime=\"2021-04-08\">2021-04-08</time>\\n      </p>\\n    </div>\\n    <footer class=\"card-footer\">\\n        <a href=\"https://www.realpython.com\" target=\"_blank\" class=\"card-footer-item\">Learn</a>\\n        <a href=\"https://realpython.github.io/fake-jobs/jobs/sales-executive-39.html\" target=\"_blank\" class=\"card-footer-item\">Apply</a>\\n    </footer>\\n  </div>\\n</div>\\n</div>\\n<div class=\"column is-half\">\\n<div class=\"card\">\\n  <div class=\"card-content\">\\n    <div class=\"media\">\\n      <div class=\"media-left\">\\n        <figure class=\"image is-48x48\">\\n          <img src=\"https://files.realpython.com/media/real-python-logo-thumbnail.7f0db70c2ed2.jpg?__no_cf_polish=1\" alt=\"Real Python Logo\">\\n        </figure>\\n      </div>\\n      <div class=\"media-content\">\\n        <h2 class=\"title is-5\">Software Developer (Python)</h2>\\n        <h3 class=\"subtitle is-6 company\">Adams-Brewer</h3>\\n      </div>\\n    </div>\\n\\n    <div class=\"content\">\\n      <p class=\"location\">\\n        Brockburgh, AE\\n      </p>\\n      <p class=\"is-small has-text-grey\">\\n        <time datetime=\"2021-04-08\">2021-04-08</time>\\n      </p>\\n    </div>\\n    <footer class=\"card-footer\">\\n        <a href=\"https://www.realpython.com\" target=\"_blank\" class=\"card-footer-item\">Learn</a>\\n        <a href=\"https://realpython.github.io/fake-jobs/jobs/software-developer-python-40.html\" target=\"_blank\" class=\"card-footer-item\">Apply</a>\\n    </footer>\\n  </div>\\n</div>\\n</div>\\n<div class=\"column is-half\">\\n<div class=\"card\">\\n  <div class=\"card-content\">\\n    <div class=\"media\">\\n      <div class=\"media-left\">\\n        <figure class=\"image is-48x48\">\\n          <img src=\"https://files.realpython.com/media/real-python-logo-thumbnail.7f0db70c2ed2.jpg?__no_cf_polish=1\" alt=\"Real Python Logo\">\\n        </figure>\\n      </div>\\n      <div class=\"media-content\">\\n        <h2 class=\"title is-5\">Futures trader</h2>\\n        <h3 class=\"subtitle is-6 company\">Schneider-Brady</h3>\\n      </div>\\n    </div>\\n\\n    <div class=\"content\">\\n      <p class=\"location\">\\n        North Jason, AE\\n      </p>\\n      <p class=\"is-small has-text-grey\">\\n        <time datetime=\"2021-04-08\">2021-04-08</time>\\n      </p>\\n    </div>\\n    <footer class=\"card-footer\">\\n        <a href=\"https://www.realpython.com\" target=\"_blank\" class=\"card-footer-item\">Learn</a>\\n        <a href=\"https://realpython.github.io/fake-jobs/jobs/futures-trader-41.html\" target=\"_blank\" class=\"card-footer-item\">Apply</a>\\n    </footer>\\n  </div>\\n</div>\\n</div>\\n<div class=\"column is-half\">\\n<div class=\"card\">\\n  <div class=\"card-content\">\\n    <div class=\"media\">\\n      <div class=\"media-left\">\\n        <figure class=\"image is-48x48\">\\n          <img src=\"https://files.realpython.com/media/real-python-logo-thumbnail.7f0db70c2ed2.jpg?__no_cf_polish=1\" alt=\"Real Python Logo\">\\n        </figure>\\n      </div>\\n      <div class=\"media-content\">\\n        <h2 class=\"title is-5\">Tour manager</h2>\\n        <h3 class=\"subtitle is-6 company\">Gonzales-Frank</h3>\\n      </div>\\n    </div>\\n\\n    <div class=\"content\">\\n      <p class=\"location\">\\n        Arnoldhaven, AE\\n      </p>\\n      <p class=\"is-small has-text-grey\">\\n        <time datetime=\"2021-04-08\">2021-04-08</time>\\n      </p>\\n    </div>\\n    <footer class=\"card-footer\">\\n        <a href=\"https://www.realpython.com\" target=\"_blank\" class=\"card-footer-item\">Learn</a>\\n        <a href=\"https://realpython.github.io/fake-jobs/jobs/tour-manager-42.html\" target=\"_blank\" class=\"card-footer-item\">Apply</a>\\n    </footer>\\n  </div>\\n</div>\\n</div>\\n<div class=\"column is-half\">\\n<div class=\"card\">\\n  <div class=\"card-content\">\\n    <div class=\"media\">\\n      <div class=\"media-left\">\\n        <figure class=\"image is-48x48\">\\n          <img src=\"https://files.realpython.com/media/real-python-logo-thumbnail.7f0db70c2ed2.jpg?__no_cf_polish=1\" alt=\"Real Python Logo\">\\n        </figure>\\n      </div>\\n      <div class=\"media-content\">\\n        <h2 class=\"title is-5\">Cytogeneticist</h2>\\n        <h3 class=\"subtitle is-6 company\">Smith-Wong</h3>\\n      </div>\\n    </div>\\n\\n    <div class=\"content\">\\n      <p class=\"location\">\\n        Lake Destiny, AP\\n      </p>\\n      <p class=\"is-small has-text-grey\">\\n        <time datetime=\"2021-04-08\">2021-04-08</time>\\n      </p>\\n    </div>\\n    <footer class=\"card-footer\">\\n        <a href=\"https://www.realpython.com\" target=\"_blank\" class=\"card-footer-item\">Learn</a>\\n        <a href=\"https://realpython.github.io/fake-jobs/jobs/cytogeneticist-43.html\" target=\"_blank\" class=\"card-footer-item\">Apply</a>\\n    </footer>\\n  </div>\\n</div>\\n</div>\\n<div class=\"column is-half\">\\n<div class=\"card\">\\n  <div class=\"card-content\">\\n    <div class=\"media\">\\n      <div class=\"media-left\">\\n        <figure class=\"image is-48x48\">\\n          <img src=\"https://files.realpython.com/media/real-python-logo-thumbnail.7f0db70c2ed2.jpg?__no_cf_polish=1\" alt=\"Real Python Logo\">\\n        </figure>\\n      </div>\\n      <div class=\"media-content\">\\n        <h2 class=\"title is-5\">Designer, multimedia</h2>\\n        <h3 class=\"subtitle is-6 company\">Pierce-Herrera</h3>\\n      </div>\\n    </div>\\n\\n    <div class=\"content\">\\n      <p class=\"location\">\\n        South Timothyburgh, AP\\n      </p>\\n      <p class=\"is-small has-text-grey\">\\n        <time datetime=\"2021-04-08\">2021-04-08</time>\\n      </p>\\n    </div>\\n    <footer class=\"card-footer\">\\n        <a href=\"https://www.realpython.com\" target=\"_blank\" class=\"card-footer-item\">Learn</a>\\n        <a href=\"https://realpython.github.io/fake-jobs/jobs/designer-multimedia-44.html\" target=\"_blank\" class=\"card-footer-item\">Apply</a>\\n    </footer>\\n  </div>\\n</div>\\n</div>\\n<div class=\"column is-half\">\\n<div class=\"card\">\\n  <div class=\"card-content\">\\n    <div class=\"media\">\\n      <div class=\"media-left\">\\n        <figure class=\"image is-48x48\">\\n          <img src=\"https://files.realpython.com/media/real-python-logo-thumbnail.7f0db70c2ed2.jpg?__no_cf_polish=1\" alt=\"Real Python Logo\">\\n        </figure>\\n      </div>\\n      <div class=\"media-content\">\\n        <h2 class=\"title is-5\">Trade union research officer</h2>\\n        <h3 class=\"subtitle is-6 company\">Aguilar, Rivera and Quinn</h3>\\n      </div>\\n    </div>\\n\\n    <div class=\"content\">\\n      <p class=\"location\">\\n        New Jimmyton, AE\\n      </p>\\n      <p class=\"is-small has-text-grey\">\\n        <time datetime=\"2021-04-08\">2021-04-08</time>\\n      </p>\\n    </div>\\n    <footer class=\"card-footer\">\\n        <a href=\"https://www.realpython.com\" target=\"_blank\" class=\"card-footer-item\">Learn</a>\\n        <a href=\"https://realpython.github.io/fake-jobs/jobs/trade-union-research-officer-45.html\" target=\"_blank\" class=\"card-footer-item\">Apply</a>\\n    </footer>\\n  </div>\\n</div>\\n</div>\\n<div class=\"column is-half\">\\n<div class=\"card\">\\n  <div class=\"card-content\">\\n    <div class=\"media\">\\n      <div class=\"media-left\">\\n        <figure class=\"image is-48x48\">\\n          <img src=\"https://files.realpython.com/media/real-python-logo-thumbnail.7f0db70c2ed2.jpg?__no_cf_polish=1\" alt=\"Real Python Logo\">\\n        </figure>\\n      </div>\\n      <div class=\"media-content\">\\n        <h2 class=\"title is-5\">Chemist, analytical</h2>\\n        <h3 class=\"subtitle is-6 company\">Lowe, Barnes and Thomas</h3>\\n      </div>\\n    </div>\\n\\n    <div class=\"content\">\\n      <p class=\"location\">\\n        New Lucasbury, AP\\n      </p>\\n      <p class=\"is-small has-text-grey\">\\n        <time datetime=\"2021-04-08\">2021-04-08</time>\\n      </p>\\n    </div>\\n    <footer class=\"card-footer\">\\n        <a href=\"https://www.realpython.com\" target=\"_blank\" class=\"card-footer-item\">Learn</a>\\n        <a href=\"https://realpython.github.io/fake-jobs/jobs/chemist-analytical-46.html\" target=\"_blank\" class=\"card-footer-item\">Apply</a>\\n    </footer>\\n  </div>\\n</div>\\n</div>\\n<div class=\"column is-half\">\\n<div class=\"card\">\\n  <div class=\"card-content\">\\n    <div class=\"media\">\\n      <div class=\"media-left\">\\n        <figure class=\"image is-48x48\">\\n          <img src=\"https://files.realpython.com/media/real-python-logo-thumbnail.7f0db70c2ed2.jpg?__no_cf_polish=1\" alt=\"Real Python Logo\">\\n        </figure>\\n      </div>\\n      <div class=\"media-content\">\\n        <h2 class=\"title is-5\">Programmer, multimedia</h2>\\n        <h3 class=\"subtitle is-6 company\">Lewis, Gonzalez and Vasquez</h3>\\n      </div>\\n    </div>\\n\\n    <div class=\"content\">\\n      <p class=\"location\">\\n        Port Cory, AE\\n      </p>\\n      <p class=\"is-small has-text-grey\">\\n        <time datetime=\"2021-04-08\">2021-04-08</time>\\n      </p>\\n    </div>\\n    <footer class=\"card-footer\">\\n        <a href=\"https://www.realpython.com\" target=\"_blank\" class=\"card-footer-item\">Learn</a>\\n        <a href=\"https://realpython.github.io/fake-jobs/jobs/programmer-multimedia-47.html\" target=\"_blank\" class=\"card-footer-item\">Apply</a>\\n    </footer>\\n  </div>\\n</div>\\n</div>\\n<div class=\"column is-half\">\\n<div class=\"card\">\\n  <div class=\"card-content\">\\n    <div class=\"media\">\\n      <div class=\"media-left\">\\n        <figure class=\"image is-48x48\">\\n          <img src=\"https://files.realpython.com/media/real-python-logo-thumbnail.7f0db70c2ed2.jpg?__no_cf_polish=1\" alt=\"Real Python Logo\">\\n        </figure>\\n      </div>\\n      <div class=\"media-content\">\\n        <h2 class=\"title is-5\">Engineer, broadcasting (operations)</h2>\\n        <h3 class=\"subtitle is-6 company\">Taylor PLC</h3>\\n      </div>\\n    </div>\\n\\n    <div class=\"content\">\\n      <p class=\"location\">\\n        Gileston, AA\\n      </p>\\n      <p class=\"is-small has-text-grey\">\\n        <time datetime=\"2021-04-08\">2021-04-08</time>\\n      </p>\\n    </div>\\n    <footer class=\"card-footer\">\\n        <a href=\"https://www.realpython.com\" target=\"_blank\" class=\"card-footer-item\">Learn</a>\\n        <a href=\"https://realpython.github.io/fake-jobs/jobs/engineer-broadcasting-operations-48.html\" target=\"_blank\" class=\"card-footer-item\">Apply</a>\\n    </footer>\\n  </div>\\n</div>\\n</div>\\n<div class=\"column is-half\">\\n<div class=\"card\">\\n  <div class=\"card-content\">\\n    <div class=\"media\">\\n      <div class=\"media-left\">\\n        <figure class=\"image is-48x48\">\\n          <img src=\"https://files.realpython.com/media/real-python-logo-thumbnail.7f0db70c2ed2.jpg?__no_cf_polish=1\" alt=\"Real Python Logo\">\\n        </figure>\\n      </div>\\n      <div class=\"media-content\">\\n        <h2 class=\"title is-5\">Teacher, primary school</h2>\\n        <h3 class=\"subtitle is-6 company\">Oliver, Jones and Ramirez</h3>\\n      </div>\\n    </div>\\n\\n    <div class=\"content\">\\n      <p class=\"location\">\\n        Cindyshire, AA\\n      </p>\\n      <p class=\"is-small has-text-grey\">\\n        <time datetime=\"2021-04-08\">2021-04-08</time>\\n      </p>\\n    </div>\\n    <footer class=\"card-footer\">\\n        <a href=\"https://www.realpython.com\" target=\"_blank\" class=\"card-footer-item\">Learn</a>\\n        <a href=\"https://realpython.github.io/fake-jobs/jobs/teacher-primary-school-49.html\" target=\"_blank\" class=\"card-footer-item\">Apply</a>\\n    </footer>\\n  </div>\\n</div>\\n</div>\\n<div class=\"column is-half\">\\n<div class=\"card\">\\n  <div class=\"card-content\">\\n    <div class=\"media\">\\n      <div class=\"media-left\">\\n        <figure class=\"image is-48x48\">\\n          <img src=\"https://files.realpython.com/media/real-python-logo-thumbnail.7f0db70c2ed2.jpg?__no_cf_polish=1\" alt=\"Real Python Logo\">\\n        </figure>\\n      </div>\\n      <div class=\"media-content\">\\n        <h2 class=\"title is-5\">Python Developer</h2>\\n        <h3 class=\"subtitle is-6 company\">Rivera and Sons</h3>\\n      </div>\\n    </div>\\n\\n    <div class=\"content\">\\n      <p class=\"location\">\\n        East Michaelfort, AA\\n      </p>\\n      <p class=\"is-small has-text-grey\">\\n        <time datetime=\"2021-04-08\">2021-04-08</time>\\n      </p>\\n    </div>\\n    <footer class=\"card-footer\">\\n        <a href=\"https://www.realpython.com\" target=\"_blank\" class=\"card-footer-item\">Learn</a>\\n        <a href=\"https://realpython.github.io/fake-jobs/jobs/python-developer-50.html\" target=\"_blank\" class=\"card-footer-item\">Apply</a>\\n    </footer>\\n  </div>\\n</div>\\n</div>\\n<div class=\"column is-half\">\\n<div class=\"card\">\\n  <div class=\"card-content\">\\n    <div class=\"media\">\\n      <div class=\"media-left\">\\n        <figure class=\"image is-48x48\">\\n          <img src=\"https://files.realpython.com/media/real-python-logo-thumbnail.7f0db70c2ed2.jpg?__no_cf_polish=1\" alt=\"Real Python Logo\">\\n        </figure>\\n      </div>\\n      <div class=\"media-content\">\\n        <h2 class=\"title is-5\">Manufacturing systems engineer</h2>\\n        <h3 class=\"subtitle is-6 company\">Garcia PLC</h3>\\n      </div>\\n    </div>\\n\\n    <div class=\"content\">\\n      <p class=\"location\">\\n        Joybury, AE\\n      </p>\\n      <p class=\"is-small has-text-grey\">\\n        <time datetime=\"2021-04-08\">2021-04-08</time>\\n      </p>\\n    </div>\\n    <footer class=\"card-footer\">\\n        <a href=\"https://www.realpython.com\" target=\"_blank\" class=\"card-footer-item\">Learn</a>\\n        <a href=\"https://realpython.github.io/fake-jobs/jobs/manufacturing-systems-engineer-51.html\" target=\"_blank\" class=\"card-footer-item\">Apply</a>\\n    </footer>\\n  </div>\\n</div>\\n</div>\\n<div class=\"column is-half\">\\n<div class=\"card\">\\n  <div class=\"card-content\">\\n    <div class=\"media\">\\n      <div class=\"media-left\">\\n        <figure class=\"image is-48x48\">\\n          <img src=\"https://files.realpython.com/media/real-python-logo-thumbnail.7f0db70c2ed2.jpg?__no_cf_polish=1\" alt=\"Real Python Logo\">\\n        </figure>\\n      </div>\\n      <div class=\"media-content\">\\n        <h2 class=\"title is-5\">Producer, television/film/video</h2>\\n        <h3 class=\"subtitle is-6 company\">Johnson, Wells and Kramer</h3>\\n      </div>\\n    </div>\\n\\n    <div class=\"content\">\\n      <p class=\"location\">\\n        Emmatown, AE\\n      </p>\\n      <p class=\"is-small has-text-grey\">\\n        <time datetime=\"2021-04-08\">2021-04-08</time>\\n      </p>\\n    </div>\\n    <footer class=\"card-footer\">\\n        <a href=\"https://www.realpython.com\" target=\"_blank\" class=\"card-footer-item\">Learn</a>\\n        <a href=\"https://realpython.github.io/fake-jobs/jobs/producer-television-film-video-52.html\" target=\"_blank\" class=\"card-footer-item\">Apply</a>\\n    </footer>\\n  </div>\\n</div>\\n</div>\\n<div class=\"column is-half\">\\n<div class=\"card\">\\n  <div class=\"card-content\">\\n    <div class=\"media\">\\n      <div class=\"media-left\">\\n        <figure class=\"image is-48x48\">\\n          <img src=\"https://files.realpython.com/media/real-python-logo-thumbnail.7f0db70c2ed2.jpg?__no_cf_polish=1\" alt=\"Real Python Logo\">\\n        </figure>\\n      </div>\\n      <div class=\"media-content\">\\n        <h2 class=\"title is-5\">Scientist, forensic</h2>\\n        <h3 class=\"subtitle is-6 company\">Gonzalez LLC</h3>\\n      </div>\\n    </div>\\n\\n    <div class=\"content\">\\n      <p class=\"location\">\\n        Colehaven, AP\\n      </p>\\n      <p class=\"is-small has-text-grey\">\\n        <time datetime=\"2021-04-08\">2021-04-08</time>\\n      </p>\\n    </div>\\n    <footer class=\"card-footer\">\\n        <a href=\"https://www.realpython.com\" target=\"_blank\" class=\"card-footer-item\">Learn</a>\\n        <a href=\"https://realpython.github.io/fake-jobs/jobs/scientist-forensic-53.html\" target=\"_blank\" class=\"card-footer-item\">Apply</a>\\n    </footer>\\n  </div>\\n</div>\\n</div>\\n<div class=\"column is-half\">\\n<div class=\"card\">\\n  <div class=\"card-content\">\\n    <div class=\"media\">\\n      <div class=\"media-left\">\\n        <figure class=\"image is-48x48\">\\n          <img src=\"https://files.realpython.com/media/real-python-logo-thumbnail.7f0db70c2ed2.jpg?__no_cf_polish=1\" alt=\"Real Python Logo\">\\n        </figure>\\n      </div>\\n      <div class=\"media-content\">\\n        <h2 class=\"title is-5\">Bonds trader</h2>\\n        <h3 class=\"subtitle is-6 company\">Morgan, White and Macdonald</h3>\\n      </div>\\n    </div>\\n\\n    <div class=\"content\">\\n      <p class=\"location\">\\n        Port Coryton, AE\\n      </p>\\n      <p class=\"is-small has-text-grey\">\\n        <time datetime=\"2021-04-08\">2021-04-08</time>\\n      </p>\\n    </div>\\n    <footer class=\"card-footer\">\\n        <a href=\"https://www.realpython.com\" target=\"_blank\" class=\"card-footer-item\">Learn</a>\\n        <a href=\"https://realpython.github.io/fake-jobs/jobs/bonds-trader-54.html\" target=\"_blank\" class=\"card-footer-item\">Apply</a>\\n    </footer>\\n  </div>\\n</div>\\n</div>\\n<div class=\"column is-half\">\\n<div class=\"card\">\\n  <div class=\"card-content\">\\n    <div class=\"media\">\\n      <div class=\"media-left\">\\n        <figure class=\"image is-48x48\">\\n          <img src=\"https://files.realpython.com/media/real-python-logo-thumbnail.7f0db70c2ed2.jpg?__no_cf_polish=1\" alt=\"Real Python Logo\">\\n        </figure>\\n      </div>\\n      <div class=\"media-content\">\\n        <h2 class=\"title is-5\">Editorial assistant</h2>\\n        <h3 class=\"subtitle is-6 company\">Robinson-Fitzpatrick</h3>\\n      </div>\\n    </div>\\n\\n    <div class=\"content\">\\n      <p class=\"location\">\\n        Amyborough, AA\\n      </p>\\n      <p class=\"is-small has-text-grey\">\\n        <time datetime=\"2021-04-08\">2021-04-08</time>\\n      </p>\\n    </div>\\n    <footer class=\"card-footer\">\\n        <a href=\"https://www.realpython.com\" target=\"_blank\" class=\"card-footer-item\">Learn</a>\\n        <a href=\"https://realpython.github.io/fake-jobs/jobs/editorial-assistant-55.html\" target=\"_blank\" class=\"card-footer-item\">Apply</a>\\n    </footer>\\n  </div>\\n</div>\\n</div>\\n<div class=\"column is-half\">\\n<div class=\"card\">\\n  <div class=\"card-content\">\\n    <div class=\"media\">\\n      <div class=\"media-left\">\\n        <figure class=\"image is-48x48\">\\n          <img src=\"https://files.realpython.com/media/real-python-logo-thumbnail.7f0db70c2ed2.jpg?__no_cf_polish=1\" alt=\"Real Python Logo\">\\n        </figure>\\n      </div>\\n      <div class=\"media-content\">\\n        <h2 class=\"title is-5\">Photographer</h2>\\n        <h3 class=\"subtitle is-6 company\">Waters, Wilson and Hoover</h3>\\n      </div>\\n    </div>\\n\\n    <div class=\"content\">\\n      <p class=\"location\">\\n        Reynoldsville, AA\\n      </p>\\n      <p class=\"is-small has-text-grey\">\\n        <time datetime=\"2021-04-08\">2021-04-08</time>\\n      </p>\\n    </div>\\n    <footer class=\"card-footer\">\\n        <a href=\"https://www.realpython.com\" target=\"_blank\" class=\"card-footer-item\">Learn</a>\\n        <a href=\"https://realpython.github.io/fake-jobs/jobs/photographer-56.html\" target=\"_blank\" class=\"card-footer-item\">Apply</a>\\n    </footer>\\n  </div>\\n</div>\\n</div>\\n<div class=\"column is-half\">\\n<div class=\"card\">\\n  <div class=\"card-content\">\\n    <div class=\"media\">\\n      <div class=\"media-left\">\\n        <figure class=\"image is-48x48\">\\n          <img src=\"https://files.realpython.com/media/real-python-logo-thumbnail.7f0db70c2ed2.jpg?__no_cf_polish=1\" alt=\"Real Python Logo\">\\n        </figure>\\n      </div>\\n      <div class=\"media-content\">\\n        <h2 class=\"title is-5\">Retail banker</h2>\\n        <h3 class=\"subtitle is-6 company\">Hill LLC</h3>\\n      </div>\\n    </div>\\n\\n    <div class=\"content\">\\n      <p class=\"location\">\\n        Port Billy, AP\\n      </p>\\n      <p class=\"is-small has-text-grey\">\\n        <time datetime=\"2021-04-08\">2021-04-08</time>\\n      </p>\\n    </div>\\n    <footer class=\"card-footer\">\\n        <a href=\"https://www.realpython.com\" target=\"_blank\" class=\"card-footer-item\">Learn</a>\\n        <a href=\"https://realpython.github.io/fake-jobs/jobs/retail-banker-57.html\" target=\"_blank\" class=\"card-footer-item\">Apply</a>\\n    </footer>\\n  </div>\\n</div>\\n</div>\\n<div class=\"column is-half\">\\n<div class=\"card\">\\n  <div class=\"card-content\">\\n    <div class=\"media\">\\n      <div class=\"media-left\">\\n        <figure class=\"image is-48x48\">\\n          <img src=\"https://files.realpython.com/media/real-python-logo-thumbnail.7f0db70c2ed2.jpg?__no_cf_polish=1\" alt=\"Real Python Logo\">\\n        </figure>\\n      </div>\\n      <div class=\"media-content\">\\n        <h2 class=\"title is-5\">Jewellery designer</h2>\\n        <h3 class=\"subtitle is-6 company\">Li-Gregory</h3>\\n      </div>\\n    </div>\\n\\n    <div class=\"content\">\\n      <p class=\"location\">\\n        Adamburgh, AA\\n      </p>\\n      <p class=\"is-small has-text-grey\">\\n        <time datetime=\"2021-04-08\">2021-04-08</time>\\n      </p>\\n    </div>\\n    <footer class=\"card-footer\">\\n        <a href=\"https://www.realpython.com\" target=\"_blank\" class=\"card-footer-item\">Learn</a>\\n        <a href=\"https://realpython.github.io/fake-jobs/jobs/jewellery-designer-58.html\" target=\"_blank\" class=\"card-footer-item\">Apply</a>\\n    </footer>\\n  </div>\\n</div>\\n</div>\\n<div class=\"column is-half\">\\n<div class=\"card\">\\n  <div class=\"card-content\">\\n    <div class=\"media\">\\n      <div class=\"media-left\">\\n        <figure class=\"image is-48x48\">\\n          <img src=\"https://files.realpython.com/media/real-python-logo-thumbnail.7f0db70c2ed2.jpg?__no_cf_polish=1\" alt=\"Real Python Logo\">\\n        </figure>\\n      </div>\\n      <div class=\"media-content\">\\n        <h2 class=\"title is-5\">Ophthalmologist</h2>\\n        <h3 class=\"subtitle is-6 company\">Fisher, Ryan and Coleman</h3>\\n      </div>\\n    </div>\\n\\n    <div class=\"content\">\\n      <p class=\"location\">\\n        Wilsonmouth, AA\\n      </p>\\n      <p class=\"is-small has-text-grey\">\\n        <time datetime=\"2021-04-08\">2021-04-08</time>\\n      </p>\\n    </div>\\n    <footer class=\"card-footer\">\\n        <a href=\"https://www.realpython.com\" target=\"_blank\" class=\"card-footer-item\">Learn</a>\\n        <a href=\"https://realpython.github.io/fake-jobs/jobs/ophthalmologist-59.html\" target=\"_blank\" class=\"card-footer-item\">Apply</a>\\n    </footer>\\n  </div>\\n</div>\\n</div>\\n<div class=\"column is-half\">\\n<div class=\"card\">\\n  <div class=\"card-content\">\\n    <div class=\"media\">\\n      <div class=\"media-left\">\\n        <figure class=\"image is-48x48\">\\n          <img src=\"https://files.realpython.com/media/real-python-logo-thumbnail.7f0db70c2ed2.jpg?__no_cf_polish=1\" alt=\"Real Python Logo\">\\n        </figure>\\n      </div>\\n      <div class=\"media-content\">\\n        <h2 class=\"title is-5\">Back-End Web Developer (Python, Django)</h2>\\n        <h3 class=\"subtitle is-6 company\">Stewart-Alexander</h3>\\n      </div>\\n    </div>\\n\\n    <div class=\"content\">\\n      <p class=\"location\">\\n        South Kimberly, AA\\n      </p>\\n      <p class=\"is-small has-text-grey\">\\n        <time datetime=\"2021-04-08\">2021-04-08</time>\\n      </p>\\n    </div>\\n    <footer class=\"card-footer\">\\n        <a href=\"https://www.realpython.com\" target=\"_blank\" class=\"card-footer-item\">Learn</a>\\n        <a href=\"https://realpython.github.io/fake-jobs/jobs/back-end-web-developer-python-django-60.html\" target=\"_blank\" class=\"card-footer-item\">Apply</a>\\n    </footer>\\n  </div>\\n</div>\\n</div>\\n<div class=\"column is-half\">\\n<div class=\"card\">\\n  <div class=\"card-content\">\\n    <div class=\"media\">\\n      <div class=\"media-left\">\\n        <figure class=\"image is-48x48\">\\n          <img src=\"https://files.realpython.com/media/real-python-logo-thumbnail.7f0db70c2ed2.jpg?__no_cf_polish=1\" alt=\"Real Python Logo\">\\n        </figure>\\n      </div>\\n      <div class=\"media-content\">\\n        <h2 class=\"title is-5\">Licensed conveyancer</h2>\\n        <h3 class=\"subtitle is-6 company\">Abbott and Sons</h3>\\n      </div>\\n    </div>\\n\\n    <div class=\"content\">\\n      <p class=\"location\">\\n        Benjaminland, AP\\n      </p>\\n      <p class=\"is-small has-text-grey\">\\n        <time datetime=\"2021-04-08\">2021-04-08</time>\\n      </p>\\n    </div>\\n    <footer class=\"card-footer\">\\n        <a href=\"https://www.realpython.com\" target=\"_blank\" class=\"card-footer-item\">Learn</a>\\n        <a href=\"https://realpython.github.io/fake-jobs/jobs/licensed-conveyancer-61.html\" target=\"_blank\" class=\"card-footer-item\">Apply</a>\\n    </footer>\\n  </div>\\n</div>\\n</div>\\n<div class=\"column is-half\">\\n<div class=\"card\">\\n  <div class=\"card-content\">\\n    <div class=\"media\">\\n      <div class=\"media-left\">\\n        <figure class=\"image is-48x48\">\\n          <img src=\"https://files.realpython.com/media/real-python-logo-thumbnail.7f0db70c2ed2.jpg?__no_cf_polish=1\" alt=\"Real Python Logo\">\\n        </figure>\\n      </div>\\n      <div class=\"media-content\">\\n        <h2 class=\"title is-5\">Futures trader</h2>\\n        <h3 class=\"subtitle is-6 company\">Bryant, Santana and Davenport</h3>\\n      </div>\\n    </div>\\n\\n    <div class=\"content\">\\n      <p class=\"location\">\\n        Zacharyport, AA\\n      </p>\\n      <p class=\"is-small has-text-grey\">\\n        <time datetime=\"2021-04-08\">2021-04-08</time>\\n      </p>\\n    </div>\\n    <footer class=\"card-footer\">\\n        <a href=\"https://www.realpython.com\" target=\"_blank\" class=\"card-footer-item\">Learn</a>\\n        <a href=\"https://realpython.github.io/fake-jobs/jobs/futures-trader-62.html\" target=\"_blank\" class=\"card-footer-item\">Apply</a>\\n    </footer>\\n  </div>\\n</div>\\n</div>\\n<div class=\"column is-half\">\\n<div class=\"card\">\\n  <div class=\"card-content\">\\n    <div class=\"media\">\\n      <div class=\"media-left\">\\n        <figure class=\"image is-48x48\">\\n          <img src=\"https://files.realpython.com/media/real-python-logo-thumbnail.7f0db70c2ed2.jpg?__no_cf_polish=1\" alt=\"Real Python Logo\">\\n        </figure>\\n      </div>\\n      <div class=\"media-content\">\\n        <h2 class=\"title is-5\">Counselling psychologist</h2>\\n        <h3 class=\"subtitle is-6 company\">Smith PLC</h3>\\n      </div>\\n    </div>\\n\\n    <div class=\"content\">\\n      <p class=\"location\">\\n        Port Devonville, AE\\n      </p>\\n      <p class=\"is-small has-text-grey\">\\n        <time datetime=\"2021-04-08\">2021-04-08</time>\\n      </p>\\n    </div>\\n    <footer class=\"card-footer\">\\n        <a href=\"https://www.realpython.com\" target=\"_blank\" class=\"card-footer-item\">Learn</a>\\n        <a href=\"https://realpython.github.io/fake-jobs/jobs/counselling-psychologist-63.html\" target=\"_blank\" class=\"card-footer-item\">Apply</a>\\n    </footer>\\n  </div>\\n</div>\\n</div>\\n<div class=\"column is-half\">\\n<div class=\"card\">\\n  <div class=\"card-content\">\\n    <div class=\"media\">\\n      <div class=\"media-left\">\\n        <figure class=\"image is-48x48\">\\n          <img src=\"https://files.realpython.com/media/real-python-logo-thumbnail.7f0db70c2ed2.jpg?__no_cf_polish=1\" alt=\"Real Python Logo\">\\n        </figure>\\n      </div>\\n      <div class=\"media-content\">\\n        <h2 class=\"title is-5\">Insurance underwriter</h2>\\n        <h3 class=\"subtitle is-6 company\">Patterson-Singh</h3>\\n      </div>\\n    </div>\\n\\n    <div class=\"content\">\\n      <p class=\"location\">\\n        East Thomas, AE\\n      </p>\\n      <p class=\"is-small has-text-grey\">\\n        <time datetime=\"2021-04-08\">2021-04-08</time>\\n      </p>\\n    </div>\\n    <footer class=\"card-footer\">\\n        <a href=\"https://www.realpython.com\" target=\"_blank\" class=\"card-footer-item\">Learn</a>\\n        <a href=\"https://realpython.github.io/fake-jobs/jobs/insurance-underwriter-64.html\" target=\"_blank\" class=\"card-footer-item\">Apply</a>\\n    </footer>\\n  </div>\\n</div>\\n</div>\\n<div class=\"column is-half\">\\n<div class=\"card\">\\n  <div class=\"card-content\">\\n    <div class=\"media\">\\n      <div class=\"media-left\">\\n        <figure class=\"image is-48x48\">\\n          <img src=\"https://files.realpython.com/media/real-python-logo-thumbnail.7f0db70c2ed2.jpg?__no_cf_polish=1\" alt=\"Real Python Logo\">\\n        </figure>\\n      </div>\\n      <div class=\"media-content\">\\n        <h2 class=\"title is-5\">Engineer, automotive</h2>\\n        <h3 class=\"subtitle is-6 company\">Martinez-Berry</h3>\\n      </div>\\n    </div>\\n\\n    <div class=\"content\">\\n      <p class=\"location\">\\n        New Jeffrey, AP\\n      </p>\\n      <p class=\"is-small has-text-grey\">\\n        <time datetime=\"2021-04-08\">2021-04-08</time>\\n      </p>\\n    </div>\\n    <footer class=\"card-footer\">\\n        <a href=\"https://www.realpython.com\" target=\"_blank\" class=\"card-footer-item\">Learn</a>\\n        <a href=\"https://realpython.github.io/fake-jobs/jobs/engineer-automotive-65.html\" target=\"_blank\" class=\"card-footer-item\">Apply</a>\\n    </footer>\\n  </div>\\n</div>\\n</div>\\n<div class=\"column is-half\">\\n<div class=\"card\">\\n  <div class=\"card-content\">\\n    <div class=\"media\">\\n      <div class=\"media-left\">\\n        <figure class=\"image is-48x48\">\\n          <img src=\"https://files.realpython.com/media/real-python-logo-thumbnail.7f0db70c2ed2.jpg?__no_cf_polish=1\" alt=\"Real Python Logo\">\\n        </figure>\\n      </div>\\n      <div class=\"media-content\">\\n        <h2 class=\"title is-5\">Producer, radio</h2>\\n        <h3 class=\"subtitle is-6 company\">May, Taylor and Fisher</h3>\\n      </div>\\n    </div>\\n\\n    <div class=\"content\">\\n      <p class=\"location\">\\n        Davidside, AA\\n      </p>\\n      <p class=\"is-small has-text-grey\">\\n        <time datetime=\"2021-04-08\">2021-04-08</time>\\n      </p>\\n    </div>\\n    <footer class=\"card-footer\">\\n        <a href=\"https://www.realpython.com\" target=\"_blank\" class=\"card-footer-item\">Learn</a>\\n        <a href=\"https://realpython.github.io/fake-jobs/jobs/producer-radio-66.html\" target=\"_blank\" class=\"card-footer-item\">Apply</a>\\n    </footer>\\n  </div>\\n</div>\\n</div>\\n<div class=\"column is-half\">\\n<div class=\"card\">\\n  <div class=\"card-content\">\\n    <div class=\"media\">\\n      <div class=\"media-left\">\\n        <figure class=\"image is-48x48\">\\n          <img src=\"https://files.realpython.com/media/real-python-logo-thumbnail.7f0db70c2ed2.jpg?__no_cf_polish=1\" alt=\"Real Python Logo\">\\n        </figure>\\n      </div>\\n      <div class=\"media-content\">\\n        <h2 class=\"title is-5\">Dispensing optician</h2>\\n        <h3 class=\"subtitle is-6 company\">Bailey, Owen and Thompson</h3>\\n      </div>\\n    </div>\\n\\n    <div class=\"content\">\\n      <p class=\"location\">\\n        Jamesville, AA\\n      </p>\\n      <p class=\"is-small has-text-grey\">\\n        <time datetime=\"2021-04-08\">2021-04-08</time>\\n      </p>\\n    </div>\\n    <footer class=\"card-footer\">\\n        <a href=\"https://www.realpython.com\" target=\"_blank\" class=\"card-footer-item\">Learn</a>\\n        <a href=\"https://realpython.github.io/fake-jobs/jobs/dispensing-optician-67.html\" target=\"_blank\" class=\"card-footer-item\">Apply</a>\\n    </footer>\\n  </div>\\n</div>\\n</div>\\n<div class=\"column is-half\">\\n<div class=\"card\">\\n  <div class=\"card-content\">\\n    <div class=\"media\">\\n      <div class=\"media-left\">\\n        <figure class=\"image is-48x48\">\\n          <img src=\"https://files.realpython.com/media/real-python-logo-thumbnail.7f0db70c2ed2.jpg?__no_cf_polish=1\" alt=\"Real Python Logo\">\\n        </figure>\\n      </div>\\n      <div class=\"media-content\">\\n        <h2 class=\"title is-5\">Designer, fashion/clothing</h2>\\n        <h3 class=\"subtitle is-6 company\">Vasquez Ltd</h3>\\n      </div>\\n    </div>\\n\\n    <div class=\"content\">\\n      <p class=\"location\">\\n        New Kelly, AP\\n      </p>\\n      <p class=\"is-small has-text-grey\">\\n        <time datetime=\"2021-04-08\">2021-04-08</time>\\n      </p>\\n    </div>\\n    <footer class=\"card-footer\">\\n        <a href=\"https://www.realpython.com\" target=\"_blank\" class=\"card-footer-item\">Learn</a>\\n        <a href=\"https://realpython.github.io/fake-jobs/jobs/designer-fashion-clothing-68.html\" target=\"_blank\" class=\"card-footer-item\">Apply</a>\\n    </footer>\\n  </div>\\n</div>\\n</div>\\n<div class=\"column is-half\">\\n<div class=\"card\">\\n  <div class=\"card-content\">\\n    <div class=\"media\">\\n      <div class=\"media-left\">\\n        <figure class=\"image is-48x48\">\\n          <img src=\"https://files.realpython.com/media/real-python-logo-thumbnail.7f0db70c2ed2.jpg?__no_cf_polish=1\" alt=\"Real Python Logo\">\\n        </figure>\\n      </div>\\n      <div class=\"media-content\">\\n        <h2 class=\"title is-5\">Chartered loss adjuster</h2>\\n        <h3 class=\"subtitle is-6 company\">Leblanc LLC</h3>\\n      </div>\\n    </div>\\n\\n    <div class=\"content\">\\n      <p class=\"location\">\\n        Lake Antonio, AA\\n      </p>\\n      <p class=\"is-small has-text-grey\">\\n        <time datetime=\"2021-04-08\">2021-04-08</time>\\n      </p>\\n    </div>\\n    <footer class=\"card-footer\">\\n        <a href=\"https://www.realpython.com\" target=\"_blank\" class=\"card-footer-item\">Learn</a>\\n        <a href=\"https://realpython.github.io/fake-jobs/jobs/chartered-loss-adjuster-69.html\" target=\"_blank\" class=\"card-footer-item\">Apply</a>\\n    </footer>\\n  </div>\\n</div>\\n</div>\\n<div class=\"column is-half\">\\n<div class=\"card\">\\n  <div class=\"card-content\">\\n    <div class=\"media\">\\n      <div class=\"media-left\">\\n        <figure class=\"image is-48x48\">\\n          <img src=\"https://files.realpython.com/media/real-python-logo-thumbnail.7f0db70c2ed2.jpg?__no_cf_polish=1\" alt=\"Real Python Logo\">\\n        </figure>\\n      </div>\\n      <div class=\"media-content\">\\n        <h2 class=\"title is-5\">Back-End Web Developer (Python, Django)</h2>\\n        <h3 class=\"subtitle is-6 company\">Jackson, Ali and Mckee</h3>\\n      </div>\\n    </div>\\n\\n    <div class=\"content\">\\n      <p class=\"location\">\\n        New Elizabethside, AA\\n      </p>\\n      <p class=\"is-small has-text-grey\">\\n        <time datetime=\"2021-04-08\">2021-04-08</time>\\n      </p>\\n    </div>\\n    <footer class=\"card-footer\">\\n        <a href=\"https://www.realpython.com\" target=\"_blank\" class=\"card-footer-item\">Learn</a>\\n        <a href=\"https://realpython.github.io/fake-jobs/jobs/back-end-web-developer-python-django-70.html\" target=\"_blank\" class=\"card-footer-item\">Apply</a>\\n    </footer>\\n  </div>\\n</div>\\n</div>\\n<div class=\"column is-half\">\\n<div class=\"card\">\\n  <div class=\"card-content\">\\n    <div class=\"media\">\\n      <div class=\"media-left\">\\n        <figure class=\"image is-48x48\">\\n          <img src=\"https://files.realpython.com/media/real-python-logo-thumbnail.7f0db70c2ed2.jpg?__no_cf_polish=1\" alt=\"Real Python Logo\">\\n        </figure>\\n      </div>\\n      <div class=\"media-content\">\\n        <h2 class=\"title is-5\">Forest/woodland manager</h2>\\n        <h3 class=\"subtitle is-6 company\">Blankenship, Knight and Powell</h3>\\n      </div>\\n    </div>\\n\\n    <div class=\"content\">\\n      <p class=\"location\">\\n        Millsbury, AE\\n      </p>\\n      <p class=\"is-small has-text-grey\">\\n        <time datetime=\"2021-04-08\">2021-04-08</time>\\n      </p>\\n    </div>\\n    <footer class=\"card-footer\">\\n        <a href=\"https://www.realpython.com\" target=\"_blank\" class=\"card-footer-item\">Learn</a>\\n        <a href=\"https://realpython.github.io/fake-jobs/jobs/forest-woodland-manager-71.html\" target=\"_blank\" class=\"card-footer-item\">Apply</a>\\n    </footer>\\n  </div>\\n</div>\\n</div>\\n<div class=\"column is-half\">\\n<div class=\"card\">\\n  <div class=\"card-content\">\\n    <div class=\"media\">\\n      <div class=\"media-left\">\\n        <figure class=\"image is-48x48\">\\n          <img src=\"https://files.realpython.com/media/real-python-logo-thumbnail.7f0db70c2ed2.jpg?__no_cf_polish=1\" alt=\"Real Python Logo\">\\n        </figure>\\n      </div>\\n      <div class=\"media-content\">\\n        <h2 class=\"title is-5\">Clinical cytogeneticist</h2>\\n        <h3 class=\"subtitle is-6 company\">Patton, Haynes and Jones</h3>\\n      </div>\\n    </div>\\n\\n    <div class=\"content\">\\n      <p class=\"location\">\\n        Lloydton, AP\\n      </p>\\n      <p class=\"is-small has-text-grey\">\\n        <time datetime=\"2021-04-08\">2021-04-08</time>\\n      </p>\\n    </div>\\n    <footer class=\"card-footer\">\\n        <a href=\"https://www.realpython.com\" target=\"_blank\" class=\"card-footer-item\">Learn</a>\\n        <a href=\"https://realpython.github.io/fake-jobs/jobs/clinical-cytogeneticist-72.html\" target=\"_blank\" class=\"card-footer-item\">Apply</a>\\n    </footer>\\n  </div>\\n</div>\\n</div>\\n<div class=\"column is-half\">\\n<div class=\"card\">\\n  <div class=\"card-content\">\\n    <div class=\"media\">\\n      <div class=\"media-left\">\\n        <figure class=\"image is-48x48\">\\n          <img src=\"https://files.realpython.com/media/real-python-logo-thumbnail.7f0db70c2ed2.jpg?__no_cf_polish=1\" alt=\"Real Python Logo\">\\n        </figure>\\n      </div>\\n      <div class=\"media-content\">\\n        <h2 class=\"title is-5\">Print production planner</h2>\\n        <h3 class=\"subtitle is-6 company\">Wood Inc</h3>\\n      </div>\\n    </div>\\n\\n    <div class=\"content\">\\n      <p class=\"location\">\\n        Port Jeremy, AA\\n      </p>\\n      <p class=\"is-small has-text-grey\">\\n        <time datetime=\"2021-04-08\">2021-04-08</time>\\n      </p>\\n    </div>\\n    <footer class=\"card-footer\">\\n        <a href=\"https://www.realpython.com\" target=\"_blank\" class=\"card-footer-item\">Learn</a>\\n        <a href=\"https://realpython.github.io/fake-jobs/jobs/print-production-planner-73.html\" target=\"_blank\" class=\"card-footer-item\">Apply</a>\\n    </footer>\\n  </div>\\n</div>\\n</div>\\n<div class=\"column is-half\">\\n<div class=\"card\">\\n  <div class=\"card-content\">\\n    <div class=\"media\">\\n      <div class=\"media-left\">\\n        <figure class=\"image is-48x48\">\\n          <img src=\"https://files.realpython.com/media/real-python-logo-thumbnail.7f0db70c2ed2.jpg?__no_cf_polish=1\" alt=\"Real Python Logo\">\\n        </figure>\\n      </div>\\n      <div class=\"media-content\">\\n        <h2 class=\"title is-5\">Systems developer</h2>\\n        <h3 class=\"subtitle is-6 company\">Collins Group</h3>\\n      </div>\\n    </div>\\n\\n    <div class=\"content\">\\n      <p class=\"location\">\\n        New Elizabethtown, AA\\n      </p>\\n      <p class=\"is-small has-text-grey\">\\n        <time datetime=\"2021-04-08\">2021-04-08</time>\\n      </p>\\n    </div>\\n    <footer class=\"card-footer\">\\n        <a href=\"https://www.realpython.com\" target=\"_blank\" class=\"card-footer-item\">Learn</a>\\n        <a href=\"https://realpython.github.io/fake-jobs/jobs/systems-developer-74.html\" target=\"_blank\" class=\"card-footer-item\">Apply</a>\\n    </footer>\\n  </div>\\n</div>\\n</div>\\n<div class=\"column is-half\">\\n<div class=\"card\">\\n  <div class=\"card-content\">\\n    <div class=\"media\">\\n      <div class=\"media-left\">\\n        <figure class=\"image is-48x48\">\\n          <img src=\"https://files.realpython.com/media/real-python-logo-thumbnail.7f0db70c2ed2.jpg?__no_cf_polish=1\" alt=\"Real Python Logo\">\\n        </figure>\\n      </div>\\n      <div class=\"media-content\">\\n        <h2 class=\"title is-5\">Graphic designer</h2>\\n        <h3 class=\"subtitle is-6 company\">Flores-Nelson</h3>\\n      </div>\\n    </div>\\n\\n    <div class=\"content\">\\n      <p class=\"location\">\\n        Charlesstad, AE\\n      </p>\\n      <p class=\"is-small has-text-grey\">\\n        <time datetime=\"2021-04-08\">2021-04-08</time>\\n      </p>\\n    </div>\\n    <footer class=\"card-footer\">\\n        <a href=\"https://www.realpython.com\" target=\"_blank\" class=\"card-footer-item\">Learn</a>\\n        <a href=\"https://realpython.github.io/fake-jobs/jobs/graphic-designer-75.html\" target=\"_blank\" class=\"card-footer-item\">Apply</a>\\n    </footer>\\n  </div>\\n</div>\\n</div>\\n<div class=\"column is-half\">\\n<div class=\"card\">\\n  <div class=\"card-content\">\\n    <div class=\"media\">\\n      <div class=\"media-left\">\\n        <figure class=\"image is-48x48\">\\n          <img src=\"https://files.realpython.com/media/real-python-logo-thumbnail.7f0db70c2ed2.jpg?__no_cf_polish=1\" alt=\"Real Python Logo\">\\n        </figure>\\n      </div>\\n      <div class=\"media-content\">\\n        <h2 class=\"title is-5\">Writer</h2>\\n        <h3 class=\"subtitle is-6 company\">Mitchell, Jones and Olson</h3>\\n      </div>\\n    </div>\\n\\n    <div class=\"content\">\\n      <p class=\"location\">\\n        Josephbury, AE\\n      </p>\\n      <p class=\"is-small has-text-grey\">\\n        <time datetime=\"2021-04-08\">2021-04-08</time>\\n      </p>\\n    </div>\\n    <footer class=\"card-footer\">\\n        <a href=\"https://www.realpython.com\" target=\"_blank\" class=\"card-footer-item\">Learn</a>\\n        <a href=\"https://realpython.github.io/fake-jobs/jobs/writer-76.html\" target=\"_blank\" class=\"card-footer-item\">Apply</a>\\n    </footer>\\n  </div>\\n</div>\\n</div>\\n<div class=\"column is-half\">\\n<div class=\"card\">\\n  <div class=\"card-content\">\\n    <div class=\"media\">\\n      <div class=\"media-left\">\\n        <figure class=\"image is-48x48\">\\n          <img src=\"https://files.realpython.com/media/real-python-logo-thumbnail.7f0db70c2ed2.jpg?__no_cf_polish=1\" alt=\"Real Python Logo\">\\n        </figure>\\n      </div>\\n      <div class=\"media-content\">\\n        <h2 class=\"title is-5\">Field seismologist</h2>\\n        <h3 class=\"subtitle is-6 company\">Howard Group</h3>\\n      </div>\\n    </div>\\n\\n    <div class=\"content\">\\n      <p class=\"location\">\\n        Seanfurt, AA\\n      </p>\\n      <p class=\"is-small has-text-grey\">\\n        <time datetime=\"2021-04-08\">2021-04-08</time>\\n      </p>\\n    </div>\\n    <footer class=\"card-footer\">\\n        <a href=\"https://www.realpython.com\" target=\"_blank\" class=\"card-footer-item\">Learn</a>\\n        <a href=\"https://realpython.github.io/fake-jobs/jobs/field-seismologist-77.html\" target=\"_blank\" class=\"card-footer-item\">Apply</a>\\n    </footer>\\n  </div>\\n</div>\\n</div>\\n<div class=\"column is-half\">\\n<div class=\"card\">\\n  <div class=\"card-content\">\\n    <div class=\"media\">\\n      <div class=\"media-left\">\\n        <figure class=\"image is-48x48\">\\n          <img src=\"https://files.realpython.com/media/real-python-logo-thumbnail.7f0db70c2ed2.jpg?__no_cf_polish=1\" alt=\"Real Python Logo\">\\n        </figure>\\n      </div>\\n      <div class=\"media-content\">\\n        <h2 class=\"title is-5\">Chief Strategy Officer</h2>\\n        <h3 class=\"subtitle is-6 company\">Kramer-Edwards</h3>\\n      </div>\\n    </div>\\n\\n    <div class=\"content\">\\n      <p class=\"location\">\\n        Williambury, AA\\n      </p>\\n      <p class=\"is-small has-text-grey\">\\n        <time datetime=\"2021-04-08\">2021-04-08</time>\\n      </p>\\n    </div>\\n    <footer class=\"card-footer\">\\n        <a href=\"https://www.realpython.com\" target=\"_blank\" class=\"card-footer-item\">Learn</a>\\n        <a href=\"https://realpython.github.io/fake-jobs/jobs/chief-strategy-officer-78.html\" target=\"_blank\" class=\"card-footer-item\">Apply</a>\\n    </footer>\\n  </div>\\n</div>\\n</div>\\n<div class=\"column is-half\">\\n<div class=\"card\">\\n  <div class=\"card-content\">\\n    <div class=\"media\">\\n      <div class=\"media-left\">\\n        <figure class=\"image is-48x48\">\\n          <img src=\"https://files.realpython.com/media/real-python-logo-thumbnail.7f0db70c2ed2.jpg?__no_cf_polish=1\" alt=\"Real Python Logo\">\\n        </figure>\\n      </div>\\n      <div class=\"media-content\">\\n        <h2 class=\"title is-5\">Air cabin crew</h2>\\n        <h3 class=\"subtitle is-6 company\">Berry-Houston</h3>\\n      </div>\\n    </div>\\n\\n    <div class=\"content\">\\n      <p class=\"location\">\\n        South Jorgeside, AP\\n      </p>\\n      <p class=\"is-small has-text-grey\">\\n        <time datetime=\"2021-04-08\">2021-04-08</time>\\n      </p>\\n    </div>\\n    <footer class=\"card-footer\">\\n        <a href=\"https://www.realpython.com\" target=\"_blank\" class=\"card-footer-item\">Learn</a>\\n        <a href=\"https://realpython.github.io/fake-jobs/jobs/air-cabin-crew-79.html\" target=\"_blank\" class=\"card-footer-item\">Apply</a>\\n    </footer>\\n  </div>\\n</div>\\n</div>\\n<div class=\"column is-half\">\\n<div class=\"card\">\\n  <div class=\"card-content\">\\n    <div class=\"media\">\\n      <div class=\"media-left\">\\n        <figure class=\"image is-48x48\">\\n          <img src=\"https://files.realpython.com/media/real-python-logo-thumbnail.7f0db70c2ed2.jpg?__no_cf_polish=1\" alt=\"Real Python Logo\">\\n        </figure>\\n      </div>\\n      <div class=\"media-content\">\\n        <h2 class=\"title is-5\">Python Programmer (Entry-Level)</h2>\\n        <h3 class=\"subtitle is-6 company\">Mathews Inc</h3>\\n      </div>\\n    </div>\\n\\n    <div class=\"content\">\\n      <p class=\"location\">\\n        Robertborough, AP\\n      </p>\\n      <p class=\"is-small has-text-grey\">\\n        <time datetime=\"2021-04-08\">2021-04-08</time>\\n      </p>\\n    </div>\\n    <footer class=\"card-footer\">\\n        <a href=\"https://www.realpython.com\" target=\"_blank\" class=\"card-footer-item\">Learn</a>\\n        <a href=\"https://realpython.github.io/fake-jobs/jobs/python-programmer-entry-level-80.html\" target=\"_blank\" class=\"card-footer-item\">Apply</a>\\n    </footer>\\n  </div>\\n</div>\\n</div>\\n<div class=\"column is-half\">\\n<div class=\"card\">\\n  <div class=\"card-content\">\\n    <div class=\"media\">\\n      <div class=\"media-left\">\\n        <figure class=\"image is-48x48\">\\n          <img src=\"https://files.realpython.com/media/real-python-logo-thumbnail.7f0db70c2ed2.jpg?__no_cf_polish=1\" alt=\"Real Python Logo\">\\n        </figure>\\n      </div>\\n      <div class=\"media-content\">\\n        <h2 class=\"title is-5\">Warden/ranger</h2>\\n        <h3 class=\"subtitle is-6 company\">Riley-Johnson</h3>\\n      </div>\\n    </div>\\n\\n    <div class=\"content\">\\n      <p class=\"location\">\\n        South Saratown, AP\\n      </p>\\n      <p class=\"is-small has-text-grey\">\\n        <time datetime=\"2021-04-08\">2021-04-08</time>\\n      </p>\\n    </div>\\n    <footer class=\"card-footer\">\\n        <a href=\"https://www.realpython.com\" target=\"_blank\" class=\"card-footer-item\">Learn</a>\\n        <a href=\"https://realpython.github.io/fake-jobs/jobs/warden-ranger-81.html\" target=\"_blank\" class=\"card-footer-item\">Apply</a>\\n    </footer>\\n  </div>\\n</div>\\n</div>\\n<div class=\"column is-half\">\\n<div class=\"card\">\\n  <div class=\"card-content\">\\n    <div class=\"media\">\\n      <div class=\"media-left\">\\n        <figure class=\"image is-48x48\">\\n          <img src=\"https://files.realpython.com/media/real-python-logo-thumbnail.7f0db70c2ed2.jpg?__no_cf_polish=1\" alt=\"Real Python Logo\">\\n        </figure>\\n      </div>\\n      <div class=\"media-content\">\\n        <h2 class=\"title is-5\">Sports therapist</h2>\\n        <h3 class=\"subtitle is-6 company\">Spencer and Sons</h3>\\n      </div>\\n    </div>\\n\\n    <div class=\"content\">\\n      <p class=\"location\">\\n        Hullview, AA\\n      </p>\\n      <p class=\"is-small has-text-grey\">\\n        <time datetime=\"2021-04-08\">2021-04-08</time>\\n      </p>\\n    </div>\\n    <footer class=\"card-footer\">\\n        <a href=\"https://www.realpython.com\" target=\"_blank\" class=\"card-footer-item\">Learn</a>\\n        <a href=\"https://realpython.github.io/fake-jobs/jobs/sports-therapist-82.html\" target=\"_blank\" class=\"card-footer-item\">Apply</a>\\n    </footer>\\n  </div>\\n</div>\\n</div>\\n<div class=\"column is-half\">\\n<div class=\"card\">\\n  <div class=\"card-content\">\\n    <div class=\"media\">\\n      <div class=\"media-left\">\\n        <figure class=\"image is-48x48\">\\n          <img src=\"https://files.realpython.com/media/real-python-logo-thumbnail.7f0db70c2ed2.jpg?__no_cf_polish=1\" alt=\"Real Python Logo\">\\n        </figure>\\n      </div>\\n      <div class=\"media-content\">\\n        <h2 class=\"title is-5\">Arts development officer</h2>\\n        <h3 class=\"subtitle is-6 company\">Camacho-Sanchez</h3>\\n      </div>\\n    </div>\\n\\n    <div class=\"content\">\\n      <p class=\"location\">\\n        Philipland, AP\\n      </p>\\n      <p class=\"is-small has-text-grey\">\\n        <time datetime=\"2021-04-08\">2021-04-08</time>\\n      </p>\\n    </div>\\n    <footer class=\"card-footer\">\\n        <a href=\"https://www.realpython.com\" target=\"_blank\" class=\"card-footer-item\">Learn</a>\\n        <a href=\"https://realpython.github.io/fake-jobs/jobs/arts-development-officer-83.html\" target=\"_blank\" class=\"card-footer-item\">Apply</a>\\n    </footer>\\n  </div>\\n</div>\\n</div>\\n<div class=\"column is-half\">\\n<div class=\"card\">\\n  <div class=\"card-content\">\\n    <div class=\"media\">\\n      <div class=\"media-left\">\\n        <figure class=\"image is-48x48\">\\n          <img src=\"https://files.realpython.com/media/real-python-logo-thumbnail.7f0db70c2ed2.jpg?__no_cf_polish=1\" alt=\"Real Python Logo\">\\n        </figure>\\n      </div>\\n      <div class=\"media-content\">\\n        <h2 class=\"title is-5\">Printmaker</h2>\\n        <h3 class=\"subtitle is-6 company\">Oliver and Sons</h3>\\n      </div>\\n    </div>\\n\\n    <div class=\"content\">\\n      <p class=\"location\">\\n        North Patty, AE\\n      </p>\\n      <p class=\"is-small has-text-grey\">\\n        <time datetime=\"2021-04-08\">2021-04-08</time>\\n      </p>\\n    </div>\\n    <footer class=\"card-footer\">\\n        <a href=\"https://www.realpython.com\" target=\"_blank\" class=\"card-footer-item\">Learn</a>\\n        <a href=\"https://realpython.github.io/fake-jobs/jobs/printmaker-84.html\" target=\"_blank\" class=\"card-footer-item\">Apply</a>\\n    </footer>\\n  </div>\\n</div>\\n</div>\\n<div class=\"column is-half\">\\n<div class=\"card\">\\n  <div class=\"card-content\">\\n    <div class=\"media\">\\n      <div class=\"media-left\">\\n        <figure class=\"image is-48x48\">\\n          <img src=\"https://files.realpython.com/media/real-python-logo-thumbnail.7f0db70c2ed2.jpg?__no_cf_polish=1\" alt=\"Real Python Logo\">\\n        </figure>\\n      </div>\\n      <div class=\"media-content\">\\n        <h2 class=\"title is-5\">Health and safety adviser</h2>\\n        <h3 class=\"subtitle is-6 company\">Eaton PLC</h3>\\n      </div>\\n    </div>\\n\\n    <div class=\"content\">\\n      <p class=\"location\">\\n        North Stephen, AE\\n      </p>\\n      <p class=\"is-small has-text-grey\">\\n        <time datetime=\"2021-04-08\">2021-04-08</time>\\n      </p>\\n    </div>\\n    <footer class=\"card-footer\">\\n        <a href=\"https://www.realpython.com\" target=\"_blank\" class=\"card-footer-item\">Learn</a>\\n        <a href=\"https://realpython.github.io/fake-jobs/jobs/health-and-safety-adviser-85.html\" target=\"_blank\" class=\"card-footer-item\">Apply</a>\\n    </footer>\\n  </div>\\n</div>\\n</div>\\n<div class=\"column is-half\">\\n<div class=\"card\">\\n  <div class=\"card-content\">\\n    <div class=\"media\">\\n      <div class=\"media-left\">\\n        <figure class=\"image is-48x48\">\\n          <img src=\"https://files.realpython.com/media/real-python-logo-thumbnail.7f0db70c2ed2.jpg?__no_cf_polish=1\" alt=\"Real Python Logo\">\\n        </figure>\\n      </div>\\n      <div class=\"media-content\">\\n        <h2 class=\"title is-5\">Manufacturing systems engineer</h2>\\n        <h3 class=\"subtitle is-6 company\">Stanley-Frederick</h3>\\n      </div>\\n    </div>\\n\\n    <div class=\"content\">\\n      <p class=\"location\">\\n        Stevensland, AP\\n      </p>\\n      <p class=\"is-small has-text-grey\">\\n        <time datetime=\"2021-04-08\">2021-04-08</time>\\n      </p>\\n    </div>\\n    <footer class=\"card-footer\">\\n        <a href=\"https://www.realpython.com\" target=\"_blank\" class=\"card-footer-item\">Learn</a>\\n        <a href=\"https://realpython.github.io/fake-jobs/jobs/manufacturing-systems-engineer-86.html\" target=\"_blank\" class=\"card-footer-item\">Apply</a>\\n    </footer>\\n  </div>\\n</div>\\n</div>\\n<div class=\"column is-half\">\\n<div class=\"card\">\\n  <div class=\"card-content\">\\n    <div class=\"media\">\\n      <div class=\"media-left\">\\n        <figure class=\"image is-48x48\">\\n          <img src=\"https://files.realpython.com/media/real-python-logo-thumbnail.7f0db70c2ed2.jpg?__no_cf_polish=1\" alt=\"Real Python Logo\">\\n        </figure>\\n      </div>\\n      <div class=\"media-content\">\\n        <h2 class=\"title is-5\">Programmer, applications</h2>\\n        <h3 class=\"subtitle is-6 company\">Bradley LLC</h3>\\n      </div>\\n    </div>\\n\\n    <div class=\"content\">\\n      <p class=\"location\">\\n        Reyesstad, AE\\n      </p>\\n      <p class=\"is-small has-text-grey\">\\n        <time datetime=\"2021-04-08\">2021-04-08</time>\\n      </p>\\n    </div>\\n    <footer class=\"card-footer\">\\n        <a href=\"https://www.realpython.com\" target=\"_blank\" class=\"card-footer-item\">Learn</a>\\n        <a href=\"https://realpython.github.io/fake-jobs/jobs/programmer-applications-87.html\" target=\"_blank\" class=\"card-footer-item\">Apply</a>\\n    </footer>\\n  </div>\\n</div>\\n</div>\\n<div class=\"column is-half\">\\n<div class=\"card\">\\n  <div class=\"card-content\">\\n    <div class=\"media\">\\n      <div class=\"media-left\">\\n        <figure class=\"image is-48x48\">\\n          <img src=\"https://files.realpython.com/media/real-python-logo-thumbnail.7f0db70c2ed2.jpg?__no_cf_polish=1\" alt=\"Real Python Logo\">\\n        </figure>\\n      </div>\\n      <div class=\"media-content\">\\n        <h2 class=\"title is-5\">Medical physicist</h2>\\n        <h3 class=\"subtitle is-6 company\">Parker, Goodwin and Zavala</h3>\\n      </div>\\n    </div>\\n\\n    <div class=\"content\">\\n      <p class=\"location\">\\n        Bellberg, AP\\n      </p>\\n      <p class=\"is-small has-text-grey\">\\n        <time datetime=\"2021-04-08\">2021-04-08</time>\\n      </p>\\n    </div>\\n    <footer class=\"card-footer\">\\n        <a href=\"https://www.realpython.com\" target=\"_blank\" class=\"card-footer-item\">Learn</a>\\n        <a href=\"https://realpython.github.io/fake-jobs/jobs/medical-physicist-88.html\" target=\"_blank\" class=\"card-footer-item\">Apply</a>\\n    </footer>\\n  </div>\\n</div>\\n</div>\\n<div class=\"column is-half\">\\n<div class=\"card\">\\n  <div class=\"card-content\">\\n    <div class=\"media\">\\n      <div class=\"media-left\">\\n        <figure class=\"image is-48x48\">\\n          <img src=\"https://files.realpython.com/media/real-python-logo-thumbnail.7f0db70c2ed2.jpg?__no_cf_polish=1\" alt=\"Real Python Logo\">\\n        </figure>\\n      </div>\\n      <div class=\"media-content\">\\n        <h2 class=\"title is-5\">Media planner</h2>\\n        <h3 class=\"subtitle is-6 company\">Kim-Miles</h3>\\n      </div>\\n    </div>\\n\\n    <div class=\"content\">\\n      <p class=\"location\">\\n        North Johnland, AE\\n      </p>\\n      <p class=\"is-small has-text-grey\">\\n        <time datetime=\"2021-04-08\">2021-04-08</time>\\n      </p>\\n    </div>\\n    <footer class=\"card-footer\">\\n        <a href=\"https://www.realpython.com\" target=\"_blank\" class=\"card-footer-item\">Learn</a>\\n        <a href=\"https://realpython.github.io/fake-jobs/jobs/media-planner-89.html\" target=\"_blank\" class=\"card-footer-item\">Apply</a>\\n    </footer>\\n  </div>\\n</div>\\n</div>\\n<div class=\"column is-half\">\\n<div class=\"card\">\\n  <div class=\"card-content\">\\n    <div class=\"media\">\\n      <div class=\"media-left\">\\n        <figure class=\"image is-48x48\">\\n          <img src=\"https://files.realpython.com/media/real-python-logo-thumbnail.7f0db70c2ed2.jpg?__no_cf_polish=1\" alt=\"Real Python Logo\">\\n        </figure>\\n      </div>\\n      <div class=\"media-content\">\\n        <h2 class=\"title is-5\">Software Developer (Python)</h2>\\n        <h3 class=\"subtitle is-6 company\">Moreno-Rodriguez</h3>\\n      </div>\\n    </div>\\n\\n    <div class=\"content\">\\n      <p class=\"location\">\\n        Martinezburgh, AE\\n      </p>\\n      <p class=\"is-small has-text-grey\">\\n        <time datetime=\"2021-04-08\">2021-04-08</time>\\n      </p>\\n    </div>\\n    <footer class=\"card-footer\">\\n        <a href=\"https://www.realpython.com\" target=\"_blank\" class=\"card-footer-item\">Learn</a>\\n        <a href=\"https://realpython.github.io/fake-jobs/jobs/software-developer-python-90.html\" target=\"_blank\" class=\"card-footer-item\">Apply</a>\\n    </footer>\\n  </div>\\n</div>\\n</div>\\n<div class=\"column is-half\">\\n<div class=\"card\">\\n  <div class=\"card-content\">\\n    <div class=\"media\">\\n      <div class=\"media-left\">\\n        <figure class=\"image is-48x48\">\\n          <img src=\"https://files.realpython.com/media/real-python-logo-thumbnail.7f0db70c2ed2.jpg?__no_cf_polish=1\" alt=\"Real Python Logo\">\\n        </figure>\\n      </div>\\n      <div class=\"media-content\">\\n        <h2 class=\"title is-5\">Surveyor, land/geomatics</h2>\\n        <h3 class=\"subtitle is-6 company\">Brown-Ortiz</h3>\\n      </div>\\n    </div>\\n\\n    <div class=\"content\">\\n      <p class=\"location\">\\n        Joshuatown, AE\\n      </p>\\n      <p class=\"is-small has-text-grey\">\\n        <time datetime=\"2021-04-08\">2021-04-08</time>\\n      </p>\\n    </div>\\n    <footer class=\"card-footer\">\\n        <a href=\"https://www.realpython.com\" target=\"_blank\" class=\"card-footer-item\">Learn</a>\\n        <a href=\"https://realpython.github.io/fake-jobs/jobs/surveyor-land-geomatics-91.html\" target=\"_blank\" class=\"card-footer-item\">Apply</a>\\n    </footer>\\n  </div>\\n</div>\\n</div>\\n<div class=\"column is-half\">\\n<div class=\"card\">\\n  <div class=\"card-content\">\\n    <div class=\"media\">\\n      <div class=\"media-left\">\\n        <figure class=\"image is-48x48\">\\n          <img src=\"https://files.realpython.com/media/real-python-logo-thumbnail.7f0db70c2ed2.jpg?__no_cf_polish=1\" alt=\"Real Python Logo\">\\n        </figure>\\n      </div>\\n      <div class=\"media-content\">\\n        <h2 class=\"title is-5\">Legal executive</h2>\\n        <h3 class=\"subtitle is-6 company\">Hartman PLC</h3>\\n      </div>\\n    </div>\\n\\n    <div class=\"content\">\\n      <p class=\"location\">\\n        West Ericstad, AA\\n      </p>\\n      <p class=\"is-small has-text-grey\">\\n        <time datetime=\"2021-04-08\">2021-04-08</time>\\n      </p>\\n    </div>\\n    <footer class=\"card-footer\">\\n        <a href=\"https://www.realpython.com\" target=\"_blank\" class=\"card-footer-item\">Learn</a>\\n        <a href=\"https://realpython.github.io/fake-jobs/jobs/legal-executive-92.html\" target=\"_blank\" class=\"card-footer-item\">Apply</a>\\n    </footer>\\n  </div>\\n</div>\\n</div>\\n<div class=\"column is-half\">\\n<div class=\"card\">\\n  <div class=\"card-content\">\\n    <div class=\"media\">\\n      <div class=\"media-left\">\\n        <figure class=\"image is-48x48\">\\n          <img src=\"https://files.realpython.com/media/real-python-logo-thumbnail.7f0db70c2ed2.jpg?__no_cf_polish=1\" alt=\"Real Python Logo\">\\n        </figure>\\n      </div>\\n      <div class=\"media-content\">\\n        <h2 class=\"title is-5\">Librarian, academic</h2>\\n        <h3 class=\"subtitle is-6 company\">Brooks Inc</h3>\\n      </div>\\n    </div>\\n\\n    <div class=\"content\">\\n      <p class=\"location\">\\n        Tuckertown, AE\\n      </p>\\n      <p class=\"is-small has-text-grey\">\\n        <time datetime=\"2021-04-08\">2021-04-08</time>\\n      </p>\\n    </div>\\n    <footer class=\"card-footer\">\\n        <a href=\"https://www.realpython.com\" target=\"_blank\" class=\"card-footer-item\">Learn</a>\\n        <a href=\"https://realpython.github.io/fake-jobs/jobs/librarian-academic-93.html\" target=\"_blank\" class=\"card-footer-item\">Apply</a>\\n    </footer>\\n  </div>\\n</div>\\n</div>\\n<div class=\"column is-half\">\\n<div class=\"card\">\\n  <div class=\"card-content\">\\n    <div class=\"media\">\\n      <div class=\"media-left\">\\n        <figure class=\"image is-48x48\">\\n          <img src=\"https://files.realpython.com/media/real-python-logo-thumbnail.7f0db70c2ed2.jpg?__no_cf_polish=1\" alt=\"Real Python Logo\">\\n        </figure>\\n      </div>\\n      <div class=\"media-content\">\\n        <h2 class=\"title is-5\">Barrister</h2>\\n        <h3 class=\"subtitle is-6 company\">Washington-Castillo</h3>\\n      </div>\\n    </div>\\n\\n    <div class=\"content\">\\n      <p class=\"location\">\\n        Perezton, AE\\n      </p>\\n      <p class=\"is-small has-text-grey\">\\n        <time datetime=\"2021-04-08\">2021-04-08</time>\\n      </p>\\n    </div>\\n    <footer class=\"card-footer\">\\n        <a href=\"https://www.realpython.com\" target=\"_blank\" class=\"card-footer-item\">Learn</a>\\n        <a href=\"https://realpython.github.io/fake-jobs/jobs/barrister-94.html\" target=\"_blank\" class=\"card-footer-item\">Apply</a>\\n    </footer>\\n  </div>\\n</div>\\n</div>\\n<div class=\"column is-half\">\\n<div class=\"card\">\\n  <div class=\"card-content\">\\n    <div class=\"media\">\\n      <div class=\"media-left\">\\n        <figure class=\"image is-48x48\">\\n          <img src=\"https://files.realpython.com/media/real-python-logo-thumbnail.7f0db70c2ed2.jpg?__no_cf_polish=1\" alt=\"Real Python Logo\">\\n        </figure>\\n      </div>\\n      <div class=\"media-content\">\\n        <h2 class=\"title is-5\">Museum/gallery exhibitions officer</h2>\\n        <h3 class=\"subtitle is-6 company\">Nguyen, Yoder and Petty</h3>\\n      </div>\\n    </div>\\n\\n    <div class=\"content\">\\n      <p class=\"location\">\\n        Lake Abigail, AE\\n      </p>\\n      <p class=\"is-small has-text-grey\">\\n        <time datetime=\"2021-04-08\">2021-04-08</time>\\n      </p>\\n    </div>\\n    <footer class=\"card-footer\">\\n        <a href=\"https://www.realpython.com\" target=\"_blank\" class=\"card-footer-item\">Learn</a>\\n        <a href=\"https://realpython.github.io/fake-jobs/jobs/museum-gallery-exhibitions-officer-95.html\" target=\"_blank\" class=\"card-footer-item\">Apply</a>\\n    </footer>\\n  </div>\\n</div>\\n</div>\\n<div class=\"column is-half\">\\n<div class=\"card\">\\n  <div class=\"card-content\">\\n    <div class=\"media\">\\n      <div class=\"media-left\">\\n        <figure class=\"image is-48x48\">\\n          <img src=\"https://files.realpython.com/media/real-python-logo-thumbnail.7f0db70c2ed2.jpg?__no_cf_polish=1\" alt=\"Real Python Logo\">\\n        </figure>\\n      </div>\\n      <div class=\"media-content\">\\n        <h2 class=\"title is-5\">Radiographer, diagnostic</h2>\\n        <h3 class=\"subtitle is-6 company\">Holder LLC</h3>\\n      </div>\\n    </div>\\n\\n    <div class=\"content\">\\n      <p class=\"location\">\\n        Jacobshire, AP\\n      </p>\\n      <p class=\"is-small has-text-grey\">\\n        <time datetime=\"2021-04-08\">2021-04-08</time>\\n      </p>\\n    </div>\\n    <footer class=\"card-footer\">\\n        <a href=\"https://www.realpython.com\" target=\"_blank\" class=\"card-footer-item\">Learn</a>\\n        <a href=\"https://realpython.github.io/fake-jobs/jobs/radiographer-diagnostic-96.html\" target=\"_blank\" class=\"card-footer-item\">Apply</a>\\n    </footer>\\n  </div>\\n</div>\\n</div>\\n<div class=\"column is-half\">\\n<div class=\"card\">\\n  <div class=\"card-content\">\\n    <div class=\"media\">\\n      <div class=\"media-left\">\\n        <figure class=\"image is-48x48\">\\n          <img src=\"https://files.realpython.com/media/real-python-logo-thumbnail.7f0db70c2ed2.jpg?__no_cf_polish=1\" alt=\"Real Python Logo\">\\n        </figure>\\n      </div>\\n      <div class=\"media-content\">\\n        <h2 class=\"title is-5\">Database administrator</h2>\\n        <h3 class=\"subtitle is-6 company\">Yates-Ferguson</h3>\\n      </div>\\n    </div>\\n\\n    <div class=\"content\">\\n      <p class=\"location\">\\n        Port Susan, AE\\n      </p>\\n      <p class=\"is-small has-text-grey\">\\n        <time datetime=\"2021-04-08\">2021-04-08</time>\\n      </p>\\n    </div>\\n    <footer class=\"card-footer\">\\n        <a href=\"https://www.realpython.com\" target=\"_blank\" class=\"card-footer-item\">Learn</a>\\n        <a href=\"https://realpython.github.io/fake-jobs/jobs/database-administrator-97.html\" target=\"_blank\" class=\"card-footer-item\">Apply</a>\\n    </footer>\\n  </div>\\n</div>\\n</div>\\n<div class=\"column is-half\">\\n<div class=\"card\">\\n  <div class=\"card-content\">\\n    <div class=\"media\">\\n      <div class=\"media-left\">\\n        <figure class=\"image is-48x48\">\\n          <img src=\"https://files.realpython.com/media/real-python-logo-thumbnail.7f0db70c2ed2.jpg?__no_cf_polish=1\" alt=\"Real Python Logo\">\\n        </figure>\\n      </div>\\n      <div class=\"media-content\">\\n        <h2 class=\"title is-5\">Furniture designer</h2>\\n        <h3 class=\"subtitle is-6 company\">Ortega-Lawrence</h3>\\n      </div>\\n    </div>\\n\\n    <div class=\"content\">\\n      <p class=\"location\">\\n        North Tiffany, AA\\n      </p>\\n      <p class=\"is-small has-text-grey\">\\n        <time datetime=\"2021-04-08\">2021-04-08</time>\\n      </p>\\n    </div>\\n    <footer class=\"card-footer\">\\n        <a href=\"https://www.realpython.com\" target=\"_blank\" class=\"card-footer-item\">Learn</a>\\n        <a href=\"https://realpython.github.io/fake-jobs/jobs/furniture-designer-98.html\" target=\"_blank\" class=\"card-footer-item\">Apply</a>\\n    </footer>\\n  </div>\\n</div>\\n</div>\\n<div class=\"column is-half\">\\n<div class=\"card\">\\n  <div class=\"card-content\">\\n    <div class=\"media\">\\n      <div class=\"media-left\">\\n        <figure class=\"image is-48x48\">\\n          <img src=\"https://files.realpython.com/media/real-python-logo-thumbnail.7f0db70c2ed2.jpg?__no_cf_polish=1\" alt=\"Real Python Logo\">\\n        </figure>\\n      </div>\\n      <div class=\"media-content\">\\n        <h2 class=\"title is-5\">Ship broker</h2>\\n        <h3 class=\"subtitle is-6 company\">Fuentes, Walls and Castro</h3>\\n      </div>\\n    </div>\\n\\n    <div class=\"content\">\\n      <p class=\"location\">\\n        Michelleville, AP\\n      </p>\\n      <p class=\"is-small has-text-grey\">\\n        <time datetime=\"2021-04-08\">2021-04-08</time>\\n      </p>\\n    </div>\\n    <footer class=\"card-footer\">\\n        <a href=\"https://www.realpython.com\" target=\"_blank\" class=\"card-footer-item\">Learn</a>\\n        <a href=\"https://realpython.github.io/fake-jobs/jobs/ship-broker-99.html\" target=\"_blank\" class=\"card-footer-item\">Apply</a>\\n    </footer>\\n  </div>\\n</div>\\n</div>\\n\\n    </div>\\n    </div>\\n  </section>\\n  </body>\\n</html>\\n'"
      ]
     },
     "execution_count": 8,
     "metadata": {},
     "output_type": "execute_result"
    }
   ],
   "source": [
    "response.text"
   ]
  },
  {
   "cell_type": "code",
   "execution_count": 10,
   "id": "af10f9f7-0fd7-4dd4-a09b-d2c967af7816",
   "metadata": {},
   "outputs": [],
   "source": [
    "from bs4 import BeautifulSoup as BS"
   ]
  },
  {
   "cell_type": "code",
   "execution_count": 12,
   "id": "73c97bee-b073-482c-aeee-2b5028f5dd80",
   "metadata": {},
   "outputs": [],
   "source": [
    "soup = BS(response.text)"
   ]
  },
  {
   "cell_type": "markdown",
   "id": "4a7c0e8d-e402-4b87-9cb4-8ce0ab774e83",
   "metadata": {},
   "source": [
    "a. Use the .find method to find the tag containing the first job title (\"Senior Python Developer\"). Hint: can you find a tag type and/or a class that could be helpful for extracting this information? Extract the text from this title.  "
   ]
  },
  {
   "cell_type": "code",
   "execution_count": 15,
   "id": "8281ceb8-0896-47d3-bd0f-8f0d33bcef1b",
   "metadata": {},
   "outputs": [
    {
     "data": {
      "text/plain": [
       "<h2 class=\"title is-5\">Senior Python Developer</h2>"
      ]
     },
     "execution_count": 15,
     "metadata": {},
     "output_type": "execute_result"
    }
   ],
   "source": [
    "soup.find('h2')"
   ]
  },
  {
   "cell_type": "code",
   "execution_count": 17,
   "id": "2a64dc20-528a-4148-bc4d-388f8932c94c",
   "metadata": {},
   "outputs": [
    {
     "data": {
      "text/plain": [
       "'Senior Python Developer'"
      ]
     },
     "execution_count": 17,
     "metadata": {},
     "output_type": "execute_result"
    }
   ],
   "source": [
    "soup.find('h2').text"
   ]
  },
  {
   "cell_type": "markdown",
   "id": "e7e0f024-2295-449b-afdd-eb122c701655",
   "metadata": {},
   "source": [
    "b. Now, use what you did for the first title, but extract the job title for all jobs on this page. Store the results in a list."
   ]
  },
  {
   "cell_type": "code",
   "execution_count": 20,
   "id": "e3eadb89-8542-4d25-93aa-427cad989994",
   "metadata": {},
   "outputs": [],
   "source": [
    "titles = soup.findAll('h2') #note to self creating a variable and then resulting in a [..] is a list\n",
    "\n",
    "job_titles = [x.text for x in titles] #need a loop to run down the entire list "
   ]
  },
  {
   "cell_type": "code",
   "execution_count": 22,
   "id": "72944a3e-010b-4646-8645-94de2bca57c1",
   "metadata": {},
   "outputs": [
    {
     "data": {
      "text/plain": [
       "['Senior Python Developer',\n",
       " 'Energy engineer',\n",
       " 'Legal executive',\n",
       " 'Fitness centre manager',\n",
       " 'Product manager',\n",
       " 'Medical technical officer',\n",
       " 'Physiological scientist',\n",
       " 'Textile designer',\n",
       " 'Television floor manager',\n",
       " 'Waste management officer',\n",
       " 'Software Engineer (Python)',\n",
       " 'Interpreter',\n",
       " 'Architect',\n",
       " 'Meteorologist',\n",
       " 'Audiological scientist',\n",
       " 'English as a second language teacher',\n",
       " 'Surgeon',\n",
       " 'Equities trader',\n",
       " 'Newspaper journalist',\n",
       " 'Materials engineer',\n",
       " 'Python Programmer (Entry-Level)',\n",
       " 'Product/process development scientist',\n",
       " 'Scientist, research (maths)',\n",
       " 'Ecologist',\n",
       " 'Materials engineer',\n",
       " 'Historic buildings inspector/conservation officer',\n",
       " 'Data scientist',\n",
       " 'Psychiatrist',\n",
       " 'Structural engineer',\n",
       " 'Immigration officer',\n",
       " 'Python Programmer (Entry-Level)',\n",
       " 'Neurosurgeon',\n",
       " 'Broadcast engineer',\n",
       " 'Make',\n",
       " 'Nurse, adult',\n",
       " 'Air broker',\n",
       " 'Editor, film/video',\n",
       " 'Production assistant, radio',\n",
       " 'Engineer, communications',\n",
       " 'Sales executive',\n",
       " 'Software Developer (Python)',\n",
       " 'Futures trader',\n",
       " 'Tour manager',\n",
       " 'Cytogeneticist',\n",
       " 'Designer, multimedia',\n",
       " 'Trade union research officer',\n",
       " 'Chemist, analytical',\n",
       " 'Programmer, multimedia',\n",
       " 'Engineer, broadcasting (operations)',\n",
       " 'Teacher, primary school',\n",
       " 'Python Developer',\n",
       " 'Manufacturing systems engineer',\n",
       " 'Producer, television/film/video',\n",
       " 'Scientist, forensic',\n",
       " 'Bonds trader',\n",
       " 'Editorial assistant',\n",
       " 'Photographer',\n",
       " 'Retail banker',\n",
       " 'Jewellery designer',\n",
       " 'Ophthalmologist',\n",
       " 'Back-End Web Developer (Python, Django)',\n",
       " 'Licensed conveyancer',\n",
       " 'Futures trader',\n",
       " 'Counselling psychologist',\n",
       " 'Insurance underwriter',\n",
       " 'Engineer, automotive',\n",
       " 'Producer, radio',\n",
       " 'Dispensing optician',\n",
       " 'Designer, fashion/clothing',\n",
       " 'Chartered loss adjuster',\n",
       " 'Back-End Web Developer (Python, Django)',\n",
       " 'Forest/woodland manager',\n",
       " 'Clinical cytogeneticist',\n",
       " 'Print production planner',\n",
       " 'Systems developer',\n",
       " 'Graphic designer',\n",
       " 'Writer',\n",
       " 'Field seismologist',\n",
       " 'Chief Strategy Officer',\n",
       " 'Air cabin crew',\n",
       " 'Python Programmer (Entry-Level)',\n",
       " 'Warden/ranger',\n",
       " 'Sports therapist',\n",
       " 'Arts development officer',\n",
       " 'Printmaker',\n",
       " 'Health and safety adviser',\n",
       " 'Manufacturing systems engineer',\n",
       " 'Programmer, applications',\n",
       " 'Medical physicist',\n",
       " 'Media planner',\n",
       " 'Software Developer (Python)',\n",
       " 'Surveyor, land/geomatics',\n",
       " 'Legal executive',\n",
       " 'Librarian, academic',\n",
       " 'Barrister',\n",
       " 'Museum/gallery exhibitions officer',\n",
       " 'Radiographer, diagnostic',\n",
       " 'Database administrator',\n",
       " 'Furniture designer',\n",
       " 'Ship broker']"
      ]
     },
     "execution_count": 22,
     "metadata": {},
     "output_type": "execute_result"
    }
   ],
   "source": [
    "job_titles"
   ]
  },
  {
   "cell_type": "markdown",
   "id": "845e32e7-93e7-458d-a12c-19dfc3538657",
   "metadata": {},
   "source": [
    "c. Finally, extract the companies, locations, and posting dates for each job. For example, the first job has a company of \"Payne, Roberts and Davis\", a location of \"Stewartbury, AA\", and a posting date of \"2021-04-08\". Ensure that the text that you extract is clean, meaning no extra spaces or other characters at the beginning or end.  "
   ]
  },
  {
   "cell_type": "code",
   "execution_count": 25,
   "id": "39f3ffdf-138d-451f-a782-444361c9f505",
   "metadata": {},
   "outputs": [],
   "source": [
    "#companies\n",
    "\n",
    "companies = soup.findAll('h3') #note to self creating a variable and then resulting in a [..] is a list\n",
    "\n",
    "company_names = [x.text for x in companies] #need a loop to run down the entire list "
   ]
  },
  {
   "cell_type": "code",
   "execution_count": 27,
   "id": "4cb11c5e-75cf-4eac-b2c6-af2a20ea1556",
   "metadata": {},
   "outputs": [
    {
     "data": {
      "text/plain": [
       "['Payne, Roberts and Davis',\n",
       " 'Vasquez-Davidson',\n",
       " 'Jackson, Chambers and Levy',\n",
       " 'Savage-Bradley',\n",
       " 'Ramirez Inc',\n",
       " 'Rogers-Yates',\n",
       " 'Kramer-Klein',\n",
       " 'Meyers-Johnson',\n",
       " 'Hughes-Williams',\n",
       " 'Jones, Williams and Villa',\n",
       " 'Garcia PLC',\n",
       " 'Gregory and Sons',\n",
       " 'Clark, Garcia and Sosa',\n",
       " 'Bush PLC',\n",
       " 'Salazar-Meyers',\n",
       " 'Parker, Murphy and Brooks',\n",
       " 'Cruz-Brown',\n",
       " 'Macdonald-Ferguson',\n",
       " 'Williams, Peterson and Rojas',\n",
       " 'Smith and Sons',\n",
       " 'Moss, Duncan and Allen',\n",
       " 'Gomez-Carroll',\n",
       " 'Manning, Welch and Herring',\n",
       " 'Lee, Gutierrez and Brown',\n",
       " 'Davis, Serrano and Cook',\n",
       " 'Smith LLC',\n",
       " 'Thomas Group',\n",
       " 'Silva-King',\n",
       " 'Pierce-Long',\n",
       " 'Walker-Simpson',\n",
       " 'Cooper and Sons',\n",
       " 'Donovan, Gonzalez and Figueroa',\n",
       " 'Morgan, Butler and Bennett',\n",
       " 'Snyder-Lee',\n",
       " 'Harris PLC',\n",
       " 'Washington PLC',\n",
       " 'Brown, Price and Campbell',\n",
       " 'Mcgee PLC',\n",
       " 'Dixon Inc',\n",
       " 'Thompson, Sheppard and Ward',\n",
       " 'Adams-Brewer',\n",
       " 'Schneider-Brady',\n",
       " 'Gonzales-Frank',\n",
       " 'Smith-Wong',\n",
       " 'Pierce-Herrera',\n",
       " 'Aguilar, Rivera and Quinn',\n",
       " 'Lowe, Barnes and Thomas',\n",
       " 'Lewis, Gonzalez and Vasquez',\n",
       " 'Taylor PLC',\n",
       " 'Oliver, Jones and Ramirez',\n",
       " 'Rivera and Sons',\n",
       " 'Garcia PLC',\n",
       " 'Johnson, Wells and Kramer',\n",
       " 'Gonzalez LLC',\n",
       " 'Morgan, White and Macdonald',\n",
       " 'Robinson-Fitzpatrick',\n",
       " 'Waters, Wilson and Hoover',\n",
       " 'Hill LLC',\n",
       " 'Li-Gregory',\n",
       " 'Fisher, Ryan and Coleman',\n",
       " 'Stewart-Alexander',\n",
       " 'Abbott and Sons',\n",
       " 'Bryant, Santana and Davenport',\n",
       " 'Smith PLC',\n",
       " 'Patterson-Singh',\n",
       " 'Martinez-Berry',\n",
       " 'May, Taylor and Fisher',\n",
       " 'Bailey, Owen and Thompson',\n",
       " 'Vasquez Ltd',\n",
       " 'Leblanc LLC',\n",
       " 'Jackson, Ali and Mckee',\n",
       " 'Blankenship, Knight and Powell',\n",
       " 'Patton, Haynes and Jones',\n",
       " 'Wood Inc',\n",
       " 'Collins Group',\n",
       " 'Flores-Nelson',\n",
       " 'Mitchell, Jones and Olson',\n",
       " 'Howard Group',\n",
       " 'Kramer-Edwards',\n",
       " 'Berry-Houston',\n",
       " 'Mathews Inc',\n",
       " 'Riley-Johnson',\n",
       " 'Spencer and Sons',\n",
       " 'Camacho-Sanchez',\n",
       " 'Oliver and Sons',\n",
       " 'Eaton PLC',\n",
       " 'Stanley-Frederick',\n",
       " 'Bradley LLC',\n",
       " 'Parker, Goodwin and Zavala',\n",
       " 'Kim-Miles',\n",
       " 'Moreno-Rodriguez',\n",
       " 'Brown-Ortiz',\n",
       " 'Hartman PLC',\n",
       " 'Brooks Inc',\n",
       " 'Washington-Castillo',\n",
       " 'Nguyen, Yoder and Petty',\n",
       " 'Holder LLC',\n",
       " 'Yates-Ferguson',\n",
       " 'Ortega-Lawrence',\n",
       " 'Fuentes, Walls and Castro']"
      ]
     },
     "execution_count": 27,
     "metadata": {},
     "output_type": "execute_result"
    }
   ],
   "source": [
    "company_names"
   ]
  },
  {
   "cell_type": "code",
   "execution_count": 29,
   "id": "64d1d0c3-478b-49bc-a229-d18145b33699",
   "metadata": {},
   "outputs": [],
   "source": [
    "#locations\n",
    "\n",
    "locations = soup.findAll('h3') #note to self creating a variable and then resulting in a [..] is a list\n",
    "\n",
    "job_locations = [x.text for x in locations] #need a loop to run down the entire list "
   ]
  },
  {
   "cell_type": "code",
   "execution_count": 31,
   "id": "ced2c54e-efa6-4040-a467-159fefea244d",
   "metadata": {},
   "outputs": [
    {
     "data": {
      "text/plain": [
       "['Payne, Roberts and Davis',\n",
       " 'Vasquez-Davidson',\n",
       " 'Jackson, Chambers and Levy',\n",
       " 'Savage-Bradley',\n",
       " 'Ramirez Inc',\n",
       " 'Rogers-Yates',\n",
       " 'Kramer-Klein',\n",
       " 'Meyers-Johnson',\n",
       " 'Hughes-Williams',\n",
       " 'Jones, Williams and Villa',\n",
       " 'Garcia PLC',\n",
       " 'Gregory and Sons',\n",
       " 'Clark, Garcia and Sosa',\n",
       " 'Bush PLC',\n",
       " 'Salazar-Meyers',\n",
       " 'Parker, Murphy and Brooks',\n",
       " 'Cruz-Brown',\n",
       " 'Macdonald-Ferguson',\n",
       " 'Williams, Peterson and Rojas',\n",
       " 'Smith and Sons',\n",
       " 'Moss, Duncan and Allen',\n",
       " 'Gomez-Carroll',\n",
       " 'Manning, Welch and Herring',\n",
       " 'Lee, Gutierrez and Brown',\n",
       " 'Davis, Serrano and Cook',\n",
       " 'Smith LLC',\n",
       " 'Thomas Group',\n",
       " 'Silva-King',\n",
       " 'Pierce-Long',\n",
       " 'Walker-Simpson',\n",
       " 'Cooper and Sons',\n",
       " 'Donovan, Gonzalez and Figueroa',\n",
       " 'Morgan, Butler and Bennett',\n",
       " 'Snyder-Lee',\n",
       " 'Harris PLC',\n",
       " 'Washington PLC',\n",
       " 'Brown, Price and Campbell',\n",
       " 'Mcgee PLC',\n",
       " 'Dixon Inc',\n",
       " 'Thompson, Sheppard and Ward',\n",
       " 'Adams-Brewer',\n",
       " 'Schneider-Brady',\n",
       " 'Gonzales-Frank',\n",
       " 'Smith-Wong',\n",
       " 'Pierce-Herrera',\n",
       " 'Aguilar, Rivera and Quinn',\n",
       " 'Lowe, Barnes and Thomas',\n",
       " 'Lewis, Gonzalez and Vasquez',\n",
       " 'Taylor PLC',\n",
       " 'Oliver, Jones and Ramirez',\n",
       " 'Rivera and Sons',\n",
       " 'Garcia PLC',\n",
       " 'Johnson, Wells and Kramer',\n",
       " 'Gonzalez LLC',\n",
       " 'Morgan, White and Macdonald',\n",
       " 'Robinson-Fitzpatrick',\n",
       " 'Waters, Wilson and Hoover',\n",
       " 'Hill LLC',\n",
       " 'Li-Gregory',\n",
       " 'Fisher, Ryan and Coleman',\n",
       " 'Stewart-Alexander',\n",
       " 'Abbott and Sons',\n",
       " 'Bryant, Santana and Davenport',\n",
       " 'Smith PLC',\n",
       " 'Patterson-Singh',\n",
       " 'Martinez-Berry',\n",
       " 'May, Taylor and Fisher',\n",
       " 'Bailey, Owen and Thompson',\n",
       " 'Vasquez Ltd',\n",
       " 'Leblanc LLC',\n",
       " 'Jackson, Ali and Mckee',\n",
       " 'Blankenship, Knight and Powell',\n",
       " 'Patton, Haynes and Jones',\n",
       " 'Wood Inc',\n",
       " 'Collins Group',\n",
       " 'Flores-Nelson',\n",
       " 'Mitchell, Jones and Olson',\n",
       " 'Howard Group',\n",
       " 'Kramer-Edwards',\n",
       " 'Berry-Houston',\n",
       " 'Mathews Inc',\n",
       " 'Riley-Johnson',\n",
       " 'Spencer and Sons',\n",
       " 'Camacho-Sanchez',\n",
       " 'Oliver and Sons',\n",
       " 'Eaton PLC',\n",
       " 'Stanley-Frederick',\n",
       " 'Bradley LLC',\n",
       " 'Parker, Goodwin and Zavala',\n",
       " 'Kim-Miles',\n",
       " 'Moreno-Rodriguez',\n",
       " 'Brown-Ortiz',\n",
       " 'Hartman PLC',\n",
       " 'Brooks Inc',\n",
       " 'Washington-Castillo',\n",
       " 'Nguyen, Yoder and Petty',\n",
       " 'Holder LLC',\n",
       " 'Yates-Ferguson',\n",
       " 'Ortega-Lawrence',\n",
       " 'Fuentes, Walls and Castro']"
      ]
     },
     "execution_count": 31,
     "metadata": {},
     "output_type": "execute_result"
    }
   ],
   "source": [
    "job_locations"
   ]
  },
  {
   "cell_type": "code",
   "execution_count": 33,
   "id": "b18ddaff-356a-44e0-bc45-ae800f63a205",
   "metadata": {},
   "outputs": [],
   "source": [
    "#dates\n",
    "\n",
    "dates = soup.findAll('time') #note to self creating a variable and then resulting in a [..] is a list\n",
    "\n",
    "dates_posted = [x.text for x in dates] #need a loop to run down the entire list "
   ]
  },
  {
   "cell_type": "code",
   "execution_count": 35,
   "id": "a8947ffb-1847-499c-b9cb-8e583c77d80b",
   "metadata": {},
   "outputs": [
    {
     "data": {
      "text/plain": [
       "['2021-04-08',\n",
       " '2021-04-08',\n",
       " '2021-04-08',\n",
       " '2021-04-08',\n",
       " '2021-04-08',\n",
       " '2021-04-08',\n",
       " '2021-04-08',\n",
       " '2021-04-08',\n",
       " '2021-04-08',\n",
       " '2021-04-08',\n",
       " '2021-04-08',\n",
       " '2021-04-08',\n",
       " '2021-04-08',\n",
       " '2021-04-08',\n",
       " '2021-04-08',\n",
       " '2021-04-08',\n",
       " '2021-04-08',\n",
       " '2021-04-08',\n",
       " '2021-04-08',\n",
       " '2021-04-08',\n",
       " '2021-04-08',\n",
       " '2021-04-08',\n",
       " '2021-04-08',\n",
       " '2021-04-08',\n",
       " '2021-04-08',\n",
       " '2021-04-08',\n",
       " '2021-04-08',\n",
       " '2021-04-08',\n",
       " '2021-04-08',\n",
       " '2021-04-08',\n",
       " '2021-04-08',\n",
       " '2021-04-08',\n",
       " '2021-04-08',\n",
       " '2021-04-08',\n",
       " '2021-04-08',\n",
       " '2021-04-08',\n",
       " '2021-04-08',\n",
       " '2021-04-08',\n",
       " '2021-04-08',\n",
       " '2021-04-08',\n",
       " '2021-04-08',\n",
       " '2021-04-08',\n",
       " '2021-04-08',\n",
       " '2021-04-08',\n",
       " '2021-04-08',\n",
       " '2021-04-08',\n",
       " '2021-04-08',\n",
       " '2021-04-08',\n",
       " '2021-04-08',\n",
       " '2021-04-08',\n",
       " '2021-04-08',\n",
       " '2021-04-08',\n",
       " '2021-04-08',\n",
       " '2021-04-08',\n",
       " '2021-04-08',\n",
       " '2021-04-08',\n",
       " '2021-04-08',\n",
       " '2021-04-08',\n",
       " '2021-04-08',\n",
       " '2021-04-08',\n",
       " '2021-04-08',\n",
       " '2021-04-08',\n",
       " '2021-04-08',\n",
       " '2021-04-08',\n",
       " '2021-04-08',\n",
       " '2021-04-08',\n",
       " '2021-04-08',\n",
       " '2021-04-08',\n",
       " '2021-04-08',\n",
       " '2021-04-08',\n",
       " '2021-04-08',\n",
       " '2021-04-08',\n",
       " '2021-04-08',\n",
       " '2021-04-08',\n",
       " '2021-04-08',\n",
       " '2021-04-08',\n",
       " '2021-04-08',\n",
       " '2021-04-08',\n",
       " '2021-04-08',\n",
       " '2021-04-08',\n",
       " '2021-04-08',\n",
       " '2021-04-08',\n",
       " '2021-04-08',\n",
       " '2021-04-08',\n",
       " '2021-04-08',\n",
       " '2021-04-08',\n",
       " '2021-04-08',\n",
       " '2021-04-08',\n",
       " '2021-04-08',\n",
       " '2021-04-08',\n",
       " '2021-04-08',\n",
       " '2021-04-08',\n",
       " '2021-04-08',\n",
       " '2021-04-08',\n",
       " '2021-04-08',\n",
       " '2021-04-08',\n",
       " '2021-04-08',\n",
       " '2021-04-08',\n",
       " '2021-04-08',\n",
       " '2021-04-08']"
      ]
     },
     "execution_count": 35,
     "metadata": {},
     "output_type": "execute_result"
    }
   ],
   "source": [
    "dates_posted"
   ]
  },
  {
   "cell_type": "markdown",
   "id": "77ba579d-840e-469b-8f4d-a2d1aa2a18f5",
   "metadata": {},
   "source": [
    "d. Take the lists that you have created and combine them into a pandas DataFrame."
   ]
  },
  {
   "cell_type": "code",
   "execution_count": 38,
   "id": "856ec7fc-3a94-466a-b687-2cb87844092d",
   "metadata": {},
   "outputs": [],
   "source": [
    "import pandas as pd"
   ]
  },
  {
   "cell_type": "code",
   "execution_count": 40,
   "id": "39f080d6-e852-4ecf-af52-27c4e33cc215",
   "metadata": {},
   "outputs": [],
   "source": [
    "fakejobs_df = pd.DataFrame(\n",
    "    {'job titles': job_titles,\n",
    "     'company': company_names,\n",
    "     'location': job_locations,\n",
    "     'date posted': dates_posted\n",
    "    })"
   ]
  },
  {
   "cell_type": "code",
   "execution_count": 42,
   "id": "cc16acb7-b744-4e3e-9758-be3590604234",
   "metadata": {},
   "outputs": [
    {
     "data": {
      "text/html": [
       "<div>\n",
       "<style scoped>\n",
       "    .dataframe tbody tr th:only-of-type {\n",
       "        vertical-align: middle;\n",
       "    }\n",
       "\n",
       "    .dataframe tbody tr th {\n",
       "        vertical-align: top;\n",
       "    }\n",
       "\n",
       "    .dataframe thead th {\n",
       "        text-align: right;\n",
       "    }\n",
       "</style>\n",
       "<table border=\"1\" class=\"dataframe\">\n",
       "  <thead>\n",
       "    <tr style=\"text-align: right;\">\n",
       "      <th></th>\n",
       "      <th>job titles</th>\n",
       "      <th>company</th>\n",
       "      <th>location</th>\n",
       "      <th>date posted</th>\n",
       "    </tr>\n",
       "  </thead>\n",
       "  <tbody>\n",
       "    <tr>\n",
       "      <th>0</th>\n",
       "      <td>Senior Python Developer</td>\n",
       "      <td>Payne, Roberts and Davis</td>\n",
       "      <td>Payne, Roberts and Davis</td>\n",
       "      <td>2021-04-08</td>\n",
       "    </tr>\n",
       "    <tr>\n",
       "      <th>1</th>\n",
       "      <td>Energy engineer</td>\n",
       "      <td>Vasquez-Davidson</td>\n",
       "      <td>Vasquez-Davidson</td>\n",
       "      <td>2021-04-08</td>\n",
       "    </tr>\n",
       "    <tr>\n",
       "      <th>2</th>\n",
       "      <td>Legal executive</td>\n",
       "      <td>Jackson, Chambers and Levy</td>\n",
       "      <td>Jackson, Chambers and Levy</td>\n",
       "      <td>2021-04-08</td>\n",
       "    </tr>\n",
       "    <tr>\n",
       "      <th>3</th>\n",
       "      <td>Fitness centre manager</td>\n",
       "      <td>Savage-Bradley</td>\n",
       "      <td>Savage-Bradley</td>\n",
       "      <td>2021-04-08</td>\n",
       "    </tr>\n",
       "    <tr>\n",
       "      <th>4</th>\n",
       "      <td>Product manager</td>\n",
       "      <td>Ramirez Inc</td>\n",
       "      <td>Ramirez Inc</td>\n",
       "      <td>2021-04-08</td>\n",
       "    </tr>\n",
       "  </tbody>\n",
       "</table>\n",
       "</div>"
      ],
      "text/plain": [
       "                job titles                     company  \\\n",
       "0  Senior Python Developer    Payne, Roberts and Davis   \n",
       "1          Energy engineer            Vasquez-Davidson   \n",
       "2          Legal executive  Jackson, Chambers and Levy   \n",
       "3   Fitness centre manager              Savage-Bradley   \n",
       "4          Product manager                 Ramirez Inc   \n",
       "\n",
       "                     location date posted  \n",
       "0    Payne, Roberts and Davis  2021-04-08  \n",
       "1            Vasquez-Davidson  2021-04-08  \n",
       "2  Jackson, Chambers and Levy  2021-04-08  \n",
       "3              Savage-Bradley  2021-04-08  \n",
       "4                 Ramirez Inc  2021-04-08  "
      ]
     },
     "execution_count": 42,
     "metadata": {},
     "output_type": "execute_result"
    }
   ],
   "source": [
    "fakejobs_df.head()"
   ]
  },
  {
   "cell_type": "markdown",
   "id": "fc32068d-51ee-4037-89bc-4d4dd2e23bab",
   "metadata": {},
   "source": [
    "2. Next, add a column that contains the url for the \"Apply\" button. Try this in two ways."
   ]
  },
  {
   "cell_type": "code",
   "execution_count": 45,
   "id": "2ac52fc6-415a-4551-abb9-202461a5fed7",
   "metadata": {},
   "outputs": [],
   "source": [
    "# create a new list of urls then add to the df"
   ]
  },
  {
   "cell_type": "markdown",
   "id": "74510887-9e1f-4030-a565-7f25270a7fe6",
   "metadata": {},
   "source": [
    " a. First, use the BeautifulSoup find_all method to extract the urls.  "
   ]
  },
  {
   "cell_type": "code",
   "execution_count": 48,
   "id": "2debacce-288e-4748-a00e-fcb3b4ed784d",
   "metadata": {},
   "outputs": [],
   "source": [
    "#urls\n",
    "\n",
    "urls1 = soup.findAll('a') #note to self creating a variable and then resulting in a [..] is a list\n",
    "\n",
    "urls1_posted = [x.get('href') for x in urls1] #need a loop to run down the entire list \n",
    "#href refers to urls, not snatching text this time but hyperlinks"
   ]
  },
  {
   "cell_type": "code",
   "execution_count": 50,
   "id": "7e92ae7e-a9de-4e7b-ae6a-9a549c6de7ee",
   "metadata": {},
   "outputs": [
    {
     "data": {
      "text/plain": [
       "['https://www.realpython.com',\n",
       " 'https://realpython.github.io/fake-jobs/jobs/senior-python-developer-0.html',\n",
       " 'https://www.realpython.com',\n",
       " 'https://realpython.github.io/fake-jobs/jobs/energy-engineer-1.html',\n",
       " 'https://www.realpython.com',\n",
       " 'https://realpython.github.io/fake-jobs/jobs/legal-executive-2.html',\n",
       " 'https://www.realpython.com',\n",
       " 'https://realpython.github.io/fake-jobs/jobs/fitness-centre-manager-3.html',\n",
       " 'https://www.realpython.com',\n",
       " 'https://realpython.github.io/fake-jobs/jobs/product-manager-4.html',\n",
       " 'https://www.realpython.com',\n",
       " 'https://realpython.github.io/fake-jobs/jobs/medical-technical-officer-5.html',\n",
       " 'https://www.realpython.com',\n",
       " 'https://realpython.github.io/fake-jobs/jobs/physiological-scientist-6.html',\n",
       " 'https://www.realpython.com',\n",
       " 'https://realpython.github.io/fake-jobs/jobs/textile-designer-7.html',\n",
       " 'https://www.realpython.com',\n",
       " 'https://realpython.github.io/fake-jobs/jobs/television-floor-manager-8.html',\n",
       " 'https://www.realpython.com',\n",
       " 'https://realpython.github.io/fake-jobs/jobs/waste-management-officer-9.html',\n",
       " 'https://www.realpython.com',\n",
       " 'https://realpython.github.io/fake-jobs/jobs/software-engineer-python-10.html',\n",
       " 'https://www.realpython.com',\n",
       " 'https://realpython.github.io/fake-jobs/jobs/interpreter-11.html',\n",
       " 'https://www.realpython.com',\n",
       " 'https://realpython.github.io/fake-jobs/jobs/architect-12.html',\n",
       " 'https://www.realpython.com',\n",
       " 'https://realpython.github.io/fake-jobs/jobs/meteorologist-13.html',\n",
       " 'https://www.realpython.com',\n",
       " 'https://realpython.github.io/fake-jobs/jobs/audiological-scientist-14.html',\n",
       " 'https://www.realpython.com',\n",
       " 'https://realpython.github.io/fake-jobs/jobs/english-as-a-second-language-teacher-15.html',\n",
       " 'https://www.realpython.com',\n",
       " 'https://realpython.github.io/fake-jobs/jobs/surgeon-16.html',\n",
       " 'https://www.realpython.com',\n",
       " 'https://realpython.github.io/fake-jobs/jobs/equities-trader-17.html',\n",
       " 'https://www.realpython.com',\n",
       " 'https://realpython.github.io/fake-jobs/jobs/newspaper-journalist-18.html',\n",
       " 'https://www.realpython.com',\n",
       " 'https://realpython.github.io/fake-jobs/jobs/materials-engineer-19.html',\n",
       " 'https://www.realpython.com',\n",
       " 'https://realpython.github.io/fake-jobs/jobs/python-programmer-entry-level-20.html',\n",
       " 'https://www.realpython.com',\n",
       " 'https://realpython.github.io/fake-jobs/jobs/product-process-development-scientist-21.html',\n",
       " 'https://www.realpython.com',\n",
       " 'https://realpython.github.io/fake-jobs/jobs/scientist-research-maths-22.html',\n",
       " 'https://www.realpython.com',\n",
       " 'https://realpython.github.io/fake-jobs/jobs/ecologist-23.html',\n",
       " 'https://www.realpython.com',\n",
       " 'https://realpython.github.io/fake-jobs/jobs/materials-engineer-24.html',\n",
       " 'https://www.realpython.com',\n",
       " 'https://realpython.github.io/fake-jobs/jobs/historic-buildings-inspector-conservation-officer-25.html',\n",
       " 'https://www.realpython.com',\n",
       " 'https://realpython.github.io/fake-jobs/jobs/data-scientist-26.html',\n",
       " 'https://www.realpython.com',\n",
       " 'https://realpython.github.io/fake-jobs/jobs/psychiatrist-27.html',\n",
       " 'https://www.realpython.com',\n",
       " 'https://realpython.github.io/fake-jobs/jobs/structural-engineer-28.html',\n",
       " 'https://www.realpython.com',\n",
       " 'https://realpython.github.io/fake-jobs/jobs/immigration-officer-29.html',\n",
       " 'https://www.realpython.com',\n",
       " 'https://realpython.github.io/fake-jobs/jobs/python-programmer-entry-level-30.html',\n",
       " 'https://www.realpython.com',\n",
       " 'https://realpython.github.io/fake-jobs/jobs/neurosurgeon-31.html',\n",
       " 'https://www.realpython.com',\n",
       " 'https://realpython.github.io/fake-jobs/jobs/broadcast-engineer-32.html',\n",
       " 'https://www.realpython.com',\n",
       " 'https://realpython.github.io/fake-jobs/jobs/make-33.html',\n",
       " 'https://www.realpython.com',\n",
       " 'https://realpython.github.io/fake-jobs/jobs/nurse-adult-34.html',\n",
       " 'https://www.realpython.com',\n",
       " 'https://realpython.github.io/fake-jobs/jobs/air-broker-35.html',\n",
       " 'https://www.realpython.com',\n",
       " 'https://realpython.github.io/fake-jobs/jobs/editor-film-video-36.html',\n",
       " 'https://www.realpython.com',\n",
       " 'https://realpython.github.io/fake-jobs/jobs/production-assistant-radio-37.html',\n",
       " 'https://www.realpython.com',\n",
       " 'https://realpython.github.io/fake-jobs/jobs/engineer-communications-38.html',\n",
       " 'https://www.realpython.com',\n",
       " 'https://realpython.github.io/fake-jobs/jobs/sales-executive-39.html',\n",
       " 'https://www.realpython.com',\n",
       " 'https://realpython.github.io/fake-jobs/jobs/software-developer-python-40.html',\n",
       " 'https://www.realpython.com',\n",
       " 'https://realpython.github.io/fake-jobs/jobs/futures-trader-41.html',\n",
       " 'https://www.realpython.com',\n",
       " 'https://realpython.github.io/fake-jobs/jobs/tour-manager-42.html',\n",
       " 'https://www.realpython.com',\n",
       " 'https://realpython.github.io/fake-jobs/jobs/cytogeneticist-43.html',\n",
       " 'https://www.realpython.com',\n",
       " 'https://realpython.github.io/fake-jobs/jobs/designer-multimedia-44.html',\n",
       " 'https://www.realpython.com',\n",
       " 'https://realpython.github.io/fake-jobs/jobs/trade-union-research-officer-45.html',\n",
       " 'https://www.realpython.com',\n",
       " 'https://realpython.github.io/fake-jobs/jobs/chemist-analytical-46.html',\n",
       " 'https://www.realpython.com',\n",
       " 'https://realpython.github.io/fake-jobs/jobs/programmer-multimedia-47.html',\n",
       " 'https://www.realpython.com',\n",
       " 'https://realpython.github.io/fake-jobs/jobs/engineer-broadcasting-operations-48.html',\n",
       " 'https://www.realpython.com',\n",
       " 'https://realpython.github.io/fake-jobs/jobs/teacher-primary-school-49.html',\n",
       " 'https://www.realpython.com',\n",
       " 'https://realpython.github.io/fake-jobs/jobs/python-developer-50.html',\n",
       " 'https://www.realpython.com',\n",
       " 'https://realpython.github.io/fake-jobs/jobs/manufacturing-systems-engineer-51.html',\n",
       " 'https://www.realpython.com',\n",
       " 'https://realpython.github.io/fake-jobs/jobs/producer-television-film-video-52.html',\n",
       " 'https://www.realpython.com',\n",
       " 'https://realpython.github.io/fake-jobs/jobs/scientist-forensic-53.html',\n",
       " 'https://www.realpython.com',\n",
       " 'https://realpython.github.io/fake-jobs/jobs/bonds-trader-54.html',\n",
       " 'https://www.realpython.com',\n",
       " 'https://realpython.github.io/fake-jobs/jobs/editorial-assistant-55.html',\n",
       " 'https://www.realpython.com',\n",
       " 'https://realpython.github.io/fake-jobs/jobs/photographer-56.html',\n",
       " 'https://www.realpython.com',\n",
       " 'https://realpython.github.io/fake-jobs/jobs/retail-banker-57.html',\n",
       " 'https://www.realpython.com',\n",
       " 'https://realpython.github.io/fake-jobs/jobs/jewellery-designer-58.html',\n",
       " 'https://www.realpython.com',\n",
       " 'https://realpython.github.io/fake-jobs/jobs/ophthalmologist-59.html',\n",
       " 'https://www.realpython.com',\n",
       " 'https://realpython.github.io/fake-jobs/jobs/back-end-web-developer-python-django-60.html',\n",
       " 'https://www.realpython.com',\n",
       " 'https://realpython.github.io/fake-jobs/jobs/licensed-conveyancer-61.html',\n",
       " 'https://www.realpython.com',\n",
       " 'https://realpython.github.io/fake-jobs/jobs/futures-trader-62.html',\n",
       " 'https://www.realpython.com',\n",
       " 'https://realpython.github.io/fake-jobs/jobs/counselling-psychologist-63.html',\n",
       " 'https://www.realpython.com',\n",
       " 'https://realpython.github.io/fake-jobs/jobs/insurance-underwriter-64.html',\n",
       " 'https://www.realpython.com',\n",
       " 'https://realpython.github.io/fake-jobs/jobs/engineer-automotive-65.html',\n",
       " 'https://www.realpython.com',\n",
       " 'https://realpython.github.io/fake-jobs/jobs/producer-radio-66.html',\n",
       " 'https://www.realpython.com',\n",
       " 'https://realpython.github.io/fake-jobs/jobs/dispensing-optician-67.html',\n",
       " 'https://www.realpython.com',\n",
       " 'https://realpython.github.io/fake-jobs/jobs/designer-fashion-clothing-68.html',\n",
       " 'https://www.realpython.com',\n",
       " 'https://realpython.github.io/fake-jobs/jobs/chartered-loss-adjuster-69.html',\n",
       " 'https://www.realpython.com',\n",
       " 'https://realpython.github.io/fake-jobs/jobs/back-end-web-developer-python-django-70.html',\n",
       " 'https://www.realpython.com',\n",
       " 'https://realpython.github.io/fake-jobs/jobs/forest-woodland-manager-71.html',\n",
       " 'https://www.realpython.com',\n",
       " 'https://realpython.github.io/fake-jobs/jobs/clinical-cytogeneticist-72.html',\n",
       " 'https://www.realpython.com',\n",
       " 'https://realpython.github.io/fake-jobs/jobs/print-production-planner-73.html',\n",
       " 'https://www.realpython.com',\n",
       " 'https://realpython.github.io/fake-jobs/jobs/systems-developer-74.html',\n",
       " 'https://www.realpython.com',\n",
       " 'https://realpython.github.io/fake-jobs/jobs/graphic-designer-75.html',\n",
       " 'https://www.realpython.com',\n",
       " 'https://realpython.github.io/fake-jobs/jobs/writer-76.html',\n",
       " 'https://www.realpython.com',\n",
       " 'https://realpython.github.io/fake-jobs/jobs/field-seismologist-77.html',\n",
       " 'https://www.realpython.com',\n",
       " 'https://realpython.github.io/fake-jobs/jobs/chief-strategy-officer-78.html',\n",
       " 'https://www.realpython.com',\n",
       " 'https://realpython.github.io/fake-jobs/jobs/air-cabin-crew-79.html',\n",
       " 'https://www.realpython.com',\n",
       " 'https://realpython.github.io/fake-jobs/jobs/python-programmer-entry-level-80.html',\n",
       " 'https://www.realpython.com',\n",
       " 'https://realpython.github.io/fake-jobs/jobs/warden-ranger-81.html',\n",
       " 'https://www.realpython.com',\n",
       " 'https://realpython.github.io/fake-jobs/jobs/sports-therapist-82.html',\n",
       " 'https://www.realpython.com',\n",
       " 'https://realpython.github.io/fake-jobs/jobs/arts-development-officer-83.html',\n",
       " 'https://www.realpython.com',\n",
       " 'https://realpython.github.io/fake-jobs/jobs/printmaker-84.html',\n",
       " 'https://www.realpython.com',\n",
       " 'https://realpython.github.io/fake-jobs/jobs/health-and-safety-adviser-85.html',\n",
       " 'https://www.realpython.com',\n",
       " 'https://realpython.github.io/fake-jobs/jobs/manufacturing-systems-engineer-86.html',\n",
       " 'https://www.realpython.com',\n",
       " 'https://realpython.github.io/fake-jobs/jobs/programmer-applications-87.html',\n",
       " 'https://www.realpython.com',\n",
       " 'https://realpython.github.io/fake-jobs/jobs/medical-physicist-88.html',\n",
       " 'https://www.realpython.com',\n",
       " 'https://realpython.github.io/fake-jobs/jobs/media-planner-89.html',\n",
       " 'https://www.realpython.com',\n",
       " 'https://realpython.github.io/fake-jobs/jobs/software-developer-python-90.html',\n",
       " 'https://www.realpython.com',\n",
       " 'https://realpython.github.io/fake-jobs/jobs/surveyor-land-geomatics-91.html',\n",
       " 'https://www.realpython.com',\n",
       " 'https://realpython.github.io/fake-jobs/jobs/legal-executive-92.html',\n",
       " 'https://www.realpython.com',\n",
       " 'https://realpython.github.io/fake-jobs/jobs/librarian-academic-93.html',\n",
       " 'https://www.realpython.com',\n",
       " 'https://realpython.github.io/fake-jobs/jobs/barrister-94.html',\n",
       " 'https://www.realpython.com',\n",
       " 'https://realpython.github.io/fake-jobs/jobs/museum-gallery-exhibitions-officer-95.html',\n",
       " 'https://www.realpython.com',\n",
       " 'https://realpython.github.io/fake-jobs/jobs/radiographer-diagnostic-96.html',\n",
       " 'https://www.realpython.com',\n",
       " 'https://realpython.github.io/fake-jobs/jobs/database-administrator-97.html',\n",
       " 'https://www.realpython.com',\n",
       " 'https://realpython.github.io/fake-jobs/jobs/furniture-designer-98.html',\n",
       " 'https://www.realpython.com',\n",
       " 'https://realpython.github.io/fake-jobs/jobs/ship-broker-99.html']"
      ]
     },
     "execution_count": 50,
     "metadata": {},
     "output_type": "execute_result"
    }
   ],
   "source": [
    "urls1_posted"
   ]
  },
  {
   "cell_type": "code",
   "execution_count": 52,
   "id": "e8676029-f281-4398-bf6e-3dacc03b93a1",
   "metadata": {},
   "outputs": [
    {
     "data": {
      "text/plain": [
       "['https://realpython.github.io/fake-jobs/jobs/senior-python-developer-0.html',\n",
       " 'https://realpython.github.io/fake-jobs/jobs/energy-engineer-1.html',\n",
       " 'https://realpython.github.io/fake-jobs/jobs/legal-executive-2.html',\n",
       " 'https://realpython.github.io/fake-jobs/jobs/fitness-centre-manager-3.html',\n",
       " 'https://realpython.github.io/fake-jobs/jobs/product-manager-4.html',\n",
       " 'https://realpython.github.io/fake-jobs/jobs/medical-technical-officer-5.html',\n",
       " 'https://realpython.github.io/fake-jobs/jobs/physiological-scientist-6.html',\n",
       " 'https://realpython.github.io/fake-jobs/jobs/textile-designer-7.html',\n",
       " 'https://realpython.github.io/fake-jobs/jobs/television-floor-manager-8.html',\n",
       " 'https://realpython.github.io/fake-jobs/jobs/waste-management-officer-9.html',\n",
       " 'https://realpython.github.io/fake-jobs/jobs/software-engineer-python-10.html',\n",
       " 'https://realpython.github.io/fake-jobs/jobs/interpreter-11.html',\n",
       " 'https://realpython.github.io/fake-jobs/jobs/architect-12.html',\n",
       " 'https://realpython.github.io/fake-jobs/jobs/meteorologist-13.html',\n",
       " 'https://realpython.github.io/fake-jobs/jobs/audiological-scientist-14.html',\n",
       " 'https://realpython.github.io/fake-jobs/jobs/english-as-a-second-language-teacher-15.html',\n",
       " 'https://realpython.github.io/fake-jobs/jobs/surgeon-16.html',\n",
       " 'https://realpython.github.io/fake-jobs/jobs/equities-trader-17.html',\n",
       " 'https://realpython.github.io/fake-jobs/jobs/newspaper-journalist-18.html',\n",
       " 'https://realpython.github.io/fake-jobs/jobs/materials-engineer-19.html',\n",
       " 'https://realpython.github.io/fake-jobs/jobs/python-programmer-entry-level-20.html',\n",
       " 'https://realpython.github.io/fake-jobs/jobs/product-process-development-scientist-21.html',\n",
       " 'https://realpython.github.io/fake-jobs/jobs/scientist-research-maths-22.html',\n",
       " 'https://realpython.github.io/fake-jobs/jobs/ecologist-23.html',\n",
       " 'https://realpython.github.io/fake-jobs/jobs/materials-engineer-24.html',\n",
       " 'https://realpython.github.io/fake-jobs/jobs/historic-buildings-inspector-conservation-officer-25.html',\n",
       " 'https://realpython.github.io/fake-jobs/jobs/data-scientist-26.html',\n",
       " 'https://realpython.github.io/fake-jobs/jobs/psychiatrist-27.html',\n",
       " 'https://realpython.github.io/fake-jobs/jobs/structural-engineer-28.html',\n",
       " 'https://realpython.github.io/fake-jobs/jobs/immigration-officer-29.html',\n",
       " 'https://realpython.github.io/fake-jobs/jobs/python-programmer-entry-level-30.html',\n",
       " 'https://realpython.github.io/fake-jobs/jobs/neurosurgeon-31.html',\n",
       " 'https://realpython.github.io/fake-jobs/jobs/broadcast-engineer-32.html',\n",
       " 'https://realpython.github.io/fake-jobs/jobs/make-33.html',\n",
       " 'https://realpython.github.io/fake-jobs/jobs/nurse-adult-34.html',\n",
       " 'https://realpython.github.io/fake-jobs/jobs/air-broker-35.html',\n",
       " 'https://realpython.github.io/fake-jobs/jobs/editor-film-video-36.html',\n",
       " 'https://realpython.github.io/fake-jobs/jobs/production-assistant-radio-37.html',\n",
       " 'https://realpython.github.io/fake-jobs/jobs/engineer-communications-38.html',\n",
       " 'https://realpython.github.io/fake-jobs/jobs/sales-executive-39.html',\n",
       " 'https://realpython.github.io/fake-jobs/jobs/software-developer-python-40.html',\n",
       " 'https://realpython.github.io/fake-jobs/jobs/futures-trader-41.html',\n",
       " 'https://realpython.github.io/fake-jobs/jobs/tour-manager-42.html',\n",
       " 'https://realpython.github.io/fake-jobs/jobs/cytogeneticist-43.html',\n",
       " 'https://realpython.github.io/fake-jobs/jobs/designer-multimedia-44.html',\n",
       " 'https://realpython.github.io/fake-jobs/jobs/trade-union-research-officer-45.html',\n",
       " 'https://realpython.github.io/fake-jobs/jobs/chemist-analytical-46.html',\n",
       " 'https://realpython.github.io/fake-jobs/jobs/programmer-multimedia-47.html',\n",
       " 'https://realpython.github.io/fake-jobs/jobs/engineer-broadcasting-operations-48.html',\n",
       " 'https://realpython.github.io/fake-jobs/jobs/teacher-primary-school-49.html',\n",
       " 'https://realpython.github.io/fake-jobs/jobs/python-developer-50.html',\n",
       " 'https://realpython.github.io/fake-jobs/jobs/manufacturing-systems-engineer-51.html',\n",
       " 'https://realpython.github.io/fake-jobs/jobs/producer-television-film-video-52.html',\n",
       " 'https://realpython.github.io/fake-jobs/jobs/scientist-forensic-53.html',\n",
       " 'https://realpython.github.io/fake-jobs/jobs/bonds-trader-54.html',\n",
       " 'https://realpython.github.io/fake-jobs/jobs/editorial-assistant-55.html',\n",
       " 'https://realpython.github.io/fake-jobs/jobs/photographer-56.html',\n",
       " 'https://realpython.github.io/fake-jobs/jobs/retail-banker-57.html',\n",
       " 'https://realpython.github.io/fake-jobs/jobs/jewellery-designer-58.html',\n",
       " 'https://realpython.github.io/fake-jobs/jobs/ophthalmologist-59.html',\n",
       " 'https://realpython.github.io/fake-jobs/jobs/back-end-web-developer-python-django-60.html',\n",
       " 'https://realpython.github.io/fake-jobs/jobs/licensed-conveyancer-61.html',\n",
       " 'https://realpython.github.io/fake-jobs/jobs/futures-trader-62.html',\n",
       " 'https://realpython.github.io/fake-jobs/jobs/counselling-psychologist-63.html',\n",
       " 'https://realpython.github.io/fake-jobs/jobs/insurance-underwriter-64.html',\n",
       " 'https://realpython.github.io/fake-jobs/jobs/engineer-automotive-65.html',\n",
       " 'https://realpython.github.io/fake-jobs/jobs/producer-radio-66.html',\n",
       " 'https://realpython.github.io/fake-jobs/jobs/dispensing-optician-67.html',\n",
       " 'https://realpython.github.io/fake-jobs/jobs/designer-fashion-clothing-68.html',\n",
       " 'https://realpython.github.io/fake-jobs/jobs/chartered-loss-adjuster-69.html',\n",
       " 'https://realpython.github.io/fake-jobs/jobs/back-end-web-developer-python-django-70.html',\n",
       " 'https://realpython.github.io/fake-jobs/jobs/forest-woodland-manager-71.html',\n",
       " 'https://realpython.github.io/fake-jobs/jobs/clinical-cytogeneticist-72.html',\n",
       " 'https://realpython.github.io/fake-jobs/jobs/print-production-planner-73.html',\n",
       " 'https://realpython.github.io/fake-jobs/jobs/systems-developer-74.html',\n",
       " 'https://realpython.github.io/fake-jobs/jobs/graphic-designer-75.html',\n",
       " 'https://realpython.github.io/fake-jobs/jobs/writer-76.html',\n",
       " 'https://realpython.github.io/fake-jobs/jobs/field-seismologist-77.html',\n",
       " 'https://realpython.github.io/fake-jobs/jobs/chief-strategy-officer-78.html',\n",
       " 'https://realpython.github.io/fake-jobs/jobs/air-cabin-crew-79.html',\n",
       " 'https://realpython.github.io/fake-jobs/jobs/python-programmer-entry-level-80.html',\n",
       " 'https://realpython.github.io/fake-jobs/jobs/warden-ranger-81.html',\n",
       " 'https://realpython.github.io/fake-jobs/jobs/sports-therapist-82.html',\n",
       " 'https://realpython.github.io/fake-jobs/jobs/arts-development-officer-83.html',\n",
       " 'https://realpython.github.io/fake-jobs/jobs/printmaker-84.html',\n",
       " 'https://realpython.github.io/fake-jobs/jobs/health-and-safety-adviser-85.html',\n",
       " 'https://realpython.github.io/fake-jobs/jobs/manufacturing-systems-engineer-86.html',\n",
       " 'https://realpython.github.io/fake-jobs/jobs/programmer-applications-87.html',\n",
       " 'https://realpython.github.io/fake-jobs/jobs/medical-physicist-88.html',\n",
       " 'https://realpython.github.io/fake-jobs/jobs/media-planner-89.html',\n",
       " 'https://realpython.github.io/fake-jobs/jobs/software-developer-python-90.html',\n",
       " 'https://realpython.github.io/fake-jobs/jobs/surveyor-land-geomatics-91.html',\n",
       " 'https://realpython.github.io/fake-jobs/jobs/legal-executive-92.html',\n",
       " 'https://realpython.github.io/fake-jobs/jobs/librarian-academic-93.html',\n",
       " 'https://realpython.github.io/fake-jobs/jobs/barrister-94.html',\n",
       " 'https://realpython.github.io/fake-jobs/jobs/museum-gallery-exhibitions-officer-95.html',\n",
       " 'https://realpython.github.io/fake-jobs/jobs/radiographer-diagnostic-96.html',\n",
       " 'https://realpython.github.io/fake-jobs/jobs/database-administrator-97.html',\n",
       " 'https://realpython.github.io/fake-jobs/jobs/furniture-designer-98.html',\n",
       " 'https://realpython.github.io/fake-jobs/jobs/ship-broker-99.html']"
      ]
     },
     "execution_count": 52,
     "metadata": {},
     "output_type": "execute_result"
    }
   ],
   "source": [
    "new_urls1 = urls1_posted[1::2]\n",
    "new_urls1"
   ]
  },
  {
   "cell_type": "code",
   "execution_count": 54,
   "id": "b01d0c66-d6e8-4c52-83a1-4ac54528be57",
   "metadata": {},
   "outputs": [],
   "source": [
    "fakejobs_df['urls'] = new_urls1"
   ]
  },
  {
   "cell_type": "code",
   "execution_count": 56,
   "id": "0bfe184a-bcb4-4b26-ab3b-a8ff4fc6f43d",
   "metadata": {},
   "outputs": [
    {
     "data": {
      "text/html": [
       "<div>\n",
       "<style scoped>\n",
       "    .dataframe tbody tr th:only-of-type {\n",
       "        vertical-align: middle;\n",
       "    }\n",
       "\n",
       "    .dataframe tbody tr th {\n",
       "        vertical-align: top;\n",
       "    }\n",
       "\n",
       "    .dataframe thead th {\n",
       "        text-align: right;\n",
       "    }\n",
       "</style>\n",
       "<table border=\"1\" class=\"dataframe\">\n",
       "  <thead>\n",
       "    <tr style=\"text-align: right;\">\n",
       "      <th></th>\n",
       "      <th>job titles</th>\n",
       "      <th>company</th>\n",
       "      <th>location</th>\n",
       "      <th>date posted</th>\n",
       "      <th>urls</th>\n",
       "    </tr>\n",
       "  </thead>\n",
       "  <tbody>\n",
       "    <tr>\n",
       "      <th>0</th>\n",
       "      <td>Senior Python Developer</td>\n",
       "      <td>Payne, Roberts and Davis</td>\n",
       "      <td>Payne, Roberts and Davis</td>\n",
       "      <td>2021-04-08</td>\n",
       "      <td>https://realpython.github.io/fake-jobs/jobs/se...</td>\n",
       "    </tr>\n",
       "    <tr>\n",
       "      <th>1</th>\n",
       "      <td>Energy engineer</td>\n",
       "      <td>Vasquez-Davidson</td>\n",
       "      <td>Vasquez-Davidson</td>\n",
       "      <td>2021-04-08</td>\n",
       "      <td>https://realpython.github.io/fake-jobs/jobs/en...</td>\n",
       "    </tr>\n",
       "    <tr>\n",
       "      <th>2</th>\n",
       "      <td>Legal executive</td>\n",
       "      <td>Jackson, Chambers and Levy</td>\n",
       "      <td>Jackson, Chambers and Levy</td>\n",
       "      <td>2021-04-08</td>\n",
       "      <td>https://realpython.github.io/fake-jobs/jobs/le...</td>\n",
       "    </tr>\n",
       "    <tr>\n",
       "      <th>3</th>\n",
       "      <td>Fitness centre manager</td>\n",
       "      <td>Savage-Bradley</td>\n",
       "      <td>Savage-Bradley</td>\n",
       "      <td>2021-04-08</td>\n",
       "      <td>https://realpython.github.io/fake-jobs/jobs/fi...</td>\n",
       "    </tr>\n",
       "    <tr>\n",
       "      <th>4</th>\n",
       "      <td>Product manager</td>\n",
       "      <td>Ramirez Inc</td>\n",
       "      <td>Ramirez Inc</td>\n",
       "      <td>2021-04-08</td>\n",
       "      <td>https://realpython.github.io/fake-jobs/jobs/pr...</td>\n",
       "    </tr>\n",
       "  </tbody>\n",
       "</table>\n",
       "</div>"
      ],
      "text/plain": [
       "                job titles                     company  \\\n",
       "0  Senior Python Developer    Payne, Roberts and Davis   \n",
       "1          Energy engineer            Vasquez-Davidson   \n",
       "2          Legal executive  Jackson, Chambers and Levy   \n",
       "3   Fitness centre manager              Savage-Bradley   \n",
       "4          Product manager                 Ramirez Inc   \n",
       "\n",
       "                     location date posted  \\\n",
       "0    Payne, Roberts and Davis  2021-04-08   \n",
       "1            Vasquez-Davidson  2021-04-08   \n",
       "2  Jackson, Chambers and Levy  2021-04-08   \n",
       "3              Savage-Bradley  2021-04-08   \n",
       "4                 Ramirez Inc  2021-04-08   \n",
       "\n",
       "                                                urls  \n",
       "0  https://realpython.github.io/fake-jobs/jobs/se...  \n",
       "1  https://realpython.github.io/fake-jobs/jobs/en...  \n",
       "2  https://realpython.github.io/fake-jobs/jobs/le...  \n",
       "3  https://realpython.github.io/fake-jobs/jobs/fi...  \n",
       "4  https://realpython.github.io/fake-jobs/jobs/pr...  "
      ]
     },
     "execution_count": 56,
     "metadata": {},
     "output_type": "execute_result"
    }
   ],
   "source": [
    "fakejobs_df.head()"
   ]
  },
  {
   "cell_type": "markdown",
   "id": "149cfa43-707e-47ca-8bd9-fb3759011049",
   "metadata": {},
   "source": [
    "b. Next, get those same urls in a different way. Examine the urls and see if you can spot the pattern of how they are constructed. Then, build the url using the elements you have already extracted. Ensure that the urls that you created match those that you extracted using BeautifulSoup. Warning: You will need to do some string cleaning and prep in constructing the urls this way. For example, look carefully at the urls for the \"Software Engineer (Python)\" job and the \"Scientist, research (maths)\" job."
   ]
  },
  {
   "cell_type": "code",
   "execution_count": 69,
   "id": "a76f04bf-3ece-4e82-9360-9e75a30ff606",
   "metadata": {},
   "outputs": [
    {
     "data": {
      "text/plain": [
       "['https://realpython.github.io/fake-jobs/jobs/senior-python-developer-0.html',\n",
       " 'https://realpython.github.io/fake-jobs/jobs/energy-engineer-1.html',\n",
       " 'https://realpython.github.io/fake-jobs/jobs/legal-executive-2.html',\n",
       " 'https://realpython.github.io/fake-jobs/jobs/fitness-centre-manager-3.html',\n",
       " 'https://realpython.github.io/fake-jobs/jobs/product-manager-4.html',\n",
       " 'https://realpython.github.io/fake-jobs/jobs/medical-technical-officer-5.html',\n",
       " 'https://realpython.github.io/fake-jobs/jobs/physiological-scientist-6.html',\n",
       " 'https://realpython.github.io/fake-jobs/jobs/textile-designer-7.html',\n",
       " 'https://realpython.github.io/fake-jobs/jobs/television-floor-manager-8.html',\n",
       " 'https://realpython.github.io/fake-jobs/jobs/waste-management-officer-9.html',\n",
       " 'https://realpython.github.io/fake-jobs/jobs/software-engineer-python-10.html',\n",
       " 'https://realpython.github.io/fake-jobs/jobs/interpreter-11.html',\n",
       " 'https://realpython.github.io/fake-jobs/jobs/architect-12.html',\n",
       " 'https://realpython.github.io/fake-jobs/jobs/meteorologist-13.html',\n",
       " 'https://realpython.github.io/fake-jobs/jobs/audiological-scientist-14.html',\n",
       " 'https://realpython.github.io/fake-jobs/jobs/english-as-a-second-language-teacher-15.html',\n",
       " 'https://realpython.github.io/fake-jobs/jobs/surgeon-16.html',\n",
       " 'https://realpython.github.io/fake-jobs/jobs/equities-trader-17.html',\n",
       " 'https://realpython.github.io/fake-jobs/jobs/newspaper-journalist-18.html',\n",
       " 'https://realpython.github.io/fake-jobs/jobs/materials-engineer-19.html',\n",
       " 'https://realpython.github.io/fake-jobs/jobs/python-programmer-entry-level-20.html',\n",
       " 'https://realpython.github.io/fake-jobs/jobs/product/process-development-scientist-21.html',\n",
       " 'https://realpython.github.io/fake-jobs/jobs/scientist,-research-maths-22.html',\n",
       " 'https://realpython.github.io/fake-jobs/jobs/ecologist-23.html',\n",
       " 'https://realpython.github.io/fake-jobs/jobs/materials-engineer-24.html',\n",
       " 'https://realpython.github.io/fake-jobs/jobs/historic-buildings-inspector/conservation-officer-25.html',\n",
       " 'https://realpython.github.io/fake-jobs/jobs/data-scientist-26.html',\n",
       " 'https://realpython.github.io/fake-jobs/jobs/psychiatrist-27.html',\n",
       " 'https://realpython.github.io/fake-jobs/jobs/structural-engineer-28.html',\n",
       " 'https://realpython.github.io/fake-jobs/jobs/immigration-officer-29.html',\n",
       " 'https://realpython.github.io/fake-jobs/jobs/python-programmer-entry-level-30.html',\n",
       " 'https://realpython.github.io/fake-jobs/jobs/neurosurgeon-31.html',\n",
       " 'https://realpython.github.io/fake-jobs/jobs/broadcast-engineer-32.html',\n",
       " 'https://realpython.github.io/fake-jobs/jobs/make-33.html',\n",
       " 'https://realpython.github.io/fake-jobs/jobs/nurse,-adult-34.html',\n",
       " 'https://realpython.github.io/fake-jobs/jobs/air-broker-35.html',\n",
       " 'https://realpython.github.io/fake-jobs/jobs/editor,-film/video-36.html',\n",
       " 'https://realpython.github.io/fake-jobs/jobs/production-assistant,-radio-37.html',\n",
       " 'https://realpython.github.io/fake-jobs/jobs/engineer,-communications-38.html',\n",
       " 'https://realpython.github.io/fake-jobs/jobs/sales-executive-39.html',\n",
       " 'https://realpython.github.io/fake-jobs/jobs/software-developer-python-40.html',\n",
       " 'https://realpython.github.io/fake-jobs/jobs/futures-trader-41.html',\n",
       " 'https://realpython.github.io/fake-jobs/jobs/tour-manager-42.html',\n",
       " 'https://realpython.github.io/fake-jobs/jobs/cytogeneticist-43.html',\n",
       " 'https://realpython.github.io/fake-jobs/jobs/designer,-multimedia-44.html',\n",
       " 'https://realpython.github.io/fake-jobs/jobs/trade-union-research-officer-45.html',\n",
       " 'https://realpython.github.io/fake-jobs/jobs/chemist,-analytical-46.html',\n",
       " 'https://realpython.github.io/fake-jobs/jobs/programmer,-multimedia-47.html',\n",
       " 'https://realpython.github.io/fake-jobs/jobs/engineer,-broadcasting-operations-48.html',\n",
       " 'https://realpython.github.io/fake-jobs/jobs/teacher,-primary-school-49.html',\n",
       " 'https://realpython.github.io/fake-jobs/jobs/python-developer-50.html',\n",
       " 'https://realpython.github.io/fake-jobs/jobs/manufacturing-systems-engineer-51.html',\n",
       " 'https://realpython.github.io/fake-jobs/jobs/producer,-television/film/video-52.html',\n",
       " 'https://realpython.github.io/fake-jobs/jobs/scientist,-forensic-53.html',\n",
       " 'https://realpython.github.io/fake-jobs/jobs/bonds-trader-54.html',\n",
       " 'https://realpython.github.io/fake-jobs/jobs/editorial-assistant-55.html',\n",
       " 'https://realpython.github.io/fake-jobs/jobs/photographer-56.html',\n",
       " 'https://realpython.github.io/fake-jobs/jobs/retail-banker-57.html',\n",
       " 'https://realpython.github.io/fake-jobs/jobs/jewellery-designer-58.html',\n",
       " 'https://realpython.github.io/fake-jobs/jobs/ophthalmologist-59.html',\n",
       " 'https://realpython.github.io/fake-jobs/jobs/back-end-web-developer-python,-django-60.html',\n",
       " 'https://realpython.github.io/fake-jobs/jobs/licensed-conveyancer-61.html',\n",
       " 'https://realpython.github.io/fake-jobs/jobs/futures-trader-62.html',\n",
       " 'https://realpython.github.io/fake-jobs/jobs/counselling-psychologist-63.html',\n",
       " 'https://realpython.github.io/fake-jobs/jobs/insurance-underwriter-64.html',\n",
       " 'https://realpython.github.io/fake-jobs/jobs/engineer,-automotive-65.html',\n",
       " 'https://realpython.github.io/fake-jobs/jobs/producer,-radio-66.html',\n",
       " 'https://realpython.github.io/fake-jobs/jobs/dispensing-optician-67.html',\n",
       " 'https://realpython.github.io/fake-jobs/jobs/designer,-fashion/clothing-68.html',\n",
       " 'https://realpython.github.io/fake-jobs/jobs/chartered-loss-adjuster-69.html',\n",
       " 'https://realpython.github.io/fake-jobs/jobs/back-end-web-developer-python,-django-70.html',\n",
       " 'https://realpython.github.io/fake-jobs/jobs/forest/woodland-manager-71.html',\n",
       " 'https://realpython.github.io/fake-jobs/jobs/clinical-cytogeneticist-72.html',\n",
       " 'https://realpython.github.io/fake-jobs/jobs/print-production-planner-73.html',\n",
       " 'https://realpython.github.io/fake-jobs/jobs/systems-developer-74.html',\n",
       " 'https://realpython.github.io/fake-jobs/jobs/graphic-designer-75.html',\n",
       " 'https://realpython.github.io/fake-jobs/jobs/writer-76.html',\n",
       " 'https://realpython.github.io/fake-jobs/jobs/field-seismologist-77.html',\n",
       " 'https://realpython.github.io/fake-jobs/jobs/chief-strategy-officer-78.html',\n",
       " 'https://realpython.github.io/fake-jobs/jobs/air-cabin-crew-79.html',\n",
       " 'https://realpython.github.io/fake-jobs/jobs/python-programmer-entry-level-80.html',\n",
       " 'https://realpython.github.io/fake-jobs/jobs/warden/ranger-81.html',\n",
       " 'https://realpython.github.io/fake-jobs/jobs/sports-therapist-82.html',\n",
       " 'https://realpython.github.io/fake-jobs/jobs/arts-development-officer-83.html',\n",
       " 'https://realpython.github.io/fake-jobs/jobs/printmaker-84.html',\n",
       " 'https://realpython.github.io/fake-jobs/jobs/health-and-safety-adviser-85.html',\n",
       " 'https://realpython.github.io/fake-jobs/jobs/manufacturing-systems-engineer-86.html',\n",
       " 'https://realpython.github.io/fake-jobs/jobs/programmer,-applications-87.html',\n",
       " 'https://realpython.github.io/fake-jobs/jobs/medical-physicist-88.html',\n",
       " 'https://realpython.github.io/fake-jobs/jobs/media-planner-89.html',\n",
       " 'https://realpython.github.io/fake-jobs/jobs/software-developer-python-90.html',\n",
       " 'https://realpython.github.io/fake-jobs/jobs/surveyor,-land/geomatics-91.html',\n",
       " 'https://realpython.github.io/fake-jobs/jobs/legal-executive-92.html',\n",
       " 'https://realpython.github.io/fake-jobs/jobs/librarian,-academic-93.html',\n",
       " 'https://realpython.github.io/fake-jobs/jobs/barrister-94.html',\n",
       " 'https://realpython.github.io/fake-jobs/jobs/museum/gallery-exhibitions-officer-95.html',\n",
       " 'https://realpython.github.io/fake-jobs/jobs/radiographer,-diagnostic-96.html',\n",
       " 'https://realpython.github.io/fake-jobs/jobs/database-administrator-97.html',\n",
       " 'https://realpython.github.io/fake-jobs/jobs/furniture-designer-98.html',\n",
       " 'https://realpython.github.io/fake-jobs/jobs/ship-broker-99.html']"
      ]
     },
     "execution_count": 69,
     "metadata": {},
     "output_type": "execute_result"
    }
   ],
   "source": [
    "# titles = [job.text for job in soup.find_all(\"h2\", attrs = {'class':\"title\"})] #already have a job titles list job_titles\n",
    "base_url = \"https://realpython.github.io/fake-jobs/jobs/\" #used to get the beginning in the pattern \n",
    "def create_url(title, index): #title from the job_titles list, index used to create the end of the url\n",
    "    title_cleaned = title.replace(\"(\", \"\").replace(\")\", \"\")\n",
    "    title_formatted = title_cleaned.lower().replace(\" \", \"-\")\n",
    "    return f\"{base_url}{title_formatted}-{index}.html\"\n",
    "urls2 = [create_url(title, i) for i, title in enumerate(job_titles)] #enumerate provides the index for each title\n",
    "urls2"
   ]
  },
  {
   "cell_type": "markdown",
   "id": "a2ca039b-34dd-4eef-8081-b098cddda55b",
   "metadata": {},
   "source": [
    "3. Finally, we want to get the job description text for each job.  "
   ]
  },
  {
   "cell_type": "markdown",
   "id": "231ef612-1a51-449e-9a87-357826d969dc",
   "metadata": {},
   "source": [
    "a. Start by looking at the page for the first job, https://realpython.github.io/fake-jobs/jobs/senior-python-developer-0.html. Using BeautifulSoup, extract the job description paragraph."
   ]
  },
  {
   "cell_type": "code",
   "execution_count": 61,
   "id": "e93fa3bd-2eb3-4d25-8c44-df9781eac8e7",
   "metadata": {},
   "outputs": [],
   "source": [
    "#import the url first for the soup \n",
    "\n",
    "url_description = 'https://realpython.github.io/fake-jobs/jobs/senior-python-developer-0.html'\n",
    "\n",
    "response_url_description = requests.get(url_description)"
   ]
  },
  {
   "cell_type": "code",
   "execution_count": 63,
   "id": "684de24a-b04b-43b9-a183-641e9a04868e",
   "metadata": {},
   "outputs": [
    {
     "data": {
      "text/plain": [
       "requests.models.Response"
      ]
     },
     "execution_count": 63,
     "metadata": {},
     "output_type": "execute_result"
    }
   ],
   "source": [
    "type(response_url_description)"
   ]
  },
  {
   "cell_type": "code",
   "execution_count": 141,
   "id": "c57e9f4f-5aaa-4ddc-a42a-7119b1d1b037",
   "metadata": {},
   "outputs": [
    {
     "data": {
      "text/plain": [
       "'<!DOCTYPE html>\\n<html>\\n  <head>\\n    <meta charset=\"utf-8\">\\n    <meta name=\"viewport\" content=\"width=device-width, initial-scale=1\">\\n    <title>Fake Python</title>\\n    <link rel=\"stylesheet\" href=\"https://cdn.jsdelivr.net/npm/bulma@0.9.2/css/bulma.min.css\">\\n  </head>\\n  <body>\\n  <section class=\"section\">\\n    <div class=\"container mb-5\">\\n      <h1 class=\"title is-1\">\\n        Fake Python\\n      </h1>\\n      <p class=\"subtitle is-3\">\\n        Fake Jobs for Your Web Scraping Journey\\n      </p>\\n    </div>\\n    <div class=\"container\">\\n    <div id=\"ResultsContainer\" class=\"columns is-multiline\">\\n    <div class=\"box\">\\n<h1 class=\"title is-2\">Senior Python Developer</h1>\\n<h2 class=\"subtitle is-4 company\">Payne, Roberts and Davis</h2>\\n<div class=\"content\">\\n    <p>Professional asset web application environmentally friendly detail-oriented asset. Coordinate educational dashboard agile employ growth opportunity. Company programs CSS explore role. Html educational grit web application. Oversea SCRUM talented support. Web Application fast-growing communities inclusive programs job CSS. Css discussions growth opportunity explore open-minded oversee. Css Python environmentally friendly collaborate inclusive role. Django no experience oversee dashboard environmentally friendly willing to learn programs. Programs open-minded programs asset.</p>\\n    <p id=\"location\"><strong>Location:</strong> Stewartbury, AA</p>\\n    <p id=\"date\"><strong>Posted:</strong> 2021-04-08</p>\\n</div>\\n</div>\\n\\n    </div>\\n    </div>\\n  </section>\\n  </body>\\n</html>\\n'"
      ]
     },
     "execution_count": 141,
     "metadata": {},
     "output_type": "execute_result"
    }
   ],
   "source": [
    "response_url_description.text"
   ]
  },
  {
   "cell_type": "code",
   "execution_count": 185,
   "id": "1ec05f71-e8f9-48bc-8925-492e5dad2a41",
   "metadata": {},
   "outputs": [],
   "source": [
    "#soupify the url\n",
    "\n",
    "soup3 = BS(response_url_description.text)"
   ]
  },
  {
   "cell_type": "code",
   "execution_count": 247,
   "id": "33459eb7-a490-4e5b-8754-d62393b4ba83",
   "metadata": {},
   "outputs": [
    {
     "data": {
      "text/plain": [
       "'Professional asset web application environmentally friendly detail-oriented asset. Coordinate educational dashboard agile employ growth opportunity. Company programs CSS explore role. Html educational grit web application. Oversea SCRUM talented support. Web Application fast-growing communities inclusive programs job CSS. Css discussions growth opportunity explore open-minded oversee. Css Python environmentally friendly collaborate inclusive role. Django no experience oversee dashboard environmentally friendly willing to learn programs. Programs open-minded programs asset.'"
      ]
     },
     "execution_count": 247,
     "metadata": {},
     "output_type": "execute_result"
    }
   ],
   "source": [
    "p = soup3.find('div', class_ = 'content')\n",
    "p_description = p.get_text().strip()\n",
    "split_p = p_description.split('\\n')\n",
    "p_description_cleaned = split_p[0]\n",
    "p_description_cleaned\n",
    "#p_description[1:-46]"
   ]
  },
  {
   "cell_type": "markdown",
   "id": "419002ba-61e9-4a46-9b84-11edb165a721",
   "metadata": {},
   "source": [
    "b. We want to be able to do this for all pages. Write a function which takes as input a url and returns the description text on that page. For example, if you input \"https://realpython.github.io/fake-jobs/jobs/television-floor-manager-8.html\" into your function, it should return the string \"At be than always different American address. Former claim chance prevent why measure too. Almost before some military outside baby interview. Face top individual win suddenly. Parent do ten after those scientist. Medical effort assume teacher wall. Significant his himself clearly very. Expert stop area along individual. Three own bank recognize special good along.\"."
   ]
  },
  {
   "cell_type": "code",
   "execution_count": 237,
   "id": "42fa899c-8e1b-4b59-ba89-adc235f0a633",
   "metadata": {},
   "outputs": [
    {
     "ename": "SyntaxError",
     "evalue": "invalid syntax. Maybe you meant '==' or ':=' instead of '='? (1117313353.py, line 2)",
     "output_type": "error",
     "traceback": [
      "\u001b[1;36m  Cell \u001b[1;32mIn[237], line 2\u001b[1;36m\u001b[0m\n\u001b[1;33m    for ('div', class_ = 'content') in urls1_posted\u001b[0m\n\u001b[1;37m                ^\u001b[0m\n\u001b[1;31mSyntaxError\u001b[0m\u001b[1;31m:\u001b[0m invalid syntax. Maybe you meant '==' or ':=' instead of '='?\n"
     ]
    }
   ],
   "source": [
    "def describe(url):\n",
    "    for #something in urls1_posted\n",
    "    return p_description "
   ]
  },
  {
   "cell_type": "markdown",
   "id": "e580fd00-53b7-4a73-acbc-9291f2c6230a",
   "metadata": {},
   "source": [
    "c. Use the .apply method on the url column you created above to retrieve the description text for all of the jobs."
   ]
  },
  {
   "cell_type": "code",
   "execution_count": null,
   "id": "37ba3aac-c619-442d-ba36-d1f31f77c0dc",
   "metadata": {},
   "outputs": [],
   "source": []
  }
 ],
 "metadata": {
  "kernelspec": {
   "display_name": "Python 3 (ipykernel)",
   "language": "python",
   "name": "python3"
  },
  "language_info": {
   "codemirror_mode": {
    "name": "ipython",
    "version": 3
   },
   "file_extension": ".py",
   "mimetype": "text/x-python",
   "name": "python",
   "nbconvert_exporter": "python",
   "pygments_lexer": "ipython3",
   "version": "3.12.4"
  }
 },
 "nbformat": 4,
 "nbformat_minor": 5
}
